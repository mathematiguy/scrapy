{
 "cells": [
  {
   "cell_type": "markdown",
   "metadata": {},
   "source": [
    "# Getting Details of Representatives"
   ]
  },
  {
   "cell_type": "markdown",
   "metadata": {},
   "source": [
    "Working with government data - one idea is making it easy for members of the public to find and contact their public representatives.\n",
    "\n",
    "The first step is to find out which datasets are relevant to the problem."
   ]
  },
  {
   "cell_type": "code",
   "execution_count": 1,
   "metadata": {
    "collapsed": true
   },
   "outputs": [],
   "source": [
    "# The usual imports\n",
    "import numpy as np\n",
    "import pandas as pd\n",
    "import matplotlib\n",
    "import matplotlib.pyplot as plt\n",
    "% matplotlib inline\n",
    "import seaborn; seaborn.set()"
   ]
  },
  {
   "cell_type": "code",
   "execution_count": 2,
   "metadata": {
    "collapsed": true
   },
   "outputs": [],
   "source": [
    "govt_data = pd.read_json('govtdata.json')\n",
    "govt_data = govt_data[['title', 'agency', 'description', 'formats', 'link']]"
   ]
  },
  {
   "cell_type": "code",
   "execution_count": 5,
   "metadata": {
    "collapsed": false
   },
   "outputs": [
    {
     "data": {
      "text/html": [
       "<div>\n",
       "<table border=\"1\" class=\"dataframe\">\n",
       "  <thead>\n",
       "    <tr style=\"text-align: right;\">\n",
       "      <th></th>\n",
       "      <th>title</th>\n",
       "      <th>agency</th>\n",
       "      <th>description</th>\n",
       "      <th>formats</th>\n",
       "      <th>link</th>\n",
       "    </tr>\n",
       "  </thead>\n",
       "  <tbody>\n",
       "    <tr>\n",
       "      <th>0</th>\n",
       "      <td>Teachers Register</td>\n",
       "      <td>The Education Council of Aotearoa New Zealand</td>\n",
       "      <td>Register listing all teachers who hold registr...</td>\n",
       "      <td>[DB]</td>\n",
       "      <td>https://data.govt.nz/dataset/show/606</td>\n",
       "    </tr>\n",
       "    <tr>\n",
       "      <th>1</th>\n",
       "      <td>Ministry of Social Development Statistical Report</td>\n",
       "      <td>Ministry of Social Development</td>\n",
       "      <td>The Statistical Report contains statistical in...</td>\n",
       "      <td>[HTML, PDF]</td>\n",
       "      <td>https://data.govt.nz/dataset/show/603</td>\n",
       "    </tr>\n",
       "    <tr>\n",
       "      <th>2</th>\n",
       "      <td>Social services contract mapping</td>\n",
       "      <td>Ministry of Social Development</td>\n",
       "      <td>Contract mapping gives you easy access to info...</td>\n",
       "      <td>[HTML]</td>\n",
       "      <td>https://data.govt.nz/dataset/show/976</td>\n",
       "    </tr>\n",
       "    <tr>\n",
       "      <th>3</th>\n",
       "      <td>Benefit Fact Sheets</td>\n",
       "      <td>Ministry of Social Development</td>\n",
       "      <td>The Benefit Fact Sheets provide a high-level v...</td>\n",
       "      <td>[CSV, HTML, Spreadsheet]</td>\n",
       "      <td>https://data.govt.nz/dataset/show/4646</td>\n",
       "    </tr>\n",
       "    <tr>\n",
       "      <th>4</th>\n",
       "      <td>Social Housing Register</td>\n",
       "      <td>Ministry of Social Development</td>\n",
       "      <td>Displays the number of eligible applicants for...</td>\n",
       "      <td>[HTML, Spreadsheet]</td>\n",
       "      <td>https://data.govt.nz/dataset/show/4647</td>\n",
       "    </tr>\n",
       "  </tbody>\n",
       "</table>\n",
       "</div>"
      ],
      "text/plain": [
       "                                               title  \\\n",
       "0                                  Teachers Register   \n",
       "1  Ministry of Social Development Statistical Report   \n",
       "2                   Social services contract mapping   \n",
       "3                                Benefit Fact Sheets   \n",
       "4                            Social Housing Register   \n",
       "\n",
       "                                          agency  \\\n",
       "0  The Education Council of Aotearoa New Zealand   \n",
       "1                 Ministry of Social Development   \n",
       "2                 Ministry of Social Development   \n",
       "3                 Ministry of Social Development   \n",
       "4                 Ministry of Social Development   \n",
       "\n",
       "                                         description  \\\n",
       "0  Register listing all teachers who hold registr...   \n",
       "1  The Statistical Report contains statistical in...   \n",
       "2  Contract mapping gives you easy access to info...   \n",
       "3  The Benefit Fact Sheets provide a high-level v...   \n",
       "4  Displays the number of eligible applicants for...   \n",
       "\n",
       "                    formats                                    link  \n",
       "0                      [DB]   https://data.govt.nz/dataset/show/606  \n",
       "1               [HTML, PDF]   https://data.govt.nz/dataset/show/603  \n",
       "2                    [HTML]   https://data.govt.nz/dataset/show/976  \n",
       "3  [CSV, HTML, Spreadsheet]  https://data.govt.nz/dataset/show/4646  \n",
       "4       [HTML, Spreadsheet]  https://data.govt.nz/dataset/show/4647  "
      ]
     },
     "execution_count": 5,
     "metadata": {},
     "output_type": "execute_result"
    }
   ],
   "source": [
    "govt_data.head()"
   ]
  },
  {
   "cell_type": "code",
   "execution_count": 36,
   "metadata": {
    "collapsed": true
   },
   "outputs": [],
   "source": [
    "# Useful search tools\n",
    "def grepl(pattern, col):\n",
    "    return col.str.contains(pattern)\n",
    "\n",
    "def search_data(pattern, colname, search_in=\"\"):\n",
    "    pattern = pattern.upper()\n",
    "    if search_in == \"\": search_in = colname\n",
    "    return govt_data.ix[grepl(pattern, govt_data[search_in].fillna(\"\").str.upper()), colname]\n",
    "\n",
    "def print_col(col):\n",
    "    print(\"\\n\\n\".join(sorted([\"-%s\" %s for s in list(col)])))"
   ]
  },
  {
   "cell_type": "code",
   "execution_count": 40,
   "metadata": {
    "collapsed": false
   },
   "outputs": [
    {
     "data": {
      "text/html": [
       "<div>\n",
       "<table border=\"1\" class=\"dataframe\">\n",
       "  <thead>\n",
       "    <tr style=\"text-align: right;\">\n",
       "      <th></th>\n",
       "      <th>title</th>\n",
       "      <th>agency</th>\n",
       "      <th>description</th>\n",
       "      <th>formats</th>\n",
       "      <th>link</th>\n",
       "    </tr>\n",
       "  </thead>\n",
       "  <tbody>\n",
       "    <tr>\n",
       "      <th>17</th>\n",
       "      <td>The Government A-Z directory</td>\n",
       "      <td>Department of Internal Affairs</td>\n",
       "      <td>The Government A-Z directory is a list of New ...</td>\n",
       "      <td>[API, XML]</td>\n",
       "      <td>https://data.govt.nz/dataset/show/617</td>\n",
       "    </tr>\n",
       "  </tbody>\n",
       "</table>\n",
       "</div>"
      ],
      "text/plain": [
       "                           title                          agency  \\\n",
       "17  The Government A-Z directory  Department of Internal Affairs   \n",
       "\n",
       "                                          description     formats  \\\n",
       "17  The Government A-Z directory is a list of New ...  [API, XML]   \n",
       "\n",
       "                                     link  \n",
       "17  https://data.govt.nz/dataset/show/617  "
      ]
     },
     "execution_count": 40,
     "metadata": {},
     "output_type": "execute_result"
    }
   ],
   "source": [
    "govt_data[govt_data.title == \"The Government A-Z directory\"]"
   ]
  },
  {
   "cell_type": "code",
   "execution_count": 37,
   "metadata": {
    "collapsed": false
   },
   "outputs": [
    {
     "data": {
      "text/plain": [
       "16                        Government consultation listing\n",
       "17                           The Government A-Z directory\n",
       "18                                          DigitalNZ API\n",
       "57                     New Zealand Public Sector Websites\n",
       "97                         1893 Women’s Suffrage Petition\n",
       "100                              NZDF Personnel File List\n",
       "106     Lottery Grants Board Community Facilities gran...\n",
       "107     Lottery Grants Board Health Research grant rec...\n",
       "108     Lottery Grants Board Community Sector Research...\n",
       "109     Lottery Grants Board Outdoor Safety grant reci...\n",
       "110     Lottery Grants Board Marae Heritage and Facili...\n",
       "111     Lottery Grants Board World War One Commemorati...\n",
       "112     Lottery Grants Board Community Committee grant...\n",
       "113     Lottery Minister’s Discretionary Fund grant re...\n",
       "114     Record of Community Organisation Grants Scheme...\n",
       "123                       Gambling Expenditure Statistics\n",
       "125                                   Ministers' expenses\n",
       "177                  Local Authority Election Statistics \n",
       "179                                   Archway Agency List\n",
       "218                          Charities Register Open Data\n",
       "242                             Gaming machine statistics\n",
       "257          Annual Forecast of Passport Issuance Volumes\n",
       "282     Department of Internal Affairs Chief Executive...\n",
       "472                               Council contact details\n",
       "481                   Local Government Financial Datasets\n",
       "499             Women’s Franchise Petitions 1892 and 1893\n",
       "544                    Directory of New Zealand Libraries\n",
       "549           Statistical profiles of individual councils\n",
       "659                                   New Zealand Gazette\n",
       "1190           Publications New Zealand Metadata Dataset \n",
       "2032    FY 2007/08 Local Authority Development Contrib...\n",
       "2501    FY 2010/11 Local Authority Chief Executives' R...\n",
       "3222            Most Popular Male and Female First Names \n",
       "3273    data.govt.nz website usage statistics Nov 09 -...\n",
       "3455                               Dog control statistics\n",
       "4097    Better Public Services - Result 10: New Zealan...\n",
       "4331                   Index New Zealand Metadata Dataset\n",
       "Name: title, dtype: object"
      ]
     },
     "execution_count": 37,
     "metadata": {},
     "output_type": "execute_result"
    }
   ],
   "source": [
    "search_data('internal affairs', 'title', search_in='agency')"
   ]
  },
  {
   "cell_type": "code",
   "execution_count": 39,
   "metadata": {
    "collapsed": false
   },
   "outputs": [
    {
     "data": {
      "text/plain": [
       "21                Student Loans and Allowances Statistics\n",
       "26                                Crown accounts analysis\n",
       "38         Sport NZ - Community Sport Investments 2016-20\n",
       "57                     New Zealand Public Sector Websites\n",
       "100                              NZDF Personnel File List\n",
       "113     Lottery Minister’s Discretionary Fund grant re...\n",
       "125                                   Ministers' expenses\n",
       "167     National Aquatic Biodiversity Information Syst...\n",
       "191                       Corporate insolvency statistics\n",
       "195                         Prime Minister's Scholarships\n",
       "216                         Current Members of Parliament\n",
       "398     Distrance per capita travelled in single occup...\n",
       "435       Time spent walking per person (hours per year) \n",
       "438     Personal security incidents while using the tr...\n",
       "440        Distance cycled per person aged five and over \n",
       "450          Total public transport boardings per capita \n",
       "537                                        Work Stoppages\n",
       "549           Statistical profiles of individual councils\n",
       "629           Mean August Soil Temperature (South Island)\n",
       "668             Influenza hospital discharges (2000â€“13)\n",
       "786         Mean November Soil Temperature (South Island)\n",
       "946              Mean May Soil Temperature (South Island)\n",
       "1035                       Wellington City Swimming Pools\n",
       "1060                 NZ Ski Tow Centrelines (Topo, 1:50k)\n",
       "1149                  Affordability of Tertiary Education\n",
       "1262        Mean December Soil Temperature (South Island)\n",
       "1335     Register of Māori Incorporations for New Zealand\n",
       "1349                    Wellington City Recycling Centres\n",
       "1419         Mean October Soil Temperature (South Island)\n",
       "1579          Mean Annual Soil Temperature (South Island)\n",
       "1714    Briefing to the Incoming Minister of Finance: ...\n",
       "1775         Influenza hospital discharges by week (2013)\n",
       "1920      NRRP Waitaki Catchment Regional Allocation Plan\n",
       "1959    2015 Gender stocktake of state sector boards a...\n",
       "1979                                   Public convenience\n",
       "2072                Senior State Sector Remuneration 2012\n",
       "2081                 SW Pacific Land Water Boundary Lines\n",
       "2129    Search for a person based on their role within...\n",
       "2244          Members' of Parliament Expenses - Quarterly\n",
       "2383                Senior State Sector Remuneration 2013\n",
       "2387                  SW Pacific Memorial Monument Points\n",
       "2452          Wellington City Accessible Waterfront Route\n",
       "2848    Cultural Sector Crown Funding Administered by ...\n",
       "3062                  Wellington City Council Playgrounds\n",
       "3063    Directory of Iwi and Maori organisations Te Ka...\n",
       "3106                Senior State Sector Remuneration 2011\n",
       "3109                       Biodiversity Projects database\n",
       "3133           Mean March Soil Temperature (South Island)\n",
       "3229            Wellington City Park, Reserve or Cemetery\n",
       "3299           Mean April Soil Temperature (South Island)\n",
       "3434    NZ Ross Dependency Ski Tow Centrelines (ANT, 1...\n",
       "3454        Mean February Soil Temperature (South Island)\n",
       "3527                                      Existing Fleet \n",
       "3528           Retail Trade Survey September 2015 quarter\n",
       "3616       Mean September Soil Temperature (South Island)\n",
       "3869                Wellington City Accessible City Route\n",
       "3939            Mean July Soil Temperature (South Island)\n",
       "4093         Mean January Soil Temperature (South Island)\n",
       "4251            Mean June Soil Temperature (South Island)\n",
       "Name: title, dtype: object"
      ]
     },
     "execution_count": 39,
     "metadata": {},
     "output_type": "execute_result"
    }
   ],
   "source": [
    "search_data('contact|minister|representative|person', 'title', search_in='description')"
   ]
  },
  {
   "cell_type": "code",
   "execution_count": null,
   "metadata": {
    "collapsed": true
   },
   "outputs": [],
   "source": []
  },
  {
   "cell_type": "code",
   "execution_count": 31,
   "metadata": {
    "collapsed": false
   },
   "outputs": [
    {
     "ename": "ValueError",
     "evalue": "cannot index with vector containing NA / NaN values",
     "output_type": "error",
     "traceback": [
      "\u001b[0;31m---------------------------------------------------------------------------\u001b[0m",
      "\u001b[0;31mValueError\u001b[0m                                Traceback (most recent call last)",
      "\u001b[0;32m<ipython-input-31-0f03ae9d102d>\u001b[0m in \u001b[0;36m<module>\u001b[0;34m()\u001b[0m\n\u001b[0;32m----> 1\u001b[0;31m \u001b[0mprint_col\u001b[0m\u001b[1;33m(\u001b[0m\u001b[0msearch_data\u001b[0m\u001b[1;33m(\u001b[0m\u001b[1;34m\"contact\"\u001b[0m\u001b[1;33m,\u001b[0m \u001b[1;34m'title'\u001b[0m\u001b[1;33m,\u001b[0m \u001b[0msearch_in\u001b[0m\u001b[1;33m=\u001b[0m\u001b[1;34m'description'\u001b[0m\u001b[1;33m)\u001b[0m\u001b[1;33m)\u001b[0m\u001b[1;33m\u001b[0m\u001b[0m\n\u001b[0m",
      "\u001b[0;32m<ipython-input-20-6d40b2922d2b>\u001b[0m in \u001b[0;36msearch_data\u001b[0;34m(pattern, colname, search_in)\u001b[0m\n\u001b[1;32m      6\u001b[0m     \u001b[0mpattern\u001b[0m \u001b[1;33m=\u001b[0m \u001b[0mpattern\u001b[0m\u001b[1;33m.\u001b[0m\u001b[0mupper\u001b[0m\u001b[1;33m(\u001b[0m\u001b[1;33m)\u001b[0m\u001b[1;33m\u001b[0m\u001b[0m\n\u001b[1;32m      7\u001b[0m     \u001b[1;32mif\u001b[0m \u001b[0msearch_in\u001b[0m \u001b[1;33m==\u001b[0m \u001b[1;34m\"\"\u001b[0m\u001b[1;33m:\u001b[0m \u001b[0msearch_in\u001b[0m \u001b[1;33m=\u001b[0m \u001b[0mcolname\u001b[0m\u001b[1;33m\u001b[0m\u001b[0m\n\u001b[0;32m----> 8\u001b[0;31m     \u001b[1;32mreturn\u001b[0m \u001b[0mgovt_data\u001b[0m\u001b[1;33m.\u001b[0m\u001b[0mix\u001b[0m\u001b[1;33m[\u001b[0m\u001b[0mgrepl\u001b[0m\u001b[1;33m(\u001b[0m\u001b[0mpattern\u001b[0m\u001b[1;33m,\u001b[0m \u001b[0mgovt_data\u001b[0m\u001b[1;33m[\u001b[0m\u001b[0msearch_in\u001b[0m\u001b[1;33m]\u001b[0m\u001b[1;33m.\u001b[0m\u001b[0mstr\u001b[0m\u001b[1;33m.\u001b[0m\u001b[0mupper\u001b[0m\u001b[1;33m(\u001b[0m\u001b[1;33m)\u001b[0m\u001b[1;33m)\u001b[0m\u001b[1;33m,\u001b[0m \u001b[0mcolname\u001b[0m\u001b[1;33m]\u001b[0m\u001b[1;33m\u001b[0m\u001b[0m\n\u001b[0m\u001b[1;32m      9\u001b[0m \u001b[1;33m\u001b[0m\u001b[0m\n\u001b[1;32m     10\u001b[0m \u001b[1;32mdef\u001b[0m \u001b[0mprint_col\u001b[0m\u001b[1;33m(\u001b[0m\u001b[0mcol\u001b[0m\u001b[1;33m)\u001b[0m\u001b[1;33m:\u001b[0m\u001b[1;33m\u001b[0m\u001b[0m\n",
      "\u001b[0;32mC:\\Users\\caleb\\Anaconda2\\envs\\python3\\lib\\site-packages\\pandas\\core\\indexing.py\u001b[0m in \u001b[0;36m__getitem__\u001b[0;34m(self, key)\u001b[0m\n\u001b[1;32m     73\u001b[0m                 \u001b[1;32mpass\u001b[0m\u001b[1;33m\u001b[0m\u001b[0m\n\u001b[1;32m     74\u001b[0m \u001b[1;33m\u001b[0m\u001b[0m\n\u001b[0;32m---> 75\u001b[0;31m             \u001b[1;32mreturn\u001b[0m \u001b[0mself\u001b[0m\u001b[1;33m.\u001b[0m\u001b[0m_getitem_tuple\u001b[0m\u001b[1;33m(\u001b[0m\u001b[0mkey\u001b[0m\u001b[1;33m)\u001b[0m\u001b[1;33m\u001b[0m\u001b[0m\n\u001b[0m\u001b[1;32m     76\u001b[0m         \u001b[1;32melse\u001b[0m\u001b[1;33m:\u001b[0m\u001b[1;33m\u001b[0m\u001b[0m\n\u001b[1;32m     77\u001b[0m             \u001b[0mkey\u001b[0m \u001b[1;33m=\u001b[0m \u001b[0mcom\u001b[0m\u001b[1;33m.\u001b[0m\u001b[0m_apply_if_callable\u001b[0m\u001b[1;33m(\u001b[0m\u001b[0mkey\u001b[0m\u001b[1;33m,\u001b[0m \u001b[0mself\u001b[0m\u001b[1;33m.\u001b[0m\u001b[0mobj\u001b[0m\u001b[1;33m)\u001b[0m\u001b[1;33m\u001b[0m\u001b[0m\n",
      "\u001b[0;32mC:\\Users\\caleb\\Anaconda2\\envs\\python3\\lib\\site-packages\\pandas\\core\\indexing.py\u001b[0m in \u001b[0;36m_getitem_tuple\u001b[0;34m(self, tup)\u001b[0m\n\u001b[1;32m    782\u001b[0m     \u001b[1;32mdef\u001b[0m \u001b[0m_getitem_tuple\u001b[0m\u001b[1;33m(\u001b[0m\u001b[0mself\u001b[0m\u001b[1;33m,\u001b[0m \u001b[0mtup\u001b[0m\u001b[1;33m)\u001b[0m\u001b[1;33m:\u001b[0m\u001b[1;33m\u001b[0m\u001b[0m\n\u001b[1;32m    783\u001b[0m         \u001b[1;32mtry\u001b[0m\u001b[1;33m:\u001b[0m\u001b[1;33m\u001b[0m\u001b[0m\n\u001b[0;32m--> 784\u001b[0;31m             \u001b[1;32mreturn\u001b[0m \u001b[0mself\u001b[0m\u001b[1;33m.\u001b[0m\u001b[0m_getitem_lowerdim\u001b[0m\u001b[1;33m(\u001b[0m\u001b[0mtup\u001b[0m\u001b[1;33m)\u001b[0m\u001b[1;33m\u001b[0m\u001b[0m\n\u001b[0m\u001b[1;32m    785\u001b[0m         \u001b[1;32mexcept\u001b[0m \u001b[0mIndexingError\u001b[0m\u001b[1;33m:\u001b[0m\u001b[1;33m\u001b[0m\u001b[0m\n\u001b[1;32m    786\u001b[0m             \u001b[1;32mpass\u001b[0m\u001b[1;33m\u001b[0m\u001b[0m\n",
      "\u001b[0;32mC:\\Users\\caleb\\Anaconda2\\envs\\python3\\lib\\site-packages\\pandas\\core\\indexing.py\u001b[0m in \u001b[0;36m_getitem_lowerdim\u001b[0;34m(self, tup)\u001b[0m\n\u001b[1;32m    931\u001b[0m \u001b[1;33m\u001b[0m\u001b[0m\n\u001b[1;32m    932\u001b[0m                 \u001b[1;31m# This is an elided recursive call to iloc/loc/etc'\u001b[0m\u001b[1;33m\u001b[0m\u001b[1;33m\u001b[0m\u001b[0m\n\u001b[0;32m--> 933\u001b[0;31m                 \u001b[1;32mreturn\u001b[0m \u001b[0mgetattr\u001b[0m\u001b[1;33m(\u001b[0m\u001b[0msection\u001b[0m\u001b[1;33m,\u001b[0m \u001b[0mself\u001b[0m\u001b[1;33m.\u001b[0m\u001b[0mname\u001b[0m\u001b[1;33m)\u001b[0m\u001b[1;33m[\u001b[0m\u001b[0mnew_key\u001b[0m\u001b[1;33m]\u001b[0m\u001b[1;33m\u001b[0m\u001b[0m\n\u001b[0m\u001b[1;32m    934\u001b[0m \u001b[1;33m\u001b[0m\u001b[0m\n\u001b[1;32m    935\u001b[0m         \u001b[1;32mraise\u001b[0m \u001b[0mIndexingError\u001b[0m\u001b[1;33m(\u001b[0m\u001b[1;34m'not applicable'\u001b[0m\u001b[1;33m)\u001b[0m\u001b[1;33m\u001b[0m\u001b[0m\n",
      "\u001b[0;32mC:\\Users\\caleb\\Anaconda2\\envs\\python3\\lib\\site-packages\\pandas\\core\\indexing.py\u001b[0m in \u001b[0;36m__getitem__\u001b[0;34m(self, key)\u001b[0m\n\u001b[1;32m     76\u001b[0m         \u001b[1;32melse\u001b[0m\u001b[1;33m:\u001b[0m\u001b[1;33m\u001b[0m\u001b[0m\n\u001b[1;32m     77\u001b[0m             \u001b[0mkey\u001b[0m \u001b[1;33m=\u001b[0m \u001b[0mcom\u001b[0m\u001b[1;33m.\u001b[0m\u001b[0m_apply_if_callable\u001b[0m\u001b[1;33m(\u001b[0m\u001b[0mkey\u001b[0m\u001b[1;33m,\u001b[0m \u001b[0mself\u001b[0m\u001b[1;33m.\u001b[0m\u001b[0mobj\u001b[0m\u001b[1;33m)\u001b[0m\u001b[1;33m\u001b[0m\u001b[0m\n\u001b[0;32m---> 78\u001b[0;31m             \u001b[1;32mreturn\u001b[0m \u001b[0mself\u001b[0m\u001b[1;33m.\u001b[0m\u001b[0m_getitem_axis\u001b[0m\u001b[1;33m(\u001b[0m\u001b[0mkey\u001b[0m\u001b[1;33m,\u001b[0m \u001b[0maxis\u001b[0m\u001b[1;33m=\u001b[0m\u001b[1;36m0\u001b[0m\u001b[1;33m)\u001b[0m\u001b[1;33m\u001b[0m\u001b[0m\n\u001b[0m\u001b[1;32m     79\u001b[0m \u001b[1;33m\u001b[0m\u001b[0m\n\u001b[1;32m     80\u001b[0m     \u001b[1;32mdef\u001b[0m \u001b[0m_get_label\u001b[0m\u001b[1;33m(\u001b[0m\u001b[0mself\u001b[0m\u001b[1;33m,\u001b[0m \u001b[0mlabel\u001b[0m\u001b[1;33m,\u001b[0m \u001b[0maxis\u001b[0m\u001b[1;33m=\u001b[0m\u001b[1;36m0\u001b[0m\u001b[1;33m)\u001b[0m\u001b[1;33m:\u001b[0m\u001b[1;33m\u001b[0m\u001b[0m\n",
      "\u001b[0;32mC:\\Users\\caleb\\Anaconda2\\envs\\python3\\lib\\site-packages\\pandas\\core\\indexing.py\u001b[0m in \u001b[0;36m_getitem_axis\u001b[0;34m(self, key, axis)\u001b[0m\n\u001b[1;32m    986\u001b[0m \u001b[1;33m\u001b[0m\u001b[0m\n\u001b[1;32m    987\u001b[0m         \u001b[1;32mif\u001b[0m \u001b[0mself\u001b[0m\u001b[1;33m.\u001b[0m\u001b[0m_should_validate_iterable\u001b[0m\u001b[1;33m(\u001b[0m\u001b[0maxis\u001b[0m\u001b[1;33m)\u001b[0m\u001b[1;33m:\u001b[0m\u001b[1;33m\u001b[0m\u001b[0m\n\u001b[0;32m--> 988\u001b[0;31m             \u001b[0mself\u001b[0m\u001b[1;33m.\u001b[0m\u001b[0m_has_valid_type\u001b[0m\u001b[1;33m(\u001b[0m\u001b[0mkey\u001b[0m\u001b[1;33m,\u001b[0m \u001b[0maxis\u001b[0m\u001b[1;33m)\u001b[0m\u001b[1;33m\u001b[0m\u001b[0m\n\u001b[0m\u001b[1;32m    989\u001b[0m \u001b[1;33m\u001b[0m\u001b[0m\n\u001b[1;32m    990\u001b[0m         \u001b[0mlabels\u001b[0m \u001b[1;33m=\u001b[0m \u001b[0mself\u001b[0m\u001b[1;33m.\u001b[0m\u001b[0mobj\u001b[0m\u001b[1;33m.\u001b[0m\u001b[0m_get_axis\u001b[0m\u001b[1;33m(\u001b[0m\u001b[0maxis\u001b[0m\u001b[1;33m)\u001b[0m\u001b[1;33m\u001b[0m\u001b[0m\n",
      "\u001b[0;32mC:\\Users\\caleb\\Anaconda2\\envs\\python3\\lib\\site-packages\\pandas\\core\\indexing.py\u001b[0m in \u001b[0;36m_has_valid_type\u001b[0;34m(self, key, axis)\u001b[0m\n\u001b[1;32m   1268\u001b[0m             \u001b[1;32mreturn\u001b[0m \u001b[1;32mTrue\u001b[0m\u001b[1;33m\u001b[0m\u001b[0m\n\u001b[1;32m   1269\u001b[0m \u001b[1;33m\u001b[0m\u001b[0m\n\u001b[0;32m-> 1270\u001b[0;31m         \u001b[1;32melif\u001b[0m \u001b[0mis_bool_indexer\u001b[0m\u001b[1;33m(\u001b[0m\u001b[0mkey\u001b[0m\u001b[1;33m)\u001b[0m\u001b[1;33m:\u001b[0m\u001b[1;33m\u001b[0m\u001b[0m\n\u001b[0m\u001b[1;32m   1271\u001b[0m             \u001b[1;32mreturn\u001b[0m \u001b[1;32mTrue\u001b[0m\u001b[1;33m\u001b[0m\u001b[0m\n\u001b[1;32m   1272\u001b[0m \u001b[1;33m\u001b[0m\u001b[0m\n",
      "\u001b[0;32mC:\\Users\\caleb\\Anaconda2\\envs\\python3\\lib\\site-packages\\pandas\\core\\common.py\u001b[0m in \u001b[0;36mis_bool_indexer\u001b[0;34m(key)\u001b[0m\n\u001b[1;32m   1208\u001b[0m             \u001b[1;32mif\u001b[0m \u001b[1;32mnot\u001b[0m \u001b[0mlib\u001b[0m\u001b[1;33m.\u001b[0m\u001b[0mis_bool_array\u001b[0m\u001b[1;33m(\u001b[0m\u001b[0mkey\u001b[0m\u001b[1;33m)\u001b[0m\u001b[1;33m:\u001b[0m\u001b[1;33m\u001b[0m\u001b[0m\n\u001b[1;32m   1209\u001b[0m                 \u001b[1;32mif\u001b[0m \u001b[0misnull\u001b[0m\u001b[1;33m(\u001b[0m\u001b[0mkey\u001b[0m\u001b[1;33m)\u001b[0m\u001b[1;33m.\u001b[0m\u001b[0many\u001b[0m\u001b[1;33m(\u001b[0m\u001b[1;33m)\u001b[0m\u001b[1;33m:\u001b[0m\u001b[1;33m\u001b[0m\u001b[0m\n\u001b[0;32m-> 1210\u001b[0;31m                     raise ValueError('cannot index with vector containing '\n\u001b[0m\u001b[1;32m   1211\u001b[0m                                      'NA / NaN values')\n\u001b[1;32m   1212\u001b[0m                 \u001b[1;32mreturn\u001b[0m \u001b[1;32mFalse\u001b[0m\u001b[1;33m\u001b[0m\u001b[0m\n",
      "\u001b[0;31mValueError\u001b[0m: cannot index with vector containing NA / NaN values"
     ]
    }
   ],
   "source": [
    "print_col(search_data(\"contact\", 'title', search_in='description'))"
   ]
  }
 ],
 "metadata": {
  "anaconda-cloud": {},
  "kernelspec": {
   "display_name": "Python [conda env:python3]",
   "language": "python",
   "name": "conda-env-python3-py"
  },
  "language_info": {
   "codemirror_mode": {
    "name": "ipython",
    "version": 3
   },
   "file_extension": ".py",
   "mimetype": "text/x-python",
   "name": "python",
   "nbconvert_exporter": "python",
   "pygments_lexer": "ipython3",
   "version": "3.4.5"
  }
 },
 "nbformat": 4,
 "nbformat_minor": 1
}

{
 "cells": [
  {
   "cell_type": "markdown",
   "metadata": {},
   "source": [
    " # Lotto Analysis"
   ]
  },
  {
   "cell_type": "markdown",
   "metadata": {},
   "source": [
    "Here I'll be running an analysis of the Lotto draw results.\n",
    "\n",
    "We begin by reading in the results from the web scraping exercise earlier."
   ]
  },
  {
   "cell_type": "code",
   "execution_count": 1,
   "metadata": {
    "collapsed": true
   },
   "outputs": [],
   "source": [
    "import pickle"
   ]
  },
  {
   "cell_type": "code",
   "execution_count": 15,
   "metadata": {
    "collapsed": false
   },
   "outputs": [
    {
     "ename": "ValueError",
     "evalue": "unsupported pickle protocol: 3",
     "output_type": "error",
     "traceback": [
      "\u001b[0;31m---------------------------------------------------------------------------\u001b[0m",
      "\u001b[0;31mValueError\u001b[0m                                Traceback (most recent call last)",
      "\u001b[0;32m<ipython-input-15-2a6cce2a89b3>\u001b[0m in \u001b[0;36m<module>\u001b[0;34m()\u001b[0m\n\u001b[1;32m      1\u001b[0m \u001b[1;32mwith\u001b[0m \u001b[0mopen\u001b[0m\u001b[1;33m(\u001b[0m\u001b[1;34m\"results_dict.pkl\"\u001b[0m\u001b[1;33m,\u001b[0m \u001b[1;34m\"r\"\u001b[0m\u001b[1;33m)\u001b[0m \u001b[1;32mas\u001b[0m \u001b[0mf\u001b[0m\u001b[1;33m:\u001b[0m\u001b[1;33m\u001b[0m\u001b[0m\n\u001b[0;32m----> 2\u001b[0;31m     \u001b[0mresults_dict\u001b[0m \u001b[1;33m=\u001b[0m \u001b[0mpickle\u001b[0m\u001b[1;33m.\u001b[0m\u001b[0mload\u001b[0m\u001b[1;33m(\u001b[0m\u001b[0mf\u001b[0m\u001b[1;33m)\u001b[0m\u001b[1;33m\u001b[0m\u001b[0m\n\u001b[0m\u001b[1;32m      3\u001b[0m     \u001b[0mf\u001b[0m\u001b[1;33m.\u001b[0m\u001b[0mclose\u001b[0m\u001b[1;33m(\u001b[0m\u001b[1;33m)\u001b[0m\u001b[1;33m\u001b[0m\u001b[0m\n",
      "\u001b[0;32mC:\\Users\\caleb\\Anaconda2\\lib\\pickle.pyc\u001b[0m in \u001b[0;36mload\u001b[0;34m(file)\u001b[0m\n\u001b[1;32m   1382\u001b[0m \u001b[1;33m\u001b[0m\u001b[0m\n\u001b[1;32m   1383\u001b[0m \u001b[1;32mdef\u001b[0m \u001b[0mload\u001b[0m\u001b[1;33m(\u001b[0m\u001b[0mfile\u001b[0m\u001b[1;33m)\u001b[0m\u001b[1;33m:\u001b[0m\u001b[1;33m\u001b[0m\u001b[0m\n\u001b[0;32m-> 1384\u001b[0;31m     \u001b[1;32mreturn\u001b[0m \u001b[0mUnpickler\u001b[0m\u001b[1;33m(\u001b[0m\u001b[0mfile\u001b[0m\u001b[1;33m)\u001b[0m\u001b[1;33m.\u001b[0m\u001b[0mload\u001b[0m\u001b[1;33m(\u001b[0m\u001b[1;33m)\u001b[0m\u001b[1;33m\u001b[0m\u001b[0m\n\u001b[0m\u001b[1;32m   1385\u001b[0m \u001b[1;33m\u001b[0m\u001b[0m\n\u001b[1;32m   1386\u001b[0m \u001b[1;32mdef\u001b[0m \u001b[0mloads\u001b[0m\u001b[1;33m(\u001b[0m\u001b[0mstr\u001b[0m\u001b[1;33m)\u001b[0m\u001b[1;33m:\u001b[0m\u001b[1;33m\u001b[0m\u001b[0m\n",
      "\u001b[0;32mC:\\Users\\caleb\\Anaconda2\\lib\\pickle.pyc\u001b[0m in \u001b[0;36mload\u001b[0;34m(self)\u001b[0m\n\u001b[1;32m    862\u001b[0m             \u001b[1;32mwhile\u001b[0m \u001b[1;36m1\u001b[0m\u001b[1;33m:\u001b[0m\u001b[1;33m\u001b[0m\u001b[0m\n\u001b[1;32m    863\u001b[0m                 \u001b[0mkey\u001b[0m \u001b[1;33m=\u001b[0m \u001b[0mread\u001b[0m\u001b[1;33m(\u001b[0m\u001b[1;36m1\u001b[0m\u001b[1;33m)\u001b[0m\u001b[1;33m\u001b[0m\u001b[0m\n\u001b[0;32m--> 864\u001b[0;31m                 \u001b[0mdispatch\u001b[0m\u001b[1;33m[\u001b[0m\u001b[0mkey\u001b[0m\u001b[1;33m]\u001b[0m\u001b[1;33m(\u001b[0m\u001b[0mself\u001b[0m\u001b[1;33m)\u001b[0m\u001b[1;33m\u001b[0m\u001b[0m\n\u001b[0m\u001b[1;32m    865\u001b[0m         \u001b[1;32mexcept\u001b[0m \u001b[0m_Stop\u001b[0m\u001b[1;33m,\u001b[0m \u001b[0mstopinst\u001b[0m\u001b[1;33m:\u001b[0m\u001b[1;33m\u001b[0m\u001b[0m\n\u001b[1;32m    866\u001b[0m             \u001b[1;32mreturn\u001b[0m \u001b[0mstopinst\u001b[0m\u001b[1;33m.\u001b[0m\u001b[0mvalue\u001b[0m\u001b[1;33m\u001b[0m\u001b[0m\n",
      "\u001b[0;32mC:\\Users\\caleb\\Anaconda2\\lib\\pickle.pyc\u001b[0m in \u001b[0;36mload_proto\u001b[0;34m(self)\u001b[0m\n\u001b[1;32m    890\u001b[0m         \u001b[0mproto\u001b[0m \u001b[1;33m=\u001b[0m \u001b[0mord\u001b[0m\u001b[1;33m(\u001b[0m\u001b[0mself\u001b[0m\u001b[1;33m.\u001b[0m\u001b[0mread\u001b[0m\u001b[1;33m(\u001b[0m\u001b[1;36m1\u001b[0m\u001b[1;33m)\u001b[0m\u001b[1;33m)\u001b[0m\u001b[1;33m\u001b[0m\u001b[0m\n\u001b[1;32m    891\u001b[0m         \u001b[1;32mif\u001b[0m \u001b[1;32mnot\u001b[0m \u001b[1;36m0\u001b[0m \u001b[1;33m<=\u001b[0m \u001b[0mproto\u001b[0m \u001b[1;33m<=\u001b[0m \u001b[1;36m2\u001b[0m\u001b[1;33m:\u001b[0m\u001b[1;33m\u001b[0m\u001b[0m\n\u001b[0;32m--> 892\u001b[0;31m             \u001b[1;32mraise\u001b[0m \u001b[0mValueError\u001b[0m\u001b[1;33m,\u001b[0m \u001b[1;34m\"unsupported pickle protocol: %d\"\u001b[0m \u001b[1;33m%\u001b[0m \u001b[0mproto\u001b[0m\u001b[1;33m\u001b[0m\u001b[0m\n\u001b[0m\u001b[1;32m    893\u001b[0m     \u001b[0mdispatch\u001b[0m\u001b[1;33m[\u001b[0m\u001b[0mPROTO\u001b[0m\u001b[1;33m]\u001b[0m \u001b[1;33m=\u001b[0m \u001b[0mload_proto\u001b[0m\u001b[1;33m\u001b[0m\u001b[0m\n\u001b[1;32m    894\u001b[0m \u001b[1;33m\u001b[0m\u001b[0m\n",
      "\u001b[0;31mValueError\u001b[0m: unsupported pickle protocol: 3"
     ]
    }
   ],
   "source": [
    "with open(\"results_dict.pkl\", \"r\") as f:\n",
    "    results_dict = pickle.load(f)\n",
    "    f.close()"
   ]
  },
  {
   "cell_type": "code",
   "execution_count": 5,
   "metadata": {
    "collapsed": false,
    "scrolled": false
   },
   "outputs": [
    {
     "ename": "NameError",
     "evalue": "name 'results_dict' is not defined",
     "output_type": "error",
     "traceback": [
      "\u001b[0;31m---------------------------------------------------------------------------\u001b[0m",
      "\u001b[0;31mNameError\u001b[0m                                 Traceback (most recent call last)",
      "\u001b[0;32m<ipython-input-5-1a3a0c67e10a>\u001b[0m in \u001b[0;36m<module>\u001b[0;34m()\u001b[0m\n\u001b[0;32m----> 1\u001b[0;31m \u001b[0mresults_dict\u001b[0m\u001b[1;33m[\u001b[0m\u001b[1;34m'1000'\u001b[0m\u001b[1;33m]\u001b[0m\u001b[1;33m\u001b[0m\u001b[0m\n\u001b[0m",
      "\u001b[0;31mNameError\u001b[0m: name 'results_dict' is not defined"
     ]
    }
   ],
   "source": [
    "results_dict['1000']"
   ]
  },
  {
   "cell_type": "code",
   "execution_count": 13,
   "metadata": {
    "collapsed": false
   },
   "outputs": [
    {
     "data": {
      "text/plain": [
       "98400"
      ]
     },
     "execution_count": 13,
     "metadata": {},
     "output_type": "execute_result"
    }
   ],
   "source": [
    "from sys import getsizeof\n",
    "getsizeof(results_dict)"
   ]
  },
  {
   "cell_type": "markdown",
   "metadata": {},
   "source": [
    "## The Ground Truth"
   ]
  },
  {
   "cell_type": "markdown",
   "metadata": {},
   "source": [
    "Let's have a go at establishing some ground truths, and answering simple questions.\n",
    "\n",
    "First, what is the distribution of the ball results?"
   ]
  },
  {
   "cell_type": "code",
   "execution_count": 22,
   "metadata": {
    "collapsed": false
   },
   "outputs": [],
   "source": [
    "# The usual imports\n",
    "import numpy as np\n",
    "import pandas as pd\n",
    "\n",
    "import matplotlib\n",
    "import matplotlib.pyplot as plt\n",
    "%matplotlib inline\n",
    "\n",
    "import seaborn\n",
    "seaborn.set()"
   ]
  },
  {
   "cell_type": "code",
   "execution_count": 27,
   "metadata": {
    "collapsed": false
   },
   "outputs": [],
   "source": [
    "def link_to_date(link):\n",
    "    date = pd.to_datetime(link.rsplit(\"/\", 1)[-1] + \" 20:00\")\n",
    "    return date"
   ]
  },
  {
   "cell_type": "code",
   "execution_count": 31,
   "metadata": {
    "collapsed": false
   },
   "outputs": [],
   "source": [
    "for key in results_dict:\n",
    "    results_dict[key]['date'] = link_to_date(results_dict[key]['link'])"
   ]
  },
  {
   "cell_type": "code",
   "execution_count": 32,
   "metadata": {
    "collapsed": false
   },
   "outputs": [
    {
     "name": "stdout",
     "output_type": "stream",
     "text": [
      "[8, 20, 22, 25, 32, 34, 18, 11, 15, 21, 24, 37, 38, 36, 3, 7, 9, 18, 28, 30, 23, 6, 15, 35, 37, 39, 40, 8, 1, 18, 26, 32, 37, 38, 40, 3, 4, 19, 20, 28, 35, 25, 1, 15, 20, 26, 29, 38, 34, 2]\n"
     ]
    }
   ],
   "source": [
    "lotto_results = []\n",
    "for key in results_dict:\n",
    "    lotto_results += results_dict[key]['lotto result']\n",
    "    lotto_results.append(results_dict[key]['bonus ball'])\n",
    "lotto_results = [int(result) for result in lotto_results]\n",
    "print(lotto_results[:50])"
   ]
  },
  {
   "cell_type": "code",
   "execution_count": 33,
   "metadata": {
    "collapsed": true
   },
   "outputs": [],
   "source": [
    "def plot_results(results, kind):\n",
    "    result_counts = pd.Series(results).value_counts()\n",
    "    result_counts = result_counts.sort_index()\n",
    "    result_counts.plot(kind=kind)"
   ]
  },
  {
   "cell_type": "code",
   "execution_count": 34,
   "metadata": {
    "collapsed": false
   },
   "outputs": [
    {
     "data": {
      "image/png": "[encoded data removed]",
      "text/plain": [
       "<matplotlib.figure.Figure at 0x1701f4e66a0>"
      ]
     },
     "metadata": {},
     "output_type": "display_data"
    }
   ],
   "source": [
    "plot_results(lotto_results, kind='bar')"
   ]
  },
  {
   "cell_type": "code",
   "execution_count": 35,
   "metadata": {
    "collapsed": false,
    "scrolled": true
   },
   "outputs": [
    {
     "data": {
      "image/png": "[encoded data removed]",
      "text/plain": [
       "<matplotlib.figure.Figure at 0x1701f5d27f0>"
      ]
     },
     "metadata": {},
     "output_type": "display_data"
    }
   ],
   "source": [
    "plot_results(lotto_results, kind='hist')"
   ]
  },
  {
   "cell_type": "code",
   "execution_count": 36,
   "metadata": {
    "collapsed": false
   },
   "outputs": [
    {
     "name": "stdout",
     "output_type": "stream",
     "text": [
      "[4, 2, 4, 2, 2, 8, 7, 8, 2, 1, 1, 1, 1, 3, 1, 8, 6, 6, 7, 8, 7, 3, 8, 1, 6, 5, 7, 3, 8, 6, 5, 7, 2, 3, 2, 4, 10, 8, 3, 1, 7, 3, 6, 9, 6, 6, 5, 4, 9, 1]\n"
     ]
    }
   ],
   "source": [
    "powerball_results = [int(results_dict[key]['powerball']) for key in results_dict \\\n",
    "                    if 'powerball' in results_dict[key].keys()]\n",
    "print(powerball_results[:50])"
   ]
  },
  {
   "cell_type": "code",
   "execution_count": 37,
   "metadata": {
    "collapsed": false
   },
   "outputs": [
    {
     "data": {
      "image/png": "[encoded data removed]",
      "text/plain": [
       "<matplotlib.figure.Figure at 0x1701f5d3630>"
      ]
     },
     "metadata": {},
     "output_type": "display_data"
    }
   ],
   "source": [
    "plot_results(powerball_results, kind='bar')"
   ]
  },
  {
   "cell_type": "code",
   "execution_count": 38,
   "metadata": {
    "collapsed": false
   },
   "outputs": [
    {
     "data": {
      "image/png": "[encoded data removed]",
      "text/plain": [
       "<matplotlib.figure.Figure at 0x1701f6df3c8>"
      ]
     },
     "metadata": {},
     "output_type": "display_data"
    }
   ],
   "source": [
    "plot_results(powerball_results, kind='hist')"
   ]
  },
  {
   "cell_type": "markdown",
   "metadata": {},
   "source": [
    "Later I'd like to investigate what evidence there is that the lotto draws really are random.\n",
    "\n",
    "The powerball results seem the most non-random, but this is what you would also expect since they are also drawn from a smaller sample. The lotto results seem more random, but there is such a thing as 'too random', and we could also investigate the possibility that numbers are drawn to make the results appear closer to random than they otherwise might be.\n",
    "\n",
    "With that said, my belief is that the draw really is as shown by the machine on the screen. If this is the case, then this makes the possibility of any preferentially introduced non-randomness unlikely, unless they are weighting the balls or doing something similar."
   ]
  },
  {
   "cell_type": "markdown",
   "metadata": {},
   "source": [
    "The other question that I want to answer is how many lotto tickets are generally sold."
   ]
  },
  {
   "cell_type": "code",
   "execution_count": 39,
   "metadata": {
    "collapsed": false
   },
   "outputs": [],
   "source": [
    "winners = []\n",
    "for key in sorted([int(key) for key in results_dict]):\n",
    "    if 'lotto divisions' in results_dict[str(key)].keys():\n",
    "        winners.append(results_dict[str(key)]['lotto divisions']['Winners'])"
   ]
  },
  {
   "cell_type": "code",
   "execution_count": 40,
   "metadata": {
    "collapsed": false
   },
   "outputs": [
    {
     "data": {
      "text/html": [
       "<div>\n",
       "<table border=\"1\" class=\"dataframe\">\n",
       "  <thead>\n",
       "    <tr style=\"text-align: right;\">\n",
       "      <th></th>\n",
       "      <th>Winners</th>\n",
       "      <th>Winners</th>\n",
       "      <th>Winners</th>\n",
       "      <th>Winners</th>\n",
       "      <th>Winners</th>\n",
       "      <th>Winners</th>\n",
       "      <th>Winners</th>\n",
       "      <th>Winners</th>\n",
       "      <th>Winners</th>\n",
       "      <th>Winners</th>\n",
       "      <th>...</th>\n",
       "      <th>Winners</th>\n",
       "      <th>Winners</th>\n",
       "      <th>Winners</th>\n",
       "      <th>Winners</th>\n",
       "      <th>Winners</th>\n",
       "      <th>Winners</th>\n",
       "      <th>Winners</th>\n",
       "      <th>Winners</th>\n",
       "      <th>Winners</th>\n",
       "      <th>Winners</th>\n",
       "    </tr>\n",
       "  </thead>\n",
       "  <tbody>\n",
       "    <tr>\n",
       "      <th>0</th>\n",
       "      <td>1</td>\n",
       "      <td>1</td>\n",
       "      <td>0</td>\n",
       "      <td>2</td>\n",
       "      <td>3</td>\n",
       "      <td>0</td>\n",
       "      <td>2</td>\n",
       "      <td>3</td>\n",
       "      <td>8</td>\n",
       "      <td>0</td>\n",
       "      <td>...</td>\n",
       "      <td>1</td>\n",
       "      <td>0</td>\n",
       "      <td>0</td>\n",
       "      <td>6</td>\n",
       "      <td>1</td>\n",
       "      <td>5</td>\n",
       "      <td>3</td>\n",
       "      <td>5</td>\n",
       "      <td>1</td>\n",
       "      <td>1</td>\n",
       "    </tr>\n",
       "    <tr>\n",
       "      <th>1</th>\n",
       "      <td>9</td>\n",
       "      <td>16</td>\n",
       "      <td>16</td>\n",
       "      <td>15</td>\n",
       "      <td>9</td>\n",
       "      <td>10</td>\n",
       "      <td>11</td>\n",
       "      <td>18</td>\n",
       "      <td>9</td>\n",
       "      <td>14</td>\n",
       "      <td>...</td>\n",
       "      <td>3</td>\n",
       "      <td>6</td>\n",
       "      <td>12</td>\n",
       "      <td>12</td>\n",
       "      <td>4</td>\n",
       "      <td>13</td>\n",
       "      <td>10</td>\n",
       "      <td>19</td>\n",
       "      <td>6</td>\n",
       "      <td>21</td>\n",
       "    </tr>\n",
       "    <tr>\n",
       "      <th>2</th>\n",
       "      <td>436</td>\n",
       "      <td>443</td>\n",
       "      <td>562</td>\n",
       "      <td>430</td>\n",
       "      <td>601</td>\n",
       "      <td>442</td>\n",
       "      <td>501</td>\n",
       "      <td>432</td>\n",
       "      <td>492</td>\n",
       "      <td>414</td>\n",
       "      <td>...</td>\n",
       "      <td>194</td>\n",
       "      <td>397</td>\n",
       "      <td>237</td>\n",
       "      <td>388</td>\n",
       "      <td>222</td>\n",
       "      <td>461</td>\n",
       "      <td>243</td>\n",
       "      <td>701</td>\n",
       "      <td>233</td>\n",
       "      <td>531</td>\n",
       "    </tr>\n",
       "    <tr>\n",
       "      <th>3</th>\n",
       "      <td>1109</td>\n",
       "      <td>1296</td>\n",
       "      <td>1345</td>\n",
       "      <td>1206</td>\n",
       "      <td>1133</td>\n",
       "      <td>1062</td>\n",
       "      <td>1496</td>\n",
       "      <td>1306</td>\n",
       "      <td>1418</td>\n",
       "      <td>1029</td>\n",
       "      <td>...</td>\n",
       "      <td>507</td>\n",
       "      <td>971</td>\n",
       "      <td>629</td>\n",
       "      <td>1057</td>\n",
       "      <td>580</td>\n",
       "      <td>1148</td>\n",
       "      <td>541</td>\n",
       "      <td>1553</td>\n",
       "      <td>659</td>\n",
       "      <td>1472</td>\n",
       "    </tr>\n",
       "    <tr>\n",
       "      <th>4</th>\n",
       "      <td>18152</td>\n",
       "      <td>19705</td>\n",
       "      <td>20770</td>\n",
       "      <td>20129</td>\n",
       "      <td>19125</td>\n",
       "      <td>20506</td>\n",
       "      <td>19554</td>\n",
       "      <td>17883</td>\n",
       "      <td>19448</td>\n",
       "      <td>17306</td>\n",
       "      <td>...</td>\n",
       "      <td>8141</td>\n",
       "      <td>16207</td>\n",
       "      <td>9967</td>\n",
       "      <td>15749</td>\n",
       "      <td>8953</td>\n",
       "      <td>16946</td>\n",
       "      <td>9557</td>\n",
       "      <td>26064</td>\n",
       "      <td>9676</td>\n",
       "      <td>23934</td>\n",
       "    </tr>\n",
       "    <tr>\n",
       "      <th>5</th>\n",
       "      <td>25056</td>\n",
       "      <td>27024</td>\n",
       "      <td>27774</td>\n",
       "      <td>26682</td>\n",
       "      <td>24312</td>\n",
       "      <td>25008</td>\n",
       "      <td>29605</td>\n",
       "      <td>26024</td>\n",
       "      <td>27457</td>\n",
       "      <td>24908</td>\n",
       "      <td>...</td>\n",
       "      <td>11420</td>\n",
       "      <td>20562</td>\n",
       "      <td>13353</td>\n",
       "      <td>22720</td>\n",
       "      <td>13362</td>\n",
       "      <td>24429</td>\n",
       "      <td>13392</td>\n",
       "      <td>32471</td>\n",
       "      <td>14024</td>\n",
       "      <td>32505</td>\n",
       "    </tr>\n",
       "  </tbody>\n",
       "</table>\n",
       "<p>6 rows × 713 columns</p>\n",
       "</div>"
      ],
      "text/plain": [
       "   Winners  Winners  Winners  Winners  Winners  Winners  Winners  Winners  \\\n",
       "0        1        1        0        2        3        0        2        3   \n",
       "1        9       16       16       15        9       10       11       18   \n",
       "2      436      443      562      430      601      442      501      432   \n",
       "3     1109     1296     1345     1206     1133     1062     1496     1306   \n",
       "4    18152    19705    20770    20129    19125    20506    19554    17883   \n",
       "5    25056    27024    27774    26682    24312    25008    29605    26024   \n",
       "\n",
       "   Winners  Winners   ...     Winners  Winners  Winners  Winners  Winners  \\\n",
       "0        8        0   ...           1        0        0        6        1   \n",
       "1        9       14   ...           3        6       12       12        4   \n",
       "2      492      414   ...         194      397      237      388      222   \n",
       "3     1418     1029   ...         507      971      629     1057      580   \n",
       "4    19448    17306   ...        8141    16207     9967    15749     8953   \n",
       "5    27457    24908   ...       11420    20562    13353    22720    13362   \n",
       "\n",
       "   Winners  Winners  Winners  Winners  Winners  \n",
       "0        5        3        5        1        1  \n",
       "1       13       10       19        6       21  \n",
       "2      461      243      701      233      531  \n",
       "3     1148      541     1553      659     1472  \n",
       "4    16946     9557    26064     9676    23934  \n",
       "5    24429    13392    32471    14024    32505  \n",
       "\n",
       "[6 rows x 713 columns]"
      ]
     },
     "execution_count": 40,
     "metadata": {},
     "output_type": "execute_result"
    }
   ],
   "source": [
    "winners_df = pd.concat(winners, axis=1)\n",
    "winners_df = winners_df.applymap(lambda s: ''.join([l for l in s if l != \",\"])).astype(np.int32)\n",
    "winners_df"
   ]
  },
  {
   "cell_type": "code",
   "execution_count": 47,
   "metadata": {
    "collapsed": false
   },
   "outputs": [
    {
     "ename": "ValueError",
     "evalue": "Must pass non-zero number of levels/labels",
     "output_type": "error",
     "traceback": [
      "\u001b[0;31m---------------------------------------------------------------------------\u001b[0m",
      "\u001b[0;31mValueError\u001b[0m                                Traceback (most recent call last)",
      "\u001b[0;32m<ipython-input-47-9cb5ce8ce7d7>\u001b[0m in \u001b[0;36m<module>\u001b[0;34m()\u001b[0m\n\u001b[1;32m      1\u001b[0m \u001b[0mwinners_df_t\u001b[0m \u001b[1;33m=\u001b[0m \u001b[0mwinners_df\u001b[0m\u001b[1;33m.\u001b[0m\u001b[0mtranspose\u001b[0m\u001b[1;33m(\u001b[0m\u001b[1;33m)\u001b[0m\u001b[1;33m\u001b[0m\u001b[0m\n\u001b[1;32m      2\u001b[0m \u001b[0mdates\u001b[0m \u001b[1;33m=\u001b[0m \u001b[1;33m[\u001b[0m\u001b[0mresults_dict\u001b[0m\u001b[1;33m[\u001b[0m\u001b[0mkey\u001b[0m\u001b[1;33m]\u001b[0m\u001b[1;33m[\u001b[0m\u001b[1;34m'date'\u001b[0m\u001b[1;33m]\u001b[0m \u001b[1;32mfor\u001b[0m \u001b[0mkey\u001b[0m \u001b[1;32min\u001b[0m \u001b[0mresults_dict\u001b[0m \u001b[1;32mif\u001b[0m \u001b[1;34m'date'\u001b[0m \u001b[1;32min\u001b[0m \u001b[0mresults_dict\u001b[0m\u001b[1;33m.\u001b[0m\u001b[0mkeys\u001b[0m\u001b[1;33m(\u001b[0m\u001b[1;33m)\u001b[0m\u001b[1;33m]\u001b[0m\u001b[1;33m\u001b[0m\u001b[0m\n\u001b[0;32m----> 3\u001b[0;31m \u001b[0mwinners_df_t\u001b[0m\u001b[1;33m.\u001b[0m\u001b[0mset_index\u001b[0m\u001b[1;33m(\u001b[0m\u001b[0mdates\u001b[0m\u001b[1;33m)\u001b[0m\u001b[1;33m\u001b[0m\u001b[0m\n\u001b[0m\u001b[1;32m      4\u001b[0m \u001b[0mwinners_df_t\u001b[0m\u001b[1;33m\u001b[0m\u001b[0m\n",
      "\u001b[0;32mC:\\Users\\caleb\\Anaconda3\\lib\\site-packages\\pandas\\core\\frame.py\u001b[0m in \u001b[0;36mset_index\u001b[0;34m(self, keys, drop, append, inplace, verify_integrity)\u001b[0m\n\u001b[1;32m   2841\u001b[0m             \u001b[0marrays\u001b[0m\u001b[1;33m.\u001b[0m\u001b[0mappend\u001b[0m\u001b[1;33m(\u001b[0m\u001b[0mlevel\u001b[0m\u001b[1;33m)\u001b[0m\u001b[1;33m\u001b[0m\u001b[0m\n\u001b[1;32m   2842\u001b[0m \u001b[1;33m\u001b[0m\u001b[0m\n\u001b[0;32m-> 2843\u001b[0;31m         \u001b[0mindex\u001b[0m \u001b[1;33m=\u001b[0m \u001b[0mMultiIndex\u001b[0m\u001b[1;33m.\u001b[0m\u001b[0mfrom_arrays\u001b[0m\u001b[1;33m(\u001b[0m\u001b[0marrays\u001b[0m\u001b[1;33m,\u001b[0m \u001b[0mnames\u001b[0m\u001b[1;33m=\u001b[0m\u001b[0mnames\u001b[0m\u001b[1;33m)\u001b[0m\u001b[1;33m\u001b[0m\u001b[0m\n\u001b[0m\u001b[1;32m   2844\u001b[0m \u001b[1;33m\u001b[0m\u001b[0m\n\u001b[1;32m   2845\u001b[0m         \u001b[1;32mif\u001b[0m \u001b[0mverify_integrity\u001b[0m \u001b[1;32mand\u001b[0m \u001b[1;32mnot\u001b[0m \u001b[0mindex\u001b[0m\u001b[1;33m.\u001b[0m\u001b[0mis_unique\u001b[0m\u001b[1;33m:\u001b[0m\u001b[1;33m\u001b[0m\u001b[0m\n",
      "\u001b[0;32mC:\\Users\\caleb\\Anaconda3\\lib\\site-packages\\pandas\\indexes\\multi.py\u001b[0m in \u001b[0;36mfrom_arrays\u001b[0;34m(cls, arrays, sortorder, names)\u001b[0m\n\u001b[1;32m    848\u001b[0m \u001b[1;33m\u001b[0m\u001b[0m\n\u001b[1;32m    849\u001b[0m         return MultiIndex(levels=levels, labels=labels, sortorder=sortorder,\n\u001b[0;32m--> 850\u001b[0;31m                           names=names, verify_integrity=False)\n\u001b[0m\u001b[1;32m    851\u001b[0m \u001b[1;33m\u001b[0m\u001b[0m\n\u001b[1;32m    852\u001b[0m     \u001b[1;33m@\u001b[0m\u001b[0mclassmethod\u001b[0m\u001b[1;33m\u001b[0m\u001b[0m\n",
      "\u001b[0;32mC:\\Users\\caleb\\Anaconda3\\lib\\site-packages\\pandas\\indexes\\multi.py\u001b[0m in \u001b[0;36m__new__\u001b[0;34m(cls, levels, labels, sortorder, names, copy, verify_integrity, _set_identity, name, **kwargs)\u001b[0m\n\u001b[1;32m     79\u001b[0m             \u001b[1;32mraise\u001b[0m \u001b[0mValueError\u001b[0m\u001b[1;33m(\u001b[0m\u001b[1;34m'Length of levels and labels must be the same.'\u001b[0m\u001b[1;33m)\u001b[0m\u001b[1;33m\u001b[0m\u001b[0m\n\u001b[1;32m     80\u001b[0m         \u001b[1;32mif\u001b[0m \u001b[0mlen\u001b[0m\u001b[1;33m(\u001b[0m\u001b[0mlevels\u001b[0m\u001b[1;33m)\u001b[0m \u001b[1;33m==\u001b[0m \u001b[1;36m0\u001b[0m\u001b[1;33m:\u001b[0m\u001b[1;33m\u001b[0m\u001b[0m\n\u001b[0;32m---> 81\u001b[0;31m             \u001b[1;32mraise\u001b[0m \u001b[0mValueError\u001b[0m\u001b[1;33m(\u001b[0m\u001b[1;34m'Must pass non-zero number of levels/labels'\u001b[0m\u001b[1;33m)\u001b[0m\u001b[1;33m\u001b[0m\u001b[0m\n\u001b[0m\u001b[1;32m     82\u001b[0m         \u001b[1;32mif\u001b[0m \u001b[0mlen\u001b[0m\u001b[1;33m(\u001b[0m\u001b[0mlevels\u001b[0m\u001b[1;33m)\u001b[0m \u001b[1;33m==\u001b[0m \u001b[1;36m1\u001b[0m\u001b[1;33m:\u001b[0m\u001b[1;33m\u001b[0m\u001b[0m\n\u001b[1;32m     83\u001b[0m             \u001b[1;32mif\u001b[0m \u001b[0mnames\u001b[0m\u001b[1;33m:\u001b[0m\u001b[1;33m\u001b[0m\u001b[0m\n",
      "\u001b[0;31mValueError\u001b[0m: Must pass non-zero number of levels/labels"
     ]
    }
   ],
   "source": [
    "winners_df_t = winners_df.transpose()\n",
    "dates = [results_dict[key]['date'] for key in results_dict if 'date' in results_dict.keys()]\n",
    "winners_df_t.set_index(dates)\n",
    "winners_df_t"
   ]
  },
  {
   "cell_type": "code",
   "execution_count": 41,
   "metadata": {
    "collapsed": false
   },
   "outputs": [
    {
     "data": {
      "text/plain": [
       "2.291725105189341"
      ]
     },
     "execution_count": 41,
     "metadata": {},
     "output_type": "execute_result"
    }
   ],
   "source": [
    "winners_df.ix[0,:].astype(np.int32).mean()"
   ]
  },
  {
   "cell_type": "code",
   "execution_count": 42,
   "metadata": {
    "collapsed": false
   },
   "outputs": [
    {
     "data": {
      "text/plain": [
       "<matplotlib.axes._subplots.AxesSubplot at 0x1701fa23908>"
      ]
     },
     "execution_count": 42,
     "metadata": {},
     "output_type": "execute_result"
    },
    {
     "data": {
      "image/png": "[encoded data removed]",
      "text/plain": [
       "<matplotlib.figure.Figure at 0x1701f756908>"
      ]
     },
     "metadata": {},
     "output_type": "display_data"
    }
   ],
   "source": [
    "winners_df.sum(axis=0).plot()"
   ]
  },
  {
   "cell_type": "markdown",
   "metadata": {},
   "source": [
    "## Randomness Testing"
   ]
  },
  {
   "cell_type": "markdown",
   "metadata": {},
   "source": [
    "Rather than fix the problems with the code above (as I can't be bothered doing it at the moment), lets attempt a simple randomness test on the lotto results."
   ]
  },
  {
   "cell_type": "code",
   "execution_count": 166,
   "metadata": {
    "collapsed": false
   },
   "outputs": [
    {
     "name": "stdout",
     "output_type": "stream",
     "text": [
      "[7, 9, 12, 16, 17, 19, 20, 11, 13, 14, 15, 35, 37, 7, 9, 10, 12, 26, 27, 38]\n"
     ]
    }
   ],
   "source": [
    "print(lotto_results[:20])"
   ]
  },
  {
   "cell_type": "code",
   "execution_count": 167,
   "metadata": {
    "collapsed": false
   },
   "outputs": [
    {
     "data": {
      "text/plain": [
       "11242"
      ]
     },
     "execution_count": 167,
     "metadata": {},
     "output_type": "execute_result"
    }
   ],
   "source": [
    "len(lotto_results)"
   ]
  },
  {
   "cell_type": "code",
   "execution_count": 232,
   "metadata": {
    "collapsed": false
   },
   "outputs": [
    {
     "data": {
      "text/plain": [
       "281.05"
      ]
     },
     "execution_count": 232,
     "metadata": {},
     "output_type": "execute_result"
    }
   ],
   "source": [
    "mu = len(lotto_results)/40\n",
    "mu"
   ]
  },
  {
   "cell_type": "code",
   "execution_count": 266,
   "metadata": {
    "collapsed": false
   },
   "outputs": [
    {
     "data": {
      "text/plain": [
       "0.27638563339275934"
      ]
     },
     "execution_count": 266,
     "metadata": {},
     "output_type": "execute_result"
    }
   ],
   "source": [
    "lotto_counts = pd.Series(lotto_results).value_counts()\n",
    "lotto_counts = result_counts.sort_index()\n",
    "lotto_norm = np.sqrt(sum((lotto_counts - mu)**2)/mu**2)\n",
    "lotto_norm"
   ]
  },
  {
   "cell_type": "code",
   "execution_count": 258,
   "metadata": {
    "collapsed": false
   },
   "outputs": [
    {
     "data": {
      "text/plain": [
       "array([[31, 26,  5, ..., 38, 24, 40],\n",
       "       [21, 34, 12, ..., 34, 17,  9],\n",
       "       [36, 27, 40, ..., 30,  3, 38],\n",
       "       ..., \n",
       "       [ 5,  8, 17, ..., 10, 24,  9],\n",
       "       [31, 38, 10, ..., 30, 30,  9],\n",
       "       [22, 12, 20, ..., 31, 13,  9]])"
      ]
     },
     "execution_count": 258,
     "metadata": {},
     "output_type": "execute_result"
    }
   ],
   "source": [
    "numsims = 50000\n",
    "sims = np.random.randint(1,41, size=(numsims,len(lotto_results)))\n",
    "sims"
   ]
  },
  {
   "cell_type": "code",
   "execution_count": 268,
   "metadata": {
    "collapsed": false,
    "scrolled": true
   },
   "outputs": [
    {
     "data": {
      "text/plain": [
       "array([ 0.34205587,  0.3220785 ,  0.36986811, ...,  0.42108708,\n",
       "        0.42264757,  0.41515253])"
      ]
     },
     "execution_count": 268,
     "metadata": {},
     "output_type": "execute_result"
    }
   ],
   "source": [
    "sim_counts = np.apply_along_axis(func1d=lambda x: np.bincount(x), axis=1, arr=sims)[:,1:]\n",
    "sim_norms = np.sqrt(np.sum((sim_counts - mu)**2, axis=1)/mu**2)\n",
    "sim_norms"
   ]
  },
  {
   "cell_type": "code",
   "execution_count": 274,
   "metadata": {
    "collapsed": false
   },
   "outputs": [
    {
     "data": {
      "text/plain": [
       "0.01072"
      ]
     },
     "execution_count": 274,
     "metadata": {},
     "output_type": "execute_result"
    }
   ],
   "source": [
    "sum(sim_norms <= lotto_norm)/numsims"
   ]
  },
  {
   "cell_type": "markdown",
   "metadata": {},
   "source": [
    "So from this calculation, we can conlude that the probability of a deviation from uniformity this large is 98.96%, given that the draw occurs randomly.\n",
    "\n",
    "What we want to know however, is the probability that the draw is random, given that this is the sort of deviation that we see."
   ]
  },
  {
   "cell_type": "code",
   "execution_count": 270,
   "metadata": {
    "collapsed": false
   },
   "outputs": [
    {
     "data": {
      "text/plain": [
       "(array([  1.00000000e+00,   1.00000000e+00,   4.00000000e+00,\n",
       "          6.00000000e+00,   3.00000000e+00,   1.30000000e+01,\n",
       "          2.20000000e+01,   3.50000000e+01,   6.00000000e+01,\n",
       "          9.70000000e+01,   1.69000000e+02,   2.43000000e+02,\n",
       "          3.29000000e+02,   5.30000000e+02,   7.99000000e+02,\n",
       "          9.72000000e+02,   1.30200000e+03,   1.70600000e+03,\n",
       "          1.98800000e+03,   2.35800000e+03,   2.63700000e+03,\n",
       "          2.90900000e+03,   3.00800000e+03,   3.24800000e+03,\n",
       "          3.33200000e+03,   3.30000000e+03,   3.13600000e+03,\n",
       "          2.97200000e+03,   2.67000000e+03,   2.33500000e+03,\n",
       "          2.11100000e+03,   1.74700000e+03,   1.42100000e+03,\n",
       "          1.15300000e+03,   9.03000000e+02,   6.96000000e+02,\n",
       "          5.11000000e+02,   3.93000000e+02,   2.85000000e+02,\n",
       "          2.11000000e+02,   1.35000000e+02,   9.70000000e+01,\n",
       "          6.60000000e+01,   3.30000000e+01,   2.10000000e+01,\n",
       "          9.00000000e+00,   9.00000000e+00,   5.00000000e+00,\n",
       "          4.00000000e+00,   5.00000000e+00]),\n",
       " array([ 0.19488113,  0.20192713,  0.20897313,  0.21601913,  0.22306513,\n",
       "         0.23011113,  0.23715713,  0.24420313,  0.25124912,  0.25829512,\n",
       "         0.26534112,  0.27238712,  0.27943312,  0.28647912,  0.29352512,\n",
       "         0.30057112,  0.30761711,  0.31466311,  0.32170911,  0.32875511,\n",
       "         0.33580111,  0.34284711,  0.34989311,  0.35693911,  0.3639851 ,\n",
       "         0.3710311 ,  0.3780771 ,  0.3851231 ,  0.3921691 ,  0.3992151 ,\n",
       "         0.4062611 ,  0.41330709,  0.42035309,  0.42739909,  0.43444509,\n",
       "         0.44149109,  0.44853709,  0.45558309,  0.46262909,  0.46967508,\n",
       "         0.47672108,  0.48376708,  0.49081308,  0.49785908,  0.50490508,\n",
       "         0.51195108,  0.51899708,  0.52604307,  0.53308907,  0.54013507,\n",
       "         0.54718107]),\n",
       " <a list of 50 Patch objects>)"
      ]
     },
     "execution_count": 270,
     "metadata": {},
     "output_type": "execute_result"
    },
    {
     "data": {
      "image/png": "[encoded data removed]",
      "text/plain": [
       "<matplotlib.figure.Figure at 0x269bf8765f8>"
      ]
     },
     "metadata": {},
     "output_type": "display_data"
    }
   ],
   "source": [
    "plt.hist(sim_norms, bins=50)"
   ]
  },
  {
   "cell_type": "code",
   "execution_count": 273,
   "metadata": {
    "collapsed": false
   },
   "outputs": [
    {
     "data": {
      "text/plain": [
       "(0.37013278916013781, 0.042368470100168185)"
      ]
     },
     "execution_count": 273,
     "metadata": {},
     "output_type": "execute_result"
    }
   ],
   "source": [
    "sim_norms.mean(), np.sqrt(sim_norms.var())"
   ]
  },
  {
   "cell_type": "markdown",
   "metadata": {},
   "source": [
    "And now to do the same thing with the powerball draw:"
   ]
  },
  {
   "cell_type": "code",
   "execution_count": 280,
   "metadata": {
    "collapsed": false
   },
   "outputs": [
    {
     "data": {
      "text/plain": [
       "89.5"
      ]
     },
     "execution_count": 280,
     "metadata": {},
     "output_type": "execute_result"
    }
   ],
   "source": [
    "powerball_mean = len(powerball_results)/10\n",
    "powerball_mean"
   ]
  },
  {
   "cell_type": "code",
   "execution_count": 295,
   "metadata": {
    "collapsed": false
   },
   "outputs": [
    {
     "data": {
      "text/plain": [
       "0.84640098026520594"
      ]
     },
     "execution_count": 295,
     "metadata": {},
     "output_type": "execute_result"
    }
   ],
   "source": [
    "powerball_counts = pd.Series(powerball_results).value_counts()\n",
    "powerball_counts = powerball_counts.sort_index()\n",
    "powerball_norm = np.sqrt(sum((powerball_counts - powerball_mean)**2)/powerball_mean**2)\n",
    "powerball_norm"
   ]
  },
  {
   "cell_type": "code",
   "execution_count": 292,
   "metadata": {
    "collapsed": false
   },
   "outputs": [
    {
     "data": {
      "text/plain": [
       "1     107\n",
       "2     118\n",
       "3     103\n",
       "4      99\n",
       "5      92\n",
       "6     101\n",
       "7      83\n",
       "8     102\n",
       "9      40\n",
       "10     50\n",
       "dtype: int64"
      ]
     },
     "execution_count": 292,
     "metadata": {},
     "output_type": "execute_result"
    }
   ],
   "source": [
    "powerball_counts"
   ]
  },
  {
   "cell_type": "code",
   "execution_count": 293,
   "metadata": {
    "collapsed": false
   },
   "outputs": [],
   "source": [
    "numsims = 50000\n",
    "sims = np.random.randint(1,11, size=(numsims,len(powerball_results)))\n",
    "sim_counts = np.apply_along_axis(func1d=lambda x: np.bincount(x), axis=1, arr=sims)[:,1:]\n",
    "sim_norms = np.sqrt(np.sum((sim_counts - powerball_mean)**2, axis=1)/powerball_mean**2)"
   ]
  },
  {
   "cell_type": "code",
   "execution_count": 304,
   "metadata": {
    "collapsed": false
   },
   "outputs": [
    {
     "data": {
      "text/plain": [
       "(array([  2.00000000e+00,   3.00000000e+00,   1.10000000e+01,\n",
       "          2.40000000e+01,   5.60000000e+01,   1.16000000e+02,\n",
       "          1.72000000e+02,   3.20000000e+02,   4.70000000e+02,\n",
       "          6.81000000e+02,   9.41000000e+02,   1.22200000e+03,\n",
       "          1.59300000e+03,   1.87500000e+03,   2.24100000e+03,\n",
       "          2.48500000e+03,   2.81700000e+03,   2.96700000e+03,\n",
       "          3.15900000e+03,   3.29400000e+03,   3.21200000e+03,\n",
       "          3.13500000e+03,   2.92200000e+03,   2.67000000e+03,\n",
       "          2.45700000e+03,   2.14400000e+03,   1.85400000e+03,\n",
       "          1.49700000e+03,   1.31800000e+03,   1.05500000e+03,\n",
       "          8.18000000e+02,   6.87000000e+02,   4.89000000e+02,\n",
       "          4.01000000e+02,   2.55000000e+02,   1.99000000e+02,\n",
       "          1.39000000e+02,   9.10000000e+01,   7.30000000e+01,\n",
       "          3.60000000e+01,   3.10000000e+01,   1.80000000e+01,\n",
       "          2.10000000e+01,   1.30000000e+01,   9.00000000e+00,\n",
       "          2.00000000e+00,   1.00000000e+00,   3.00000000e+00,\n",
       "          0.00000000e+00,   1.00000000e+00]),\n",
       " array([ 0.06369695,  0.07565935,  0.08762174,  0.09958413,  0.11154653,\n",
       "         0.12350892,  0.13547132,  0.14743371,  0.15939611,  0.1713585 ,\n",
       "         0.1833209 ,  0.19528329,  0.20724568,  0.21920808,  0.23117047,\n",
       "         0.24313287,  0.25509526,  0.26705766,  0.27902005,  0.29098245,\n",
       "         0.30294484,  0.31490723,  0.32686963,  0.33883202,  0.35079442,\n",
       "         0.36275681,  0.37471921,  0.3866816 ,  0.398644  ,  0.41060639,\n",
       "         0.42256879,  0.43453118,  0.44649357,  0.45845597,  0.47041836,\n",
       "         0.48238076,  0.49434315,  0.50630555,  0.51826794,  0.53023034,\n",
       "         0.54219273,  0.55415512,  0.56611752,  0.57807991,  0.59004231,\n",
       "         0.6020047 ,  0.6139671 ,  0.62592949,  0.63789189,  0.64985428,\n",
       "         0.66181667]),\n",
       " <a list of 50 Patch objects>)"
      ]
     },
     "execution_count": 304,
     "metadata": {},
     "output_type": "execute_result"
    },
    {
     "data": {
      "image/png": "[encoded data removed]",
      "text/plain": [
       "<matplotlib.figure.Figure at 0x269bed87588>"
      ]
     },
     "metadata": {},
     "output_type": "display_data"
    }
   ],
   "source": [
    "plt.hist(sim_norms, bins=50)"
   ]
  },
  {
   "cell_type": "code",
   "execution_count": 307,
   "metadata": {
    "collapsed": false
   },
   "outputs": [
    {
     "data": {
      "text/plain": [
       "(0.3078269298905536, 0.073492537471495659)"
      ]
     },
     "execution_count": 307,
     "metadata": {},
     "output_type": "execute_result"
    }
   ],
   "source": [
    "sim_norms.mean(), np.sqrt(sim_norms.var())"
   ]
  },
  {
   "cell_type": "code",
   "execution_count": 311,
   "metadata": {
    "collapsed": false
   },
   "outputs": [
    {
     "data": {
      "text/plain": [
       "7.3282821481506231"
      ]
     },
     "execution_count": 311,
     "metadata": {},
     "output_type": "execute_result"
    }
   ],
   "source": [
    "(powerball_norm - sim_norms.mean())/np.sqrt(sim_norms.var())"
   ]
  },
  {
   "cell_type": "markdown",
   "metadata": {},
   "source": [
    "So the result is at the 7 sigma level of significance."
   ]
  },
  {
   "cell_type": "code",
   "execution_count": 314,
   "metadata": {
    "collapsed": false
   },
   "outputs": [
    {
     "data": {
      "text/plain": [
       "'38'"
      ]
     },
     "execution_count": 314,
     "metadata": {},
     "output_type": "execute_result"
    }
   ],
   "source": [
    "results_dict['3']['bonus ball']"
   ]
  },
  {
   "cell_type": "code",
   "execution_count": 316,
   "metadata": {
    "collapsed": false
   },
   "outputs": [
    {
     "data": {
      "text/plain": [
       "[795, 914]"
      ]
     },
     "execution_count": 316,
     "metadata": {},
     "output_type": "execute_result"
    }
   ],
   "source": [
    "[num for num in range(1, 1609) if str(num) not in results_dict.keys()]"
   ]
  },
  {
   "cell_type": "code",
   "execution_count": 317,
   "metadata": {
    "collapsed": false
   },
   "outputs": [
    {
     "data": {
      "text/plain": [
       "{'bonus ball': '6',\n",
       " 'draw number': '794',\n",
       " 'jackpot': 'Rollover',\n",
       " 'link': 'http://lottoresults.co.nz/lotto/21-september-2002',\n",
       " 'lotto result': ['3', '10', '21', '22', '26', '34'],\n",
       " 'powerball': '4',\n",
       " 'strike': ['34', '26', '3', '21'],\n",
       " 'title': 'Lotto Result for Saturday, 21 September 2002 '}"
      ]
     },
     "execution_count": 317,
     "metadata": {},
     "output_type": "execute_result"
    }
   ],
   "source": [
    "results_dict['794']"
   ]
  },
  {
   "cell_type": "code",
   "execution_count": null,
   "metadata": {
    "collapsed": true
   },
   "outputs": [],
   "source": []
  },
  {
   "cell_type": "code",
   "execution_count": null,
   "metadata": {
    "collapsed": true
   },
   "outputs": [],
   "source": []
  },
  {
   "cell_type": "code",
   "execution_count": null,
   "metadata": {
    "collapsed": true
   },
   "outputs": [],
   "source": []
  },
  {
   "cell_type": "code",
   "execution_count": null,
   "metadata": {
    "collapsed": true
   },
   "outputs": [],
   "source": []
  },
  {
   "cell_type": "code",
   "execution_count": null,
   "metadata": {
    "collapsed": true
   },
   "outputs": [],
   "source": []
  },
  {
   "cell_type": "code",
   "execution_count": null,
   "metadata": {
    "collapsed": true
   },
   "outputs": [],
   "source": []
  }
 ],
 "metadata": {
  "anaconda-cloud": {},
  "kernelspec": {
   "display_name": "Python [conda root]",
   "language": "python",
   "name": "conda-root-py"
  },
  "language_info": {
   "codemirror_mode": {
    "name": "ipython",
    "version": 2
   },
   "file_extension": ".py",
   "mimetype": "text/x-python",
   "name": "python",
   "nbconvert_exporter": "python",
   "pygments_lexer": "ipython2",
   "version": "2.7.12"
  }
 },
 "nbformat": 4,
 "nbformat_minor": 1
}

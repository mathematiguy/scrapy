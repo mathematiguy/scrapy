{
 "cells": [
  {
   "cell_type": "markdown",
   "metadata": {},
   "source": [
    "# Simulating Lotto Games"
   ]
  },
  {
   "cell_type": "markdown",
   "metadata": {},
   "source": [
    "Here I'll be writing some code to simulate the NZ Lottery."
   ]
  },
  {
   "cell_type": "code",
   "execution_count": 3,
   "metadata": {
    "collapsed": false
   },
   "outputs": [
    {
     "name": "stdout",
     "output_type": "stream",
     "text": [
      "[0, 1, 2, 3, 4, 5, 6, 7, 8, 9, 10, 11, 12, 13, 14, 15, 16, 17, 18, 19, 20, 21, 22, 23, 24, 25, 26, 27, 28, 29, 30, 31, 32, 33, 34, 35, 36, 37, 38, 39]\n"
     ]
    }
   ],
   "source": [
    "balls = list(range(40))\n",
    "print(balls)"
   ]
  },
  {
   "cell_type": "code",
   "execution_count": 4,
   "metadata": {
    "collapsed": true
   },
   "outputs": [],
   "source": [
    "import random"
   ]
  },
  {
   "cell_type": "code",
   "execution_count": 19,
   "metadata": {
    "collapsed": false
   },
   "outputs": [
    {
     "data": {
      "text/plain": [
       "[35, 8, 10, 19, 28, 25]"
      ]
     },
     "execution_count": 19,
     "metadata": {},
     "output_type": "execute_result"
    }
   ],
   "source": [
    "random.sample(balls, 6)"
   ]
  },
  {
   "cell_type": "markdown",
   "metadata": {
    "collapsed": true
   },
   "source": [
    "So here are the questions that I would like to address. How do you estimate the number of ticket buyers from the number of winners at each division?\n",
    "\n",
    "Intuitively, the number of winners will depend on the number of tickets sold, and the popularity of certain numbers. e.g. if the draw result features a popular sequence of numbers, then you 'should' expect more winners at the lower divisions. At the same time, if more people show up on the day to buy tickets, then you also would expect more people to win then as well.\n",
    "\n",
    "At the higher divisions (esp. the jackpot + powerball), you would expect the dominating factor to be the a-priori odds of winning.\n",
    "\n",
    "Is there a way to make this relationship more concrete?\n",
    "\n",
    "Claim: Number of tickets sold depends on the amount of prize money and the time of year, say.\n",
    "\n",
    "The number of winners depends on the number of tickets sold, and the popularity of those numbers. My guess is that the more popular the winning numbers are, the number of winners will be skewed towards the lower division winners, and if the winning numbers are unpopular, then the number of winners will more closely match the theoretical distribution."
   ]
  },
  {
   "cell_type": "markdown",
   "metadata": {},
   "source": [
    "We will assume that players come in 2 varieties. Those who select their numbers at random, and those who do not. We can model this behaviour with the relationship:\n",
    "\n",
    "$$ P = Y X_1 + (1-Y) X_2 $$\n",
    "\n",
    "Where:\n",
    "- $P$ is the vector of numbers selected by the player\n",
    "- $Y$ is a binary random variable, where $Y=1$ with probability $p$ if the player is inclined to select their own numbers, and $Y=0$ if the player selects their numbers randomly\n",
    "- $X_1$ is the vector of random numbers selected from the biased player distribution\n",
    "- $X_2$ is the vector of random numbers selected uniformly at random\n",
    "\n",
    "For now we will assume that the lucky dip numbers are chosen uniformly at random. It is more likely they are selected with a pseudo-random function.\n",
    "\n",
    "I will be interested to learn whether or not there is evidence that each player's lotto numbers really are being selected at random. I would also like to know how randomly the balls are selected from the machine. My guess is that these are fine, but it would be interesting to try and make an argument for why that must be the case."
   ]
  },
  {
   "cell_type": "markdown",
   "metadata": {},
   "source": [
    "So, what are the things that I know?\n",
    "\n",
    "The expected earnings are a function of the probabilities for the winning results. Since the winning are to be divided up among the winning players, this means they also depend on the number of winners as well as the numbers they consider popular.\n"
   ]
  },
  {
   "cell_type": "code",
   "execution_count": null,
   "metadata": {
    "collapsed": true
   },
   "outputs": [],
   "source": []
  },
  {
   "cell_type": "code",
   "execution_count": null,
   "metadata": {
    "collapsed": true
   },
   "outputs": [],
   "source": []
  },
  {
   "cell_type": "code",
   "execution_count": null,
   "metadata": {
    "collapsed": true
   },
   "outputs": [],
   "source": []
  },
  {
   "cell_type": "code",
   "execution_count": null,
   "metadata": {
    "collapsed": true
   },
   "outputs": [],
   "source": []
  },
  {
   "cell_type": "code",
   "execution_count": null,
   "metadata": {
    "collapsed": true
   },
   "outputs": [],
   "source": []
  },
  {
   "cell_type": "code",
   "execution_count": null,
   "metadata": {
    "collapsed": true
   },
   "outputs": [],
   "source": []
  },
  {
   "cell_type": "code",
   "execution_count": null,
   "metadata": {
    "collapsed": true
   },
   "outputs": [],
   "source": []
  },
  {
   "cell_type": "code",
   "execution_count": null,
   "metadata": {
    "collapsed": true
   },
   "outputs": [],
   "source": []
  },
  {
   "cell_type": "code",
   "execution_count": null,
   "metadata": {
    "collapsed": true
   },
   "outputs": [],
   "source": []
  },
  {
   "cell_type": "code",
   "execution_count": null,
   "metadata": {
    "collapsed": true
   },
   "outputs": [],
   "source": []
  },
  {
   "cell_type": "code",
   "execution_count": null,
   "metadata": {
    "collapsed": true
   },
   "outputs": [],
   "source": []
  },
  {
   "cell_type": "code",
   "execution_count": null,
   "metadata": {
    "collapsed": true
   },
   "outputs": [],
   "source": []
  }
 ],
 "metadata": {
  "anaconda-cloud": {},
  "kernelspec": {
   "display_name": "Python [conda root]",
   "language": "python",
   "name": "conda-root-py"
  },
  "language_info": {
   "codemirror_mode": {
    "name": "ipython",
    "version": 3
   },
   "file_extension": ".py",
   "mimetype": "text/x-python",
   "name": "python",
   "nbconvert_exporter": "python",
   "pygments_lexer": "ipython3",
   "version": "3.5.2"
  }
 },
 "nbformat": 4,
 "nbformat_minor": 1
}

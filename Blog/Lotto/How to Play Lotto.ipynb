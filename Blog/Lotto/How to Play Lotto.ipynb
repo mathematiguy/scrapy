{
 "cells": [
  {
   "cell_type": "markdown",
   "metadata": {},
   "source": [
    "# How to Play Lotto"
   ]
  },
  {
   "cell_type": "markdown",
   "metadata": {},
   "source": [
    "Here I'll be writing up a summary of how the rules for lotto work."
   ]
  },
  {
   "cell_type": "markdown",
   "metadata": {},
   "source": [
    "## Pricing"
   ]
  },
  {
   "cell_type": "markdown",
   "metadata": {},
   "source": [
    "Lotto costs 60 cents per line.\n",
    "\n",
    "When selecting your own numbers (not at random) you must buy a minimum of four lines (costing \\$2.40).\n",
    "\n",
    "You can also play Dips, which range from \\$4.80 to \\$12.00 for Lotto.\n",
    "\n",
    "Strike costs \\$1 per line. You can add 1 to 20 lines of Strike to your Lotto ticket.\n",
    "\n",
    "Powerball costs 60 cents per line.\n",
    "\n",
    "When selecting your own numbers, you must choose a minimum of four lines of both Lotto and Powerball, which will cost \\$4.80. You can also play Dips, which range from \\$9.60 to \\$24 for Lotto Powerball."
   ]
  },
  {
   "cell_type": "code",
   "execution_count": 1,
   "metadata": {
    "collapsed": true
   },
   "outputs": [],
   "source": [
    "import pandas as pd"
   ]
  },
  {
   "cell_type": "code",
   "execution_count": 17,
   "metadata": {
    "collapsed": false
   },
   "outputs": [
    {
     "data": {
      "text/html": [
       "<div>\n",
       "<table border=\"1\" class=\"dataframe\">\n",
       "  <thead>\n",
       "    <tr style=\"text-align: right;\">\n",
       "      <th></th>\n",
       "      <th>Min Lines</th>\n",
       "      <th>Price Per Line</th>\n",
       "    </tr>\n",
       "  </thead>\n",
       "  <tbody>\n",
       "    <tr>\n",
       "      <th>Lotto</th>\n",
       "      <td>4</td>\n",
       "      <td>.60</td>\n",
       "    </tr>\n",
       "    <tr>\n",
       "      <th>Strike</th>\n",
       "      <td>1</td>\n",
       "      <td>1</td>\n",
       "    </tr>\n",
       "    <tr>\n",
       "      <th>Powerball</th>\n",
       "      <td>4</td>\n",
       "      <td>.60</td>\n",
       "    </tr>\n",
       "  </tbody>\n",
       "</table>\n",
       "</div>"
      ],
      "text/plain": [
       "          Min Lines Price Per Line\n",
       "Lotto             4            .60\n",
       "Strike            1              1\n",
       "Powerball         4            .60"
      ]
     },
     "execution_count": 17,
     "metadata": {},
     "output_type": "execute_result"
    }
   ],
   "source": [
    "prices = pd.DataFrame({\"Price Per Line\" : [\".60\", \"1\", \".60\"], \n",
    "                       \"Min Lines\"      : [\"4\", \"1\", \"4\"]\n",
    "                      }, \n",
    "                      index=[\"Lotto\", \"Strike\", \"Powerball\"])\n",
    "prices"
   ]
  },
  {
   "cell_type": "markdown",
   "metadata": {},
   "source": [
    "## Lotto"
   ]
  },
  {
   "cell_type": "markdown",
   "metadata": {},
   "source": [
    "Here I'll have a go at calculating the odds of winning Lotto.\n",
    "\n",
    "Lotto winnings are broken into divisions, and the winnings are shared by the players. Here we will break down each of the divisions, and calculate the odds.\n",
    "\n",
    "Note that numbers need to match, but the order does not matter."
   ]
  },
  {
   "cell_type": "code",
   "execution_count": 89,
   "metadata": {
    "collapsed": false
   },
   "outputs": [
    {
     "data": {
      "text/html": [
       "<div>\n",
       "<table border=\"1\" class=\"dataframe\">\n",
       "  <thead>\n",
       "    <tr style=\"text-align: right;\">\n",
       "      <th></th>\n",
       "      <th>Bonus_Ball</th>\n",
       "      <th>Matching_Numbers</th>\n",
       "    </tr>\n",
       "    <tr>\n",
       "      <th>Division</th>\n",
       "      <th></th>\n",
       "      <th></th>\n",
       "    </tr>\n",
       "  </thead>\n",
       "  <tbody>\n",
       "    <tr>\n",
       "      <th>1</th>\n",
       "      <td>False</td>\n",
       "      <td>6</td>\n",
       "    </tr>\n",
       "    <tr>\n",
       "      <th>2</th>\n",
       "      <td>True</td>\n",
       "      <td>5</td>\n",
       "    </tr>\n",
       "    <tr>\n",
       "      <th>3</th>\n",
       "      <td>False</td>\n",
       "      <td>5</td>\n",
       "    </tr>\n",
       "    <tr>\n",
       "      <th>4</th>\n",
       "      <td>True</td>\n",
       "      <td>4</td>\n",
       "    </tr>\n",
       "    <tr>\n",
       "      <th>5</th>\n",
       "      <td>False</td>\n",
       "      <td>4</td>\n",
       "    </tr>\n",
       "    <tr>\n",
       "      <th>6</th>\n",
       "      <td>True</td>\n",
       "      <td>3</td>\n",
       "    </tr>\n",
       "  </tbody>\n",
       "</table>\n",
       "</div>"
      ],
      "text/plain": [
       "         Bonus_Ball  Matching_Numbers\n",
       "Division                             \n",
       "1             False                 6\n",
       "2              True                 5\n",
       "3             False                 5\n",
       "4              True                 4\n",
       "5             False                 4\n",
       "6              True                 3"
      ]
     },
     "execution_count": 89,
     "metadata": {},
     "output_type": "execute_result"
    }
   ],
   "source": [
    "df = pd.DataFrame({'Matching_Numbers' : [6,5,5,4,4,3],\n",
    "                  'Bonus_Ball' : [False, True, False, True, False, True]\n",
    "                  },\n",
    "                  index=[1,2,3,4,5,6]\n",
    "                 )\n",
    "df.index.name = 'Division'\n",
    "df"
   ]
  },
  {
   "cell_type": "code",
   "execution_count": 165,
   "metadata": {
    "collapsed": true
   },
   "outputs": [],
   "source": [
    "def binomial(n,k):\n",
    "    def prod(lis):\n",
    "        from functools import reduce\n",
    "        return reduce(lambda x, y: x*y, lis)\n",
    "\n",
    "    numerator   = prod(list(range(n-k+1, n+1)))\n",
    "    denominator = prod(list(range(1, k+1)))\n",
    "    return numerator/denominator"
   ]
  },
  {
   "cell_type": "code",
   "execution_count": 181,
   "metadata": {
    "collapsed": false
   },
   "outputs": [
    {
     "data": {
      "text/plain": [
       "780.0"
      ]
     },
     "execution_count": 181,
     "metadata": {},
     "output_type": "execute_result"
    }
   ],
   "source": [
    "binomial(40,2)"
   ]
  },
  {
   "cell_type": "code",
   "execution_count": 86,
   "metadata": {
    "collapsed": true
   },
   "outputs": [],
   "source": [
    "import numpy as np"
   ]
  },
  {
   "cell_type": "code",
   "execution_count": 190,
   "metadata": {
    "collapsed": false
   },
   "outputs": [],
   "source": [
    "def calculate_odds(matching_nums, bonus_ball):\n",
    "    def binomial(n,k):\n",
    "        def prod(lis):\n",
    "            from functools import reduce\n",
    "            return reduce(lambda x, y: x*y, lis)\n",
    "        print(n,k)\n",
    "        numerator   = prod(list(range(n-k+1, n+1)))\n",
    "        denominator = prod(list(range(1, k+1)))\n",
    "        return numerator/denominator\n",
    "            \n",
    "    tot_balls = 40\n",
    "    num_balls = 6\n",
    "    if bonus_ball:\n",
    "        return 0\n",
    "    else:\n",
    "        return binomial(tot_balls, num_balls)/(binomial(num_balls, matching_nums) * binomial(tot_balls - num_balls, num_balls - matching_nums))"
   ]
  },
  {
   "cell_type": "code",
   "execution_count": 191,
   "metadata": {
    "collapsed": false
   },
   "outputs": [
    {
     "name": "stdout",
     "output_type": "stream",
     "text": [
      "40 6\n",
      "6 5\n",
      "34 1\n"
     ]
    },
    {
     "data": {
      "text/plain": [
       "18815.58823529412"
      ]
     },
     "execution_count": 191,
     "metadata": {},
     "output_type": "execute_result"
    }
   ],
   "source": [
    "calculate_odds(5, False)"
   ]
  },
  {
   "cell_type": "markdown",
   "metadata": {},
   "source": [
    "How do you calculate the odds of winning a given division in Lotto? Selecting the right numbers is easy, but the hard part is the bonus number.\n",
    "\n",
    "We will begin by choosing the odds of selecting 5 numbers correctly with the bonus number."
   ]
  },
  {
   "cell_type": "code",
   "execution_count": 104,
   "metadata": {
    "collapsed": false
   },
   "outputs": [
    {
     "data": {
      "text/plain": [
       "3838380"
      ]
     },
     "execution_count": 104,
     "metadata": {},
     "output_type": "execute_result"
    }
   ],
   "source": [
    "binomial(40,6)"
   ]
  },
  {
   "cell_type": "markdown",
   "metadata": {},
   "source": [
    "If you choose 5 numbers correctly with the bonus number, then there is only one number you are able to get wrong."
   ]
  },
  {
   "cell_type": "code",
   "execution_count": 105,
   "metadata": {
    "collapsed": false
   },
   "outputs": [
    {
     "data": {
      "text/plain": [
       "658008"
      ]
     },
     "execution_count": 105,
     "metadata": {},
     "output_type": "execute_result"
    }
   ],
   "source": [
    "binomial(40,5)"
   ]
  },
  {
   "cell_type": "code",
   "execution_count": null,
   "metadata": {
    "collapsed": true
   },
   "outputs": [],
   "source": []
  },
  {
   "cell_type": "code",
   "execution_count": null,
   "metadata": {
    "collapsed": true
   },
   "outputs": [],
   "source": []
  },
  {
   "cell_type": "code",
   "execution_count": null,
   "metadata": {
    "collapsed": true
   },
   "outputs": [],
   "source": []
  },
  {
   "cell_type": "code",
   "execution_count": 84,
   "metadata": {
    "collapsed": false
   },
   "outputs": [
    {
     "data": {
      "text/plain": [
       "18278/3"
      ]
     },
     "execution_count": 84,
     "metadata": {},
     "output_type": "execute_result"
    }
   ],
   "source": [
    "calculate_odds(4,False)"
   ]
  },
  {
   "cell_type": "code",
   "execution_count": 51,
   "metadata": {
    "collapsed": true
   },
   "outputs": [],
   "source": [
    "from sympy import binomial"
   ]
  },
  {
   "cell_type": "code",
   "execution_count": 52,
   "metadata": {
    "collapsed": false
   },
   "outputs": [
    {
     "data": {
      "text/plain": [
       "1"
      ]
     },
     "execution_count": 52,
     "metadata": {},
     "output_type": "execute_result"
    }
   ],
   "source": [
    "binomial(1,1)"
   ]
  },
  {
   "cell_type": "code",
   "execution_count": 54,
   "metadata": {
    "collapsed": false
   },
   "outputs": [
    {
     "data": {
      "text/plain": [
       "3838380"
      ]
     },
     "execution_count": 54,
     "metadata": {},
     "output_type": "execute_result"
    }
   ],
   "source": [
    "binomial(40,6)"
   ]
  },
  {
   "cell_type": "markdown",
   "metadata": {},
   "source": [
    "## Lotto Strike"
   ]
  },
  {
   "cell_type": "markdown",
   "metadata": {},
   "source": [
    "The aim of Strike is to pick the first four Lotto numbers in the correct order. The more you pick in the right order the more you win.\n",
    "\n",
    "To play strike you select 4 numbers between 1 and 40 and the order you think they will be drawn.\n",
    "\n",
    "Strike is an add-on game, which means you need to play Lotto first. You can play as few as one line, or as many as 20 lines of strike."
   ]
  },
  {
   "cell_type": "markdown",
   "metadata": {},
   "source": [
    "Let's have a go at calculating the odds for winning each level of Strike. Since Strike requires the numbers to be selected in the correct order, we need to take this into consideration."
   ]
  },
  {
   "cell_type": "code",
   "execution_count": 35,
   "metadata": {
    "collapsed": true
   },
   "outputs": [],
   "source": [
    "def permutation(n,k):\n",
    "    res = n\n",
    "    for i in range(1,k):\n",
    "        res *= n-i\n",
    "    return res"
   ]
  },
  {
   "cell_type": "code",
   "execution_count": 37,
   "metadata": {
    "collapsed": false
   },
   "outputs": [
    {
     "data": {
      "text/plain": [
       "{1: 40, 2: 1560, 3: 59280, 4: 2193360}"
      ]
     },
     "execution_count": 37,
     "metadata": {},
     "output_type": "execute_result"
    }
   ],
   "source": [
    "{i:permutation(40,i) for i in range(1,5)}"
   ]
  },
  {
   "cell_type": "markdown",
   "metadata": {},
   "source": [
    "## Powerball"
   ]
  },
  {
   "cell_type": "markdown",
   "metadata": {},
   "source": [
    "The aim of Powerball is to select the correct Powerball number that is drawn. You need to play Lotto in order to play Powerball.\n",
    "\n",
    "Powerball has its own numbers and a separate draw, which happens immediately after the Lotto draw.\n",
    "\n",
    "To play Powerball, simply pick one number from between 1 and 10 for each Lotto line on your ticket.\n",
    "\n",
    "You can choose to have the same Powerball number for all of your Lotto lines, or mix it up. You can pick your Powerball numbers yourself or get a random selection."
   ]
  },
  {
   "cell_type": "markdown",
   "metadata": {},
   "source": [
    "## First Division Jackpots"
   ]
  },
  {
   "cell_type": "markdown",
   "metadata": {},
   "source": [
    "The top prizes for Powerball and Strike will each jackpot if the First Division in that game is not won. However there are limits to this:\n",
    "\n",
    "- Powerball may not jackpot after the First Division jackpot has reached \\$40 million.\n",
    "\n",
    "- Strike may not jackpot after the First division (Strike Four) has reached \\$800,000, or for more than nine consecutive weeks.\n",
    "\n",
    "In the instance that one of these situations occurs, a ‘Must Be Won’ draw will be called for the game concerned. Must Be Won draw means that if there are no First Division winners, the entire jackpot rolls down to the next division where there are winners."
   ]
  },
  {
   "cell_type": "code",
   "execution_count": null,
   "metadata": {
    "collapsed": true
   },
   "outputs": [],
   "source": []
  },
  {
   "cell_type": "code",
   "execution_count": null,
   "metadata": {
    "collapsed": true
   },
   "outputs": [],
   "source": []
  },
  {
   "cell_type": "code",
   "execution_count": null,
   "metadata": {
    "collapsed": true
   },
   "outputs": [],
   "source": []
  },
  {
   "cell_type": "code",
   "execution_count": null,
   "metadata": {
    "collapsed": true
   },
   "outputs": [],
   "source": []
  },
  {
   "cell_type": "code",
   "execution_count": null,
   "metadata": {
    "collapsed": true
   },
   "outputs": [],
   "source": []
  },
  {
   "cell_type": "code",
   "execution_count": null,
   "metadata": {
    "collapsed": true
   },
   "outputs": [],
   "source": []
  },
  {
   "cell_type": "code",
   "execution_count": null,
   "metadata": {
    "collapsed": true
   },
   "outputs": [],
   "source": []
  }
 ],
 "metadata": {
  "anaconda-cloud": {},
  "kernelspec": {
   "display_name": "Python [conda root]",
   "language": "python",
   "name": "conda-root-py"
  },
  "language_info": {
   "codemirror_mode": {
    "name": "ipython",
    "version": 3
   },
   "file_extension": ".py",
   "mimetype": "text/x-python",
   "name": "python",
   "nbconvert_exporter": "python",
   "pygments_lexer": "ipython3",
   "version": "3.5.2"
  }
 },
 "nbformat": 4,
 "nbformat_minor": 1
}

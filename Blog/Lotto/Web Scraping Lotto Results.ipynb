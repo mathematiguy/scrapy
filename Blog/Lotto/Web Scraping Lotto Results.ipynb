{
 "cells": [
  {
   "cell_type": "markdown",
   "metadata": {},
   "source": [
    "# Web Scraping Lotto Results"
   ]
  },
  {
   "cell_type": "markdown",
   "metadata": {},
   "source": [
    "Here I'll be learning web scraping in python."
   ]
  },
  {
   "cell_type": "code",
   "execution_count": 2,
   "metadata": {
    "collapsed": true
   },
   "outputs": [],
   "source": [
    "from bs4 import BeautifulSoup\n",
    "import re"
   ]
  },
  {
   "cell_type": "markdown",
   "metadata": {},
   "source": [
    "The first thing to do is create a `BeautifulSoup` object from the starting url. This will be processed to gather links for further investigation."
   ]
  },
  {
   "cell_type": "code",
   "execution_count": 3,
   "metadata": {
    "collapsed": false
   },
   "outputs": [],
   "source": [
    "# Here is where we will begin scraping\n",
    "url = \"http://lottoresults.co.nz/lotto/archive\"\n",
    "\n",
    "def read_url(url):\n",
    "    # This reads in a url and returns a BeautifulSoup\n",
    "    # object. It also catches errors if something goes\n",
    "    # wrong\n",
    "    from urllib.request import urlopen\n",
    "    from urllib.error import HTTPError\n",
    "    try:\n",
    "        html = urlopen(url)\n",
    "    except HTTPError as e:\n",
    "        print(e)\n",
    "        return None\n",
    "    try:\n",
    "        soup = BeautifulSoup(html.read(), \"lxml\")\n",
    "    except AttributeError as e:\n",
    "        print(e)\n",
    "        return None\n",
    "    return soup\n",
    "\n",
    "soup = read_url(url)"
   ]
  },
  {
   "cell_type": "markdown",
   "metadata": {},
   "source": [
    "Next, we will take a peek at all of the hyperlinks we have found. We will be looking for the links which point to the data we're looking for."
   ]
  },
  {
   "cell_type": "code",
   "execution_count": 4,
   "metadata": {
    "collapsed": false
   },
   "outputs": [
    {
     "data": {
      "text/plain": [
       "[<a class=\"navbar-brand\" href=\"/\">LottoResults.co.nz</a>,\n",
       " <a class=\"game\" href=\"/lotto/\" title=\"Lotto\">Lotto</a>,\n",
       " <a class=\"game\" href=\"/keno/\" title=\"Keno\">Keno</a>,\n",
       " <a class=\"game\" href=\"/bullseye/\" title=\"Bullseye\">Bullseye</a>,\n",
       " <a class=\"game\" href=\"/play3/\" title=\"Play 3\">Play 3</a>,\n",
       " <a class=\"world\" href=\"/worldwide-lotteries/\" title=\"Worldwide Lotteries\">Worldwide Lotteries</a>,\n",
       " <a class=\"faq\" href=\"/faq/\" title=\"FAQ\">FAQ</a>,\n",
       " <a class=\"tools\" href=\"/tools/\" title=\"Tools\">Tools</a>,\n",
       " <a href=\"/lotto/faq\">Lotto FAQ</a>,\n",
       " <a href=\"/\" title=\"Home\">Home</a>,\n",
       " <a href=\"/lotto/\" title=\"Lotto\">Lotto</a>,\n",
       " <a aria-controls=\"archive-1\" aria-expanded=\"false\" class=\"toggler collapsed\" data-toggle=\"collapse\" href=\"#archive-1\" role=\"button\">2016 Lotto Results</a>,\n",
       " <a href=\"/lotto/december-2016\">December 2016</a>,\n",
       " <a href=\"/lotto/november-2016\">November 2016</a>,\n",
       " <a href=\"/lotto/october-2016\">October 2016</a>,\n",
       " <a href=\"/lotto/september-2016\">September 2016</a>,\n",
       " <a href=\"/lotto/august-2016\">August 2016</a>,\n",
       " <a href=\"/lotto/july-2016\">July 2016</a>,\n",
       " <a href=\"/lotto/june-2016\">June 2016</a>,\n",
       " <a href=\"/lotto/may-2016\">May 2016</a>,\n",
       " <a href=\"/lotto/april-2016\">April 2016</a>,\n",
       " <a href=\"/lotto/march-2016\">March 2016</a>,\n",
       " <a href=\"/lotto/february-2016\">February 2016</a>,\n",
       " <a href=\"/lotto/january-2016\">January 2016</a>,\n",
       " <a aria-controls=\"archive-2\" aria-expanded=\"false\" class=\"toggler collapsed\" data-toggle=\"collapse\" href=\"#archive-2\" role=\"button\">2015 Lotto Results</a>,\n",
       " <a href=\"/lotto/december-2015\">December 2015</a>,\n",
       " <a href=\"/lotto/november-2015\">November 2015</a>,\n",
       " <a href=\"/lotto/october-2015\">October 2015</a>,\n",
       " <a href=\"/lotto/september-2015\">September 2015</a>,\n",
       " <a href=\"/lotto/august-2015\">August 2015</a>,\n",
       " <a href=\"/lotto/july-2015\">July 2015</a>,\n",
       " <a href=\"/lotto/june-2015\">June 2015</a>,\n",
       " <a href=\"/lotto/may-2015\">May 2015</a>,\n",
       " <a href=\"/lotto/april-2015\">April 2015</a>,\n",
       " <a href=\"/lotto/march-2015\">March 2015</a>,\n",
       " <a href=\"/lotto/february-2015\">February 2015</a>,\n",
       " <a href=\"/lotto/january-2015\">January 2015</a>,\n",
       " <a aria-controls=\"archive-3\" aria-expanded=\"false\" class=\"toggler collapsed\" data-toggle=\"collapse\" href=\"#archive-3\" role=\"button\">2014 Lotto Results</a>,\n",
       " <a href=\"/lotto/december-2014\">December 2014</a>,\n",
       " <a href=\"/lotto/november-2014\">November 2014</a>,\n",
       " <a href=\"/lotto/october-2014\">October 2014</a>,\n",
       " <a href=\"/lotto/september-2014\">September 2014</a>,\n",
       " <a href=\"/lotto/august-2014\">August 2014</a>,\n",
       " <a href=\"/lotto/july-2014\">July 2014</a>,\n",
       " <a href=\"/lotto/june-2014\">June 2014</a>,\n",
       " <a href=\"/lotto/may-2014\">May 2014</a>,\n",
       " <a href=\"/lotto/april-2014\">April 2014</a>,\n",
       " <a href=\"/lotto/march-2014\">March 2014</a>,\n",
       " <a href=\"/lotto/february-2014\">February 2014</a>,\n",
       " <a href=\"/lotto/january-2014\">January 2014</a>,\n",
       " <a aria-controls=\"archive-4\" aria-expanded=\"false\" class=\"toggler collapsed\" data-toggle=\"collapse\" href=\"#archive-4\" role=\"button\">2013 Lotto Results</a>,\n",
       " <a href=\"/lotto/december-2013\">December 2013</a>,\n",
       " <a href=\"/lotto/november-2013\">November 2013</a>,\n",
       " <a href=\"/lotto/october-2013\">October 2013</a>,\n",
       " <a href=\"/lotto/september-2013\">September 2013</a>,\n",
       " <a href=\"/lotto/august-2013\">August 2013</a>,\n",
       " <a href=\"/lotto/july-2013\">July 2013</a>,\n",
       " <a href=\"/lotto/june-2013\">June 2013</a>,\n",
       " <a href=\"/lotto/may-2013\">May 2013</a>,\n",
       " <a href=\"/lotto/april-2013\">April 2013</a>,\n",
       " <a href=\"/lotto/march-2013\">March 2013</a>,\n",
       " <a href=\"/lotto/february-2013\">February 2013</a>,\n",
       " <a href=\"/lotto/january-2013\">January 2013</a>,\n",
       " <a aria-controls=\"archive-5\" aria-expanded=\"false\" class=\"toggler collapsed\" data-toggle=\"collapse\" href=\"#archive-5\" role=\"button\">2012 Lotto Results</a>,\n",
       " <a href=\"/lotto/december-2012\">December 2012</a>,\n",
       " <a href=\"/lotto/november-2012\">November 2012</a>,\n",
       " <a href=\"/lotto/october-2012\">October 2012</a>,\n",
       " <a href=\"/lotto/september-2012\">September 2012</a>,\n",
       " <a href=\"/lotto/august-2012\">August 2012</a>,\n",
       " <a href=\"/lotto/july-2012\">July 2012</a>,\n",
       " <a href=\"/lotto/june-2012\">June 2012</a>,\n",
       " <a href=\"/lotto/may-2012\">May 2012</a>,\n",
       " <a href=\"/lotto/april-2012\">April 2012</a>,\n",
       " <a href=\"/lotto/march-2012\">March 2012</a>,\n",
       " <a href=\"/lotto/february-2012\">February 2012</a>,\n",
       " <a href=\"/lotto/january-2012\">January 2012</a>,\n",
       " <a aria-controls=\"archive-6\" aria-expanded=\"false\" class=\"toggler collapsed\" data-toggle=\"collapse\" href=\"#archive-6\" role=\"button\">2011 Lotto Results</a>,\n",
       " <a href=\"/lotto/december-2011\">December 2011</a>,\n",
       " <a href=\"/lotto/november-2011\">November 2011</a>,\n",
       " <a href=\"/lotto/october-2011\">October 2011</a>,\n",
       " <a href=\"/lotto/september-2011\">September 2011</a>,\n",
       " <a href=\"/lotto/august-2011\">August 2011</a>,\n",
       " <a href=\"/lotto/july-2011\">July 2011</a>,\n",
       " <a href=\"/lotto/june-2011\">June 2011</a>,\n",
       " <a href=\"/lotto/may-2011\">May 2011</a>,\n",
       " <a href=\"/lotto/april-2011\">April 2011</a>,\n",
       " <a href=\"/lotto/march-2011\">March 2011</a>,\n",
       " <a href=\"/lotto/february-2011\">February 2011</a>,\n",
       " <a href=\"/lotto/january-2011\">January 2011</a>,\n",
       " <a aria-controls=\"archive-7\" aria-expanded=\"false\" class=\"toggler collapsed\" data-toggle=\"collapse\" href=\"#archive-7\" role=\"button\">2010 Lotto Results</a>,\n",
       " <a href=\"/lotto/december-2010\">December 2010</a>,\n",
       " <a href=\"/lotto/november-2010\">November 2010</a>,\n",
       " <a href=\"/lotto/october-2010\">October 2010</a>,\n",
       " <a href=\"/lotto/september-2010\">September 2010</a>,\n",
       " <a href=\"/lotto/august-2010\">August 2010</a>,\n",
       " <a href=\"/lotto/july-2010\">July 2010</a>,\n",
       " <a href=\"/lotto/june-2010\">June 2010</a>,\n",
       " <a href=\"/lotto/may-2010\">May 2010</a>,\n",
       " <a href=\"/lotto/april-2010\">April 2010</a>,\n",
       " <a href=\"/lotto/march-2010\">March 2010</a>,\n",
       " <a href=\"/lotto/february-2010\">February 2010</a>,\n",
       " <a href=\"/lotto/january-2010\">January 2010</a>,\n",
       " <a aria-controls=\"archive-8\" aria-expanded=\"false\" class=\"toggler collapsed\" data-toggle=\"collapse\" href=\"#archive-8\" role=\"button\">2009 Lotto Results</a>,\n",
       " <a href=\"/lotto/december-2009\">December 2009</a>,\n",
       " <a href=\"/lotto/november-2009\">November 2009</a>,\n",
       " <a href=\"/lotto/october-2009\">October 2009</a>,\n",
       " <a href=\"/lotto/september-2009\">September 2009</a>,\n",
       " <a href=\"/lotto/august-2009\">August 2009</a>,\n",
       " <a href=\"/lotto/july-2009\">July 2009</a>,\n",
       " <a href=\"/lotto/june-2009\">June 2009</a>,\n",
       " <a href=\"/lotto/may-2009\">May 2009</a>,\n",
       " <a href=\"/lotto/april-2009\">April 2009</a>,\n",
       " <a href=\"/lotto/march-2009\">March 2009</a>,\n",
       " <a href=\"/lotto/february-2009\">February 2009</a>,\n",
       " <a href=\"/lotto/january-2009\">January 2009</a>,\n",
       " <a aria-controls=\"archive-9\" aria-expanded=\"false\" class=\"toggler collapsed\" data-toggle=\"collapse\" href=\"#archive-9\" role=\"button\">2008 Lotto Results</a>,\n",
       " <a href=\"/lotto/december-2008\">December 2008</a>,\n",
       " <a href=\"/lotto/november-2008\">November 2008</a>,\n",
       " <a href=\"/lotto/october-2008\">October 2008</a>,\n",
       " <a href=\"/lotto/september-2008\">September 2008</a>,\n",
       " <a href=\"/lotto/august-2008\">August 2008</a>,\n",
       " <a href=\"/lotto/july-2008\">July 2008</a>,\n",
       " <a href=\"/lotto/june-2008\">June 2008</a>,\n",
       " <a href=\"/lotto/may-2008\">May 2008</a>,\n",
       " <a href=\"/lotto/april-2008\">April 2008</a>,\n",
       " <a href=\"/lotto/march-2008\">March 2008</a>,\n",
       " <a href=\"/lotto/february-2008\">February 2008</a>,\n",
       " <a href=\"/lotto/january-2008\">January 2008</a>,\n",
       " <a aria-controls=\"archive-10\" aria-expanded=\"false\" class=\"toggler collapsed\" data-toggle=\"collapse\" href=\"#archive-10\" role=\"button\">2007 Lotto Results</a>,\n",
       " <a href=\"/lotto/december-2007\">December 2007</a>,\n",
       " <a href=\"/lotto/november-2007\">November 2007</a>,\n",
       " <a href=\"/lotto/october-2007\">October 2007</a>,\n",
       " <a href=\"/lotto/september-2007\">September 2007</a>,\n",
       " <a href=\"/lotto/august-2007\">August 2007</a>,\n",
       " <a href=\"/lotto/july-2007\">July 2007</a>,\n",
       " <a href=\"/lotto/june-2007\">June 2007</a>,\n",
       " <a href=\"/lotto/may-2007\">May 2007</a>,\n",
       " <a href=\"/lotto/april-2007\">April 2007</a>,\n",
       " <a href=\"/lotto/march-2007\">March 2007</a>,\n",
       " <a href=\"/lotto/february-2007\">February 2007</a>,\n",
       " <a href=\"/lotto/january-2007\">January 2007</a>,\n",
       " <a aria-controls=\"archive-11\" aria-expanded=\"false\" class=\"toggler collapsed\" data-toggle=\"collapse\" href=\"#archive-11\" role=\"button\">2006 Lotto Results</a>,\n",
       " <a href=\"/lotto/december-2006\">December 2006</a>,\n",
       " <a href=\"/lotto/november-2006\">November 2006</a>,\n",
       " <a href=\"/lotto/october-2006\">October 2006</a>,\n",
       " <a href=\"/lotto/september-2006\">September 2006</a>,\n",
       " <a href=\"/lotto/august-2006\">August 2006</a>,\n",
       " <a href=\"/lotto/july-2006\">July 2006</a>,\n",
       " <a href=\"/lotto/june-2006\">June 2006</a>,\n",
       " <a href=\"/lotto/may-2006\">May 2006</a>,\n",
       " <a href=\"/lotto/april-2006\">April 2006</a>,\n",
       " <a href=\"/lotto/march-2006\">March 2006</a>,\n",
       " <a href=\"/lotto/february-2006\">February 2006</a>,\n",
       " <a href=\"/lotto/january-2006\">January 2006</a>,\n",
       " <a aria-controls=\"archive-12\" aria-expanded=\"false\" class=\"toggler collapsed\" data-toggle=\"collapse\" href=\"#archive-12\" role=\"button\">2005 Lotto Results</a>,\n",
       " <a href=\"/lotto/december-2005\">December 2005</a>,\n",
       " <a href=\"/lotto/november-2005\">November 2005</a>,\n",
       " <a href=\"/lotto/october-2005\">October 2005</a>,\n",
       " <a href=\"/lotto/september-2005\">September 2005</a>,\n",
       " <a href=\"/lotto/august-2005\">August 2005</a>,\n",
       " <a href=\"/lotto/july-2005\">July 2005</a>,\n",
       " <a href=\"/lotto/june-2005\">June 2005</a>,\n",
       " <a href=\"/lotto/may-2005\">May 2005</a>,\n",
       " <a href=\"/lotto/april-2005\">April 2005</a>,\n",
       " <a href=\"/lotto/march-2005\">March 2005</a>,\n",
       " <a href=\"/lotto/february-2005\">February 2005</a>,\n",
       " <a href=\"/lotto/january-2005\">January 2005</a>,\n",
       " <a aria-controls=\"archive-13\" aria-expanded=\"false\" class=\"toggler collapsed\" data-toggle=\"collapse\" href=\"#archive-13\" role=\"button\">2004 Lotto Results</a>,\n",
       " <a href=\"/lotto/december-2004\">December 2004</a>,\n",
       " <a href=\"/lotto/november-2004\">November 2004</a>,\n",
       " <a href=\"/lotto/october-2004\">October 2004</a>,\n",
       " <a href=\"/lotto/september-2004\">September 2004</a>,\n",
       " <a href=\"/lotto/august-2004\">August 2004</a>,\n",
       " <a href=\"/lotto/july-2004\">July 2004</a>,\n",
       " <a href=\"/lotto/june-2004\">June 2004</a>,\n",
       " <a href=\"/lotto/may-2004\">May 2004</a>,\n",
       " <a href=\"/lotto/april-2004\">April 2004</a>,\n",
       " <a href=\"/lotto/march-2004\">March 2004</a>,\n",
       " <a href=\"/lotto/february-2004\">February 2004</a>,\n",
       " <a href=\"/lotto/january-2004\">January 2004</a>,\n",
       " <a aria-controls=\"archive-14\" aria-expanded=\"false\" class=\"toggler collapsed\" data-toggle=\"collapse\" href=\"#archive-14\" role=\"button\">2003 Lotto Results</a>,\n",
       " <a href=\"/lotto/december-2003\">December 2003</a>,\n",
       " <a href=\"/lotto/november-2003\">November 2003</a>,\n",
       " <a href=\"/lotto/october-2003\">October 2003</a>,\n",
       " <a href=\"/lotto/september-2003\">September 2003</a>,\n",
       " <a href=\"/lotto/august-2003\">August 2003</a>,\n",
       " <a href=\"/lotto/july-2003\">July 2003</a>,\n",
       " <a href=\"/lotto/june-2003\">June 2003</a>,\n",
       " <a href=\"/lotto/may-2003\">May 2003</a>,\n",
       " <a href=\"/lotto/april-2003\">April 2003</a>,\n",
       " <a href=\"/lotto/march-2003\">March 2003</a>,\n",
       " <a href=\"/lotto/february-2003\">February 2003</a>,\n",
       " <a href=\"/lotto/january-2003\">January 2003</a>,\n",
       " <a aria-controls=\"archive-15\" aria-expanded=\"false\" class=\"toggler collapsed\" data-toggle=\"collapse\" href=\"#archive-15\" role=\"button\">2002 Lotto Results</a>,\n",
       " <a href=\"/lotto/december-2002\">December 2002</a>,\n",
       " <a href=\"/lotto/november-2002\">November 2002</a>,\n",
       " <a href=\"/lotto/october-2002\">October 2002</a>,\n",
       " <a href=\"/lotto/september-2002\">September 2002</a>,\n",
       " <a href=\"/lotto/august-2002\">August 2002</a>,\n",
       " <a href=\"/lotto/july-2002\">July 2002</a>,\n",
       " <a href=\"/lotto/june-2002\">June 2002</a>,\n",
       " <a href=\"/lotto/may-2002\">May 2002</a>,\n",
       " <a href=\"/lotto/april-2002\">April 2002</a>,\n",
       " <a href=\"/lotto/march-2002\">March 2002</a>,\n",
       " <a href=\"/lotto/february-2002\">February 2002</a>,\n",
       " <a href=\"/lotto/january-2002\">January 2002</a>,\n",
       " <a aria-controls=\"archive-16\" aria-expanded=\"false\" class=\"toggler collapsed\" data-toggle=\"collapse\" href=\"#archive-16\" role=\"button\">2001 Lotto Results</a>,\n",
       " <a href=\"/lotto/december-2001\">December 2001</a>,\n",
       " <a href=\"/lotto/november-2001\">November 2001</a>,\n",
       " <a href=\"/lotto/october-2001\">October 2001</a>,\n",
       " <a href=\"/lotto/september-2001\">September 2001</a>,\n",
       " <a href=\"/lotto/august-2001\">August 2001</a>,\n",
       " <a href=\"/lotto/july-2001\">July 2001</a>,\n",
       " <a href=\"/lotto/june-2001\">June 2001</a>,\n",
       " <a href=\"/lotto/may-2001\">May 2001</a>,\n",
       " <a href=\"/lotto/april-2001\">April 2001</a>,\n",
       " <a href=\"/lotto/march-2001\">March 2001</a>,\n",
       " <a href=\"/lotto/february-2001\">February 2001</a>,\n",
       " <a href=\"/lotto/january-2001\">January 2001</a>,\n",
       " <a aria-controls=\"archive-17\" aria-expanded=\"false\" class=\"toggler collapsed\" data-toggle=\"collapse\" href=\"#archive-17\" role=\"button\">2000 Lotto Results</a>,\n",
       " <a href=\"/lotto/december-2000\">December 2000</a>,\n",
       " <a href=\"/lotto/november-2000\">November 2000</a>,\n",
       " <a href=\"/lotto/october-2000\">October 2000</a>,\n",
       " <a href=\"/lotto/september-2000\">September 2000</a>,\n",
       " <a href=\"/lotto/august-2000\">August 2000</a>,\n",
       " <a href=\"/lotto/july-2000\">July 2000</a>,\n",
       " <a href=\"/lotto/june-2000\">June 2000</a>,\n",
       " <a href=\"/lotto/may-2000\">May 2000</a>,\n",
       " <a href=\"/lotto/april-2000\">April 2000</a>,\n",
       " <a href=\"/lotto/march-2000\">March 2000</a>,\n",
       " <a href=\"/lotto/february-2000\">February 2000</a>,\n",
       " <a href=\"/lotto/january-2000\">January 2000</a>,\n",
       " <a aria-controls=\"archive-18\" aria-expanded=\"false\" class=\"toggler collapsed\" data-toggle=\"collapse\" href=\"#archive-18\" role=\"button\">1999 Lotto Results</a>,\n",
       " <a href=\"/lotto/december-1999\">December 1999</a>,\n",
       " <a href=\"/lotto/november-1999\">November 1999</a>,\n",
       " <a href=\"/lotto/october-1999\">October 1999</a>,\n",
       " <a href=\"/lotto/september-1999\">September 1999</a>,\n",
       " <a href=\"/lotto/august-1999\">August 1999</a>,\n",
       " <a href=\"/lotto/july-1999\">July 1999</a>,\n",
       " <a href=\"/lotto/june-1999\">June 1999</a>,\n",
       " <a href=\"/lotto/may-1999\">May 1999</a>,\n",
       " <a href=\"/lotto/april-1999\">April 1999</a>,\n",
       " <a href=\"/lotto/march-1999\">March 1999</a>,\n",
       " <a href=\"/lotto/february-1999\">February 1999</a>,\n",
       " <a href=\"/lotto/january-1999\">January 1999</a>,\n",
       " <a aria-controls=\"archive-19\" aria-expanded=\"false\" class=\"toggler collapsed\" data-toggle=\"collapse\" href=\"#archive-19\" role=\"button\">1998 Lotto Results</a>,\n",
       " <a href=\"/lotto/december-1998\">December 1998</a>,\n",
       " <a href=\"/lotto/november-1998\">November 1998</a>,\n",
       " <a href=\"/lotto/october-1998\">October 1998</a>,\n",
       " <a href=\"/lotto/september-1998\">September 1998</a>,\n",
       " <a href=\"/lotto/august-1998\">August 1998</a>,\n",
       " <a href=\"/lotto/july-1998\">July 1998</a>,\n",
       " <a href=\"/lotto/june-1998\">June 1998</a>,\n",
       " <a href=\"/lotto/may-1998\">May 1998</a>,\n",
       " <a href=\"/lotto/april-1998\">April 1998</a>,\n",
       " <a href=\"/lotto/march-1998\">March 1998</a>,\n",
       " <a href=\"/lotto/february-1998\">February 1998</a>,\n",
       " <a href=\"/lotto/january-1998\">January 1998</a>,\n",
       " <a aria-controls=\"archive-20\" aria-expanded=\"false\" class=\"toggler collapsed\" data-toggle=\"collapse\" href=\"#archive-20\" role=\"button\">1997 Lotto Results</a>,\n",
       " <a href=\"/lotto/december-1997\">December 1997</a>,\n",
       " <a href=\"/lotto/november-1997\">November 1997</a>,\n",
       " <a href=\"/lotto/october-1997\">October 1997</a>,\n",
       " <a href=\"/lotto/september-1997\">September 1997</a>,\n",
       " <a href=\"/lotto/august-1997\">August 1997</a>,\n",
       " <a href=\"/lotto/july-1997\">July 1997</a>,\n",
       " <a href=\"/lotto/june-1997\">June 1997</a>,\n",
       " <a href=\"/lotto/may-1997\">May 1997</a>,\n",
       " <a href=\"/lotto/april-1997\">April 1997</a>,\n",
       " <a href=\"/lotto/march-1997\">March 1997</a>,\n",
       " <a href=\"/lotto/february-1997\">February 1997</a>,\n",
       " <a href=\"/lotto/january-1997\">January 1997</a>,\n",
       " <a aria-controls=\"archive-21\" aria-expanded=\"false\" class=\"toggler collapsed\" data-toggle=\"collapse\" href=\"#archive-21\" role=\"button\">1996 Lotto Results</a>,\n",
       " <a href=\"/lotto/december-1996\">December 1996</a>,\n",
       " <a href=\"/lotto/november-1996\">November 1996</a>,\n",
       " <a href=\"/lotto/october-1996\">October 1996</a>,\n",
       " <a href=\"/lotto/september-1996\">September 1996</a>,\n",
       " <a href=\"/lotto/august-1996\">August 1996</a>,\n",
       " <a href=\"/lotto/july-1996\">July 1996</a>,\n",
       " <a href=\"/lotto/june-1996\">June 1996</a>,\n",
       " <a href=\"/lotto/may-1996\">May 1996</a>,\n",
       " <a href=\"/lotto/april-1996\">April 1996</a>,\n",
       " <a href=\"/lotto/march-1996\">March 1996</a>,\n",
       " <a href=\"/lotto/february-1996\">February 1996</a>,\n",
       " <a href=\"/lotto/january-1996\">January 1996</a>,\n",
       " <a aria-controls=\"archive-22\" aria-expanded=\"false\" class=\"toggler collapsed\" data-toggle=\"collapse\" href=\"#archive-22\" role=\"button\">1995 Lotto Results</a>,\n",
       " <a href=\"/lotto/december-1995\">December 1995</a>,\n",
       " <a href=\"/lotto/november-1995\">November 1995</a>,\n",
       " <a href=\"/lotto/october-1995\">October 1995</a>,\n",
       " <a href=\"/lotto/september-1995\">September 1995</a>,\n",
       " <a href=\"/lotto/august-1995\">August 1995</a>,\n",
       " <a href=\"/lotto/july-1995\">July 1995</a>,\n",
       " <a href=\"/lotto/june-1995\">June 1995</a>,\n",
       " <a href=\"/lotto/may-1995\">May 1995</a>,\n",
       " <a href=\"/lotto/april-1995\">April 1995</a>,\n",
       " <a href=\"/lotto/march-1995\">March 1995</a>,\n",
       " <a href=\"/lotto/february-1995\">February 1995</a>,\n",
       " <a href=\"/lotto/january-1995\">January 1995</a>,\n",
       " <a aria-controls=\"archive-23\" aria-expanded=\"false\" class=\"toggler collapsed\" data-toggle=\"collapse\" href=\"#archive-23\" role=\"button\">1994 Lotto Results</a>,\n",
       " <a href=\"/lotto/december-1994\">December 1994</a>,\n",
       " <a href=\"/lotto/november-1994\">November 1994</a>,\n",
       " <a href=\"/lotto/october-1994\">October 1994</a>,\n",
       " <a href=\"/lotto/september-1994\">September 1994</a>,\n",
       " <a href=\"/lotto/august-1994\">August 1994</a>,\n",
       " <a href=\"/lotto/july-1994\">July 1994</a>,\n",
       " <a href=\"/lotto/june-1994\">June 1994</a>,\n",
       " <a href=\"/lotto/may-1994\">May 1994</a>,\n",
       " <a href=\"/lotto/april-1994\">April 1994</a>,\n",
       " <a href=\"/lotto/march-1994\">March 1994</a>,\n",
       " <a href=\"/lotto/february-1994\">February 1994</a>,\n",
       " <a href=\"/lotto/january-1994\">January 1994</a>,\n",
       " <a aria-controls=\"archive-24\" aria-expanded=\"false\" class=\"toggler collapsed\" data-toggle=\"collapse\" href=\"#archive-24\" role=\"button\">1993 Lotto Results</a>,\n",
       " <a href=\"/lotto/december-1993\">December 1993</a>,\n",
       " <a href=\"/lotto/november-1993\">November 1993</a>,\n",
       " <a href=\"/lotto/october-1993\">October 1993</a>,\n",
       " <a href=\"/lotto/september-1993\">September 1993</a>,\n",
       " <a href=\"/lotto/august-1993\">August 1993</a>,\n",
       " <a href=\"/lotto/july-1993\">July 1993</a>,\n",
       " <a href=\"/lotto/june-1993\">June 1993</a>,\n",
       " <a href=\"/lotto/may-1993\">May 1993</a>,\n",
       " <a href=\"/lotto/april-1993\">April 1993</a>,\n",
       " <a href=\"/lotto/march-1993\">March 1993</a>,\n",
       " <a href=\"/lotto/february-1993\">February 1993</a>,\n",
       " <a href=\"/lotto/january-1993\">January 1993</a>,\n",
       " <a aria-controls=\"archive-25\" aria-expanded=\"false\" class=\"toggler collapsed\" data-toggle=\"collapse\" href=\"#archive-25\" role=\"button\">1992 Lotto Results</a>,\n",
       " <a href=\"/lotto/december-1992\">December 1992</a>,\n",
       " <a href=\"/lotto/november-1992\">November 1992</a>,\n",
       " <a href=\"/lotto/october-1992\">October 1992</a>,\n",
       " <a href=\"/lotto/september-1992\">September 1992</a>,\n",
       " <a href=\"/lotto/august-1992\">August 1992</a>,\n",
       " <a href=\"/lotto/july-1992\">July 1992</a>,\n",
       " <a href=\"/lotto/june-1992\">June 1992</a>,\n",
       " <a href=\"/lotto/may-1992\">May 1992</a>,\n",
       " <a href=\"/lotto/april-1992\">April 1992</a>,\n",
       " <a href=\"/lotto/march-1992\">March 1992</a>,\n",
       " <a href=\"/lotto/february-1992\">February 1992</a>,\n",
       " <a href=\"/lotto/january-1992\">January 1992</a>,\n",
       " <a aria-controls=\"archive-26\" aria-expanded=\"false\" class=\"toggler collapsed\" data-toggle=\"collapse\" href=\"#archive-26\" role=\"button\">1991 Lotto Results</a>,\n",
       " <a href=\"/lotto/december-1991\">December 1991</a>,\n",
       " <a href=\"/lotto/november-1991\">November 1991</a>,\n",
       " <a href=\"/lotto/october-1991\">October 1991</a>,\n",
       " <a href=\"/lotto/september-1991\">September 1991</a>,\n",
       " <a href=\"/lotto/august-1991\">August 1991</a>,\n",
       " <a href=\"/lotto/july-1991\">July 1991</a>,\n",
       " <a href=\"/lotto/june-1991\">June 1991</a>,\n",
       " <a href=\"/lotto/may-1991\">May 1991</a>,\n",
       " <a href=\"/lotto/april-1991\">April 1991</a>,\n",
       " <a href=\"/lotto/march-1991\">March 1991</a>,\n",
       " <a href=\"/lotto/february-1991\">February 1991</a>,\n",
       " <a href=\"/lotto/january-1991\">January 1991</a>,\n",
       " <a aria-controls=\"archive-27\" aria-expanded=\"false\" class=\"toggler collapsed\" data-toggle=\"collapse\" href=\"#archive-27\" role=\"button\">1990 Lotto Results</a>,\n",
       " <a href=\"/lotto/december-1990\">December 1990</a>,\n",
       " <a href=\"/lotto/november-1990\">November 1990</a>,\n",
       " <a href=\"/lotto/october-1990\">October 1990</a>,\n",
       " <a href=\"/lotto/september-1990\">September 1990</a>,\n",
       " <a href=\"/lotto/august-1990\">August 1990</a>,\n",
       " <a href=\"/lotto/july-1990\">July 1990</a>,\n",
       " <a href=\"/lotto/june-1990\">June 1990</a>,\n",
       " <a href=\"/lotto/may-1990\">May 1990</a>,\n",
       " <a href=\"/lotto/april-1990\">April 1990</a>,\n",
       " <a href=\"/lotto/march-1990\">March 1990</a>,\n",
       " <a href=\"/lotto/february-1990\">February 1990</a>,\n",
       " <a href=\"/lotto/january-1990\">January 1990</a>,\n",
       " <a aria-controls=\"archive-28\" aria-expanded=\"false\" class=\"toggler collapsed\" data-toggle=\"collapse\" href=\"#archive-28\" role=\"button\">1989 Lotto Results</a>,\n",
       " <a href=\"/lotto/december-1989\">December 1989</a>,\n",
       " <a href=\"/lotto/november-1989\">November 1989</a>,\n",
       " <a href=\"/lotto/october-1989\">October 1989</a>,\n",
       " <a href=\"/lotto/september-1989\">September 1989</a>,\n",
       " <a href=\"/lotto/august-1989\">August 1989</a>,\n",
       " <a href=\"/lotto/july-1989\">July 1989</a>,\n",
       " <a href=\"/lotto/june-1989\">June 1989</a>,\n",
       " <a href=\"/lotto/may-1989\">May 1989</a>,\n",
       " <a href=\"/lotto/april-1989\">April 1989</a>,\n",
       " <a href=\"/lotto/march-1989\">March 1989</a>,\n",
       " <a href=\"/lotto/february-1989\">February 1989</a>,\n",
       " <a href=\"/lotto/january-1989\">January 1989</a>,\n",
       " <a aria-controls=\"archive-29\" aria-expanded=\"false\" class=\"toggler collapsed\" data-toggle=\"collapse\" href=\"#archive-29\" role=\"button\">1988 Lotto Results</a>,\n",
       " <a href=\"/lotto/december-1988\">December 1988</a>,\n",
       " <a href=\"/lotto/november-1988\">November 1988</a>,\n",
       " <a href=\"/lotto/october-1988\">October 1988</a>,\n",
       " <a href=\"/lotto/september-1988\">September 1988</a>,\n",
       " <a href=\"/lotto/august-1988\">August 1988</a>,\n",
       " <a href=\"/lotto/july-1988\">July 1988</a>,\n",
       " <a href=\"/lotto/june-1988\">June 1988</a>,\n",
       " <a href=\"/lotto/may-1988\">May 1988</a>,\n",
       " <a href=\"/lotto/april-1988\">April 1988</a>,\n",
       " <a href=\"/lotto/march-1988\">March 1988</a>,\n",
       " <a href=\"/lotto/february-1988\">February 1988</a>,\n",
       " <a href=\"/lotto/january-1988\">January 1988</a>,\n",
       " <a aria-controls=\"archive-30\" aria-expanded=\"false\" class=\"toggler collapsed\" data-toggle=\"collapse\" href=\"#archive-30\" role=\"button\">1987 Lotto Results</a>,\n",
       " <a href=\"/lotto/december-1987\">December 1987</a>,\n",
       " <a href=\"/lotto/november-1987\">November 1987</a>,\n",
       " <a href=\"/lotto/october-1987\">October 1987</a>,\n",
       " <a href=\"/lotto/september-1987\">September 1987</a>,\n",
       " <a href=\"/lotto/august-1987\">August 1987</a>,\n",
       " <a href=\"/terms-and-conditions/\" title=\"Terms and Condtions\">Read our terms and conditions here</a>,\n",
       " <a href=\"/about-us/\" title=\"About LottoResults.co.nz\">About Us</a>,\n",
       " <a href=\"http://lottoresults.co.nz/contact-us/\">Contact Us</a>]"
      ]
     },
     "execution_count": 4,
     "metadata": {},
     "output_type": "execute_result"
    }
   ],
   "source": [
    "soup.findAll(\"a\")"
   ]
  },
  {
   "cell_type": "markdown",
   "metadata": {},
   "source": [
    "There are quite a few tags that show up. We are mainly interested in tags of the form:\n",
    "\n",
    "` <a href=\"/lotto/[month]-[year]\">[Month] [year]</a>`\n",
    "\n",
    "We will retrieve these using a regular expression, and compile the results into an object from which we will construct the links for the next level of analysis."
   ]
  },
  {
   "cell_type": "code",
   "execution_count": 5,
   "metadata": {
    "collapsed": false
   },
   "outputs": [
    {
     "data": {
      "text/plain": [
       "['http://lottoresults.co.nz/lotto/december-2016',\n",
       " 'http://lottoresults.co.nz/lotto/november-2016',\n",
       " 'http://lottoresults.co.nz/lotto/october-2016',\n",
       " 'http://lottoresults.co.nz/lotto/september-2016',\n",
       " 'http://lottoresults.co.nz/lotto/august-2016']"
      ]
     },
     "execution_count": 5,
     "metadata": {},
     "output_type": "execute_result"
    }
   ],
   "source": [
    "domain = \"http://lottoresults.co.nz\"\n",
    "month_tags = soup.findAll(\"a\", href=re.compile(\"/lotto/[a-z]+-\\d+\"))\n",
    "\n",
    "def get_links(domain, tags):\n",
    "    return [domain + tag.get(\"href\") for tag in tags]\n",
    "\n",
    "month_links = get_links(domain, month_tags)\n",
    "month_links[:5]"
   ]
  },
  {
   "cell_type": "markdown",
   "metadata": {},
   "source": [
    "Now we start at one of the links, and will take a look at all of the dates for each lotto draw in a given month."
   ]
  },
  {
   "cell_type": "code",
   "execution_count": 6,
   "metadata": {
    "collapsed": false
   },
   "outputs": [
    {
     "data": {
      "text/plain": [
       "'http://lottoresults.co.nz/lotto/august-1987'"
      ]
     },
     "execution_count": 6,
     "metadata": {},
     "output_type": "execute_result"
    }
   ],
   "source": [
    "month_link = month_links[-1]\n",
    "month_link"
   ]
  },
  {
   "cell_type": "code",
   "execution_count": 7,
   "metadata": {
    "collapsed": false
   },
   "outputs": [
    {
     "data": {
      "text/plain": [
       "<!DOCTYPE html>\n",
       "<!--[if lt IE 7 ]> <html class=\"ie6\"> <![endif]--><!--[if IE 7 ]> <html class=\"ie7\"> <![endif]--><!--[if IE 8 ]> <html class=\"ie8\"> <![endif]--><!--[if IE 9 ]> <html class=\"ie9\"> <![endif]--><!--[if (gt IE 9)|!(IE)]><!--><html> <!--<![endif]-->\n",
       "<head>\n",
       "<meta charset=\"utf-8\"/>\n",
       "<meta content=\"#2D728F\" name=\"theme-color\"/>\n",
       "<meta content=\"IE=edge\" http-equiv=\"X-UA-Compatible\"/>\n",
       "<meta content=\"width=device-width, initial-scale=1,maximum-scale=1, user-scalable=no\" name=\"viewport\"/>\n",
       "<meta content=\"This is where you can find all the Lotto, Powerball and Strike! results for August, 1987.\" name=\"description\"/>\n",
       "<meta content=\"LottoResults.co.nz\" name=\"author\"/>\n",
       "<link href=\"/favicon.ico\" rel=\"icon\"/>\n",
       "<title>Lotto Results for August, 1987</title>\n",
       "<link href=\"/css/style.css\" rel=\"stylesheet\"/>\n",
       "<link href=\"https://fonts.googleapis.com/css?family=Montserrat:400,700\" rel=\"stylesheet\" type=\"text/css\"/>\n",
       "<link href=\"https://fonts.googleapis.com/css?family=Source+Sans+Pro:400,700,400italic\" rel=\"stylesheet\" type=\"text/css\"/>\n",
       "<!-- HTML5 shim and Respond.js for IE8 support of HTML5 elements and media queries -->\n",
       "<!--[if lt IE 9]>\n",
       "<script src=\"https://oss.maxcdn.com/html5shiv/3.7.2/html5shiv.min.js\"></script>\n",
       "<script src=\"https://oss.maxcdn.com/respond/1.4.2/respond.min.js\"></script>\n",
       "<![endif]-->\n",
       "<script>\n",
       "  (function(i,s,o,g,r,a,m){i['GoogleAnalyticsObject']=r;i[r]=i[r]||function(){\n",
       "    (i[r].q=i[r].q||[]).push(arguments)},i[r].l=1*new Date();a=s.createElement(o),\n",
       "    m=s.getElementsByTagName(o)[0];a.async=1;a.src=g;m.parentNode.insertBefore(a,m)\n",
       "  })(window,document,'script','//www.google-analytics.com/analytics.js','ga');\n",
       "\n",
       "  ga('create', 'UA-72968550-1', 'auto');\n",
       "  ga('send', 'pageview');\n",
       "\n",
       "</script>\n",
       "</head>\n",
       "<body>\n",
       "<nav class=\"navbar navbar-default navbar-fixed-top\">\n",
       "<div class=\"container\">\n",
       "<div class=\"navbar-header\">\n",
       "<button aria-expanded=\"false\" class=\"navbar-toggle collapsed\" data-target=\"#primary-nav\" data-toggle=\"collapse\" type=\"button\">\n",
       "<span class=\"sr-only\">Toggle navigation</span>\n",
       "<span class=\"icon-bar\"></span>\n",
       "<span class=\"icon-bar\"></span>\n",
       "<span class=\"icon-bar\"></span>\n",
       "</button>\n",
       "<a class=\"navbar-brand\" href=\"/\">LottoResults.co.nz</a>\n",
       "</div>\n",
       "<div class=\"collapse navbar-collapse\" id=\"primary-nav\">\n",
       "<ul class=\"nav navbar-nav\">\n",
       "<li><a class=\"game\" href=\"/lotto/\" title=\"Lotto\">Lotto</a></li>\n",
       "<li><a class=\"game\" href=\"/keno/\" title=\"Keno\">Keno</a></li>\n",
       "<li><a class=\"game\" href=\"/bullseye/\" title=\"Bullseye\">Bullseye</a></li>\n",
       "<li><a class=\"game\" href=\"/play3/\" title=\"Play 3\">Play 3</a></li>\n",
       "<li><a class=\"world\" href=\"/worldwide-lotteries/\" title=\"Worldwide Lotteries\">Worldwide Lotteries</a></li>\n",
       "<li><a class=\"faq\" href=\"/faq/\" title=\"FAQ\">FAQ</a></li>\n",
       "<li><a class=\"tools\" href=\"/tools/\" title=\"Tools\">Tools</a></li>\n",
       "</ul>\n",
       "</div>\n",
       "</div>\n",
       "</nav>\n",
       "<div class=\"section-menu\">\n",
       "<div class=\"section-menu-container\">\n",
       "<ul class=\"nav section-menu-nav\">\n",
       "<li><a href=\"/lotto/faq\">Lotto FAQ</a>\n",
       "</li></ul>\n",
       "</div>\n",
       "</div>\n",
       "<div class=\"container\">\n",
       "<ol class=\"breadcrumb\">\n",
       "<li><a href=\"/\" title=\"Home\">Home</a></li>\n",
       "<li><a href=\"/lotto/\" title=\"Lotto\">Lotto</a></li>\n",
       "<li>August 1987</li>\n",
       "</ol>\n",
       "<header class=\"result-header\">\n",
       "<h1>Lotto Results for August, 1987 <span></span></h1>\n",
       "</header>\n",
       "<div class=\"row\">\n",
       "<main class=\"col-md-8\">\n",
       "<div class=\"result-card\">\n",
       "<div class=\"result-card__heading\">\n",
       "<h2 class=\"result-card__title result-card__title--medium\"><a href=\"/lotto/29-august-1987\">Lotto Result for Saturday, 29 August 1987 <span></span></a></h2>\n",
       "</div>\n",
       "<div class=\"result-card__details\">\n",
       "<ul class=\"result-meta\">\n",
       "<li class=\"result-meta__title\">Draw Number: <span class=\"result-meta__detail\">5</span></li>\n",
       "<li class=\"result-meta__title\">Jackpot:  <span class=\"result-meta__detail\">Rollover</span></li>\n",
       "</ul>\n",
       "</div>\n",
       "<div class=\"result-card__content\">\n",
       "<div class=\"row\">\n",
       "<div class=\"col-sm-4\">\n",
       "<div class=\"result-card__image-header\">\n",
       "<figure class=\"result-card__image result-card__image--long\">\n",
       "<img alt=\"Lotto Logo\" class=\"img-responsive game-logo\" src=\"/img/lotto-logo.svg\"/>\n",
       "</figure>\n",
       "</div>\n",
       "</div>\n",
       "<div class=\"col-sm-8\">\n",
       "<ol class=\"draw-result\">\n",
       "<li class=\"draw-result__ball draw-result__ball--blue-border\">3</li>\n",
       "<li class=\"draw-result__ball draw-result__ball--blue-border\">7</li>\n",
       "<li class=\"draw-result__ball draw-result__ball--blue-border\">8</li>\n",
       "<li class=\"draw-result__ball draw-result__ball--gold-border\">11</li>\n",
       "<li class=\"draw-result__ball draw-result__ball--gold-border\">12</li>\n",
       "<li class=\"draw-result__ball draw-result__ball--green-border\">23</li>\n",
       "<li class=\"draw-result__sep\"></li><li class=\"draw-result__ball draw-result__ball--blue-border\">15</li>\n",
       "</ol>\n",
       "<ol class=\"draw-result draw-result--sub\">\n",
       "<li class=\"draw-result__logo\"><img alt=\"NZ Strike! Logo\" src=\"/img/strike-logo.svg\" width=\"80px\"/></li>\n",
       "<li class=\"draw-result__ball draw-result__ball--green-border\">23</li>\n",
       "<li class=\"draw-result__ball draw-result__ball--blue-border\">7</li>\n",
       "<li class=\"draw-result__ball draw-result__ball--blue-border\">3</li>\n",
       "<li class=\"draw-result__ball draw-result__ball--blue-border\">8</li>\n",
       "</ol>\n",
       "</div>\n",
       "</div>\n",
       "</div>\n",
       "</div>\n",
       "<div class=\"result-card\">\n",
       "<div class=\"result-card__heading\">\n",
       "<h2 class=\"result-card__title result-card__title--medium\"><a href=\"/lotto/22-august-1987\">Lotto Result for Saturday, 22 August 1987 <span></span></a></h2>\n",
       "</div>\n",
       "<div class=\"result-card__details\">\n",
       "<ul class=\"result-meta\">\n",
       "<li class=\"result-meta__title\">Draw Number: <span class=\"result-meta__detail\">4</span></li>\n",
       "<li class=\"result-meta__title\">Jackpot:  <span class=\"result-meta__detail\">Rollover</span></li>\n",
       "</ul>\n",
       "</div>\n",
       "<div class=\"result-card__content\">\n",
       "<div class=\"row\">\n",
       "<div class=\"col-sm-4\">\n",
       "<div class=\"result-card__image-header\">\n",
       "<figure class=\"result-card__image result-card__image--long\">\n",
       "<img alt=\"Lotto Logo\" class=\"img-responsive game-logo\" src=\"/img/lotto-logo.svg\"/>\n",
       "</figure>\n",
       "</div>\n",
       "</div>\n",
       "<div class=\"col-sm-8\">\n",
       "<ol class=\"draw-result\">\n",
       "<li class=\"draw-result__ball draw-result__ball--blue-border\">2</li>\n",
       "<li class=\"draw-result__ball draw-result__ball--blue-border\">4</li>\n",
       "<li class=\"draw-result__ball draw-result__ball--gold-border\">10</li>\n",
       "<li class=\"draw-result__ball draw-result__ball--gold-border\">11</li>\n",
       "<li class=\"draw-result__ball draw-result__ball--green-border\">29</li>\n",
       "<li class=\"draw-result__ball draw-result__ball--red-border\">35</li>\n",
       "<li class=\"draw-result__sep\"></li><li class=\"draw-result__ball draw-result__ball--blue-border\">14</li>\n",
       "</ol>\n",
       "<ol class=\"draw-result draw-result--sub\">\n",
       "<li class=\"draw-result__logo\"><img alt=\"NZ Strike! Logo\" src=\"/img/strike-logo.svg\" width=\"80px\"/></li>\n",
       "<li class=\"draw-result__ball draw-result__ball--red-border\">35</li>\n",
       "<li class=\"draw-result__ball draw-result__ball--blue-border\">2</li>\n",
       "<li class=\"draw-result__ball draw-result__ball--green-border\">29</li>\n",
       "<li class=\"draw-result__ball draw-result__ball--gold-border\">10</li>\n",
       "</ol>\n",
       "</div>\n",
       "</div>\n",
       "</div>\n",
       "</div>\n",
       "<div class=\"result-card\">\n",
       "<div class=\"result-card__heading\">\n",
       "<h2 class=\"result-card__title result-card__title--medium\"><a href=\"/lotto/15-august-1987\">Lotto Result for Saturday, 15 August 1987 <span></span></a></h2>\n",
       "</div>\n",
       "<div class=\"result-card__details\">\n",
       "<ul class=\"result-meta\">\n",
       "<li class=\"result-meta__title\">Draw Number: <span class=\"result-meta__detail\">3</span></li>\n",
       "<li class=\"result-meta__title\">Jackpot:  <span class=\"result-meta__detail\">Rollover</span></li>\n",
       "</ul>\n",
       "</div>\n",
       "<div class=\"result-card__content\">\n",
       "<div class=\"row\">\n",
       "<div class=\"col-sm-4\">\n",
       "<div class=\"result-card__image-header\">\n",
       "<figure class=\"result-card__image result-card__image--long\">\n",
       "<img alt=\"Lotto Logo\" class=\"img-responsive game-logo\" src=\"/img/lotto-logo.svg\"/>\n",
       "</figure>\n",
       "</div>\n",
       "</div>\n",
       "<div class=\"col-sm-8\">\n",
       "<ol class=\"draw-result\">\n",
       "<li class=\"draw-result__ball draw-result__ball--blue-border\">5</li>\n",
       "<li class=\"draw-result__ball draw-result__ball--gold-border\">11</li>\n",
       "<li class=\"draw-result__ball draw-result__ball--gold-border\">18</li>\n",
       "<li class=\"draw-result__ball draw-result__ball--green-border\">22</li>\n",
       "<li class=\"draw-result__ball draw-result__ball--green-border\">26</li>\n",
       "<li class=\"draw-result__ball draw-result__ball--red-border\">39</li>\n",
       "<li class=\"draw-result__sep\"></li><li class=\"draw-result__ball draw-result__ball--blue-border\">38</li>\n",
       "</ol>\n",
       "<ol class=\"draw-result draw-result--sub\">\n",
       "<li class=\"draw-result__logo\"><img alt=\"NZ Strike! Logo\" src=\"/img/strike-logo.svg\" width=\"80px\"/></li>\n",
       "<li class=\"draw-result__ball draw-result__ball--gold-border\">11</li>\n",
       "<li class=\"draw-result__ball draw-result__ball--green-border\">26</li>\n",
       "<li class=\"draw-result__ball draw-result__ball--gold-border\">18</li>\n",
       "<li class=\"draw-result__ball draw-result__ball--red-border\">39</li>\n",
       "</ol>\n",
       "</div>\n",
       "</div>\n",
       "</div>\n",
       "</div>\n",
       "<div class=\"result-card\">\n",
       "<div class=\"result-card__heading\">\n",
       "<h2 class=\"result-card__title result-card__title--medium\"><a href=\"/lotto/08-august-1987\">Lotto Result for Saturday, 08 August 1987 <span></span></a></h2>\n",
       "</div>\n",
       "<div class=\"result-card__details\">\n",
       "<ul class=\"result-meta\">\n",
       "<li class=\"result-meta__title\">Draw Number: <span class=\"result-meta__detail\">2</span></li>\n",
       "<li class=\"result-meta__title\">Jackpot:  <span class=\"result-meta__detail\">Rollover</span></li>\n",
       "</ul>\n",
       "</div>\n",
       "<div class=\"result-card__content\">\n",
       "<div class=\"row\">\n",
       "<div class=\"col-sm-4\">\n",
       "<div class=\"result-card__image-header\">\n",
       "<figure class=\"result-card__image result-card__image--long\">\n",
       "<img alt=\"Lotto Logo\" class=\"img-responsive game-logo\" src=\"/img/lotto-logo.svg\"/>\n",
       "</figure>\n",
       "</div>\n",
       "</div>\n",
       "<div class=\"col-sm-8\">\n",
       "<ol class=\"draw-result\">\n",
       "<li class=\"draw-result__ball draw-result__ball--blue-border\">3</li>\n",
       "<li class=\"draw-result__ball draw-result__ball--blue-border\">9</li>\n",
       "<li class=\"draw-result__ball draw-result__ball--gold-border\">13</li>\n",
       "<li class=\"draw-result__ball draw-result__ball--green-border\">20</li>\n",
       "<li class=\"draw-result__ball draw-result__ball--red-border\">36</li>\n",
       "<li class=\"draw-result__ball draw-result__ball--red-border\">39</li>\n",
       "<li class=\"draw-result__sep\"></li><li class=\"draw-result__ball draw-result__ball--blue-border\">38</li>\n",
       "</ol>\n",
       "<ol class=\"draw-result draw-result--sub\">\n",
       "<li class=\"draw-result__logo\"><img alt=\"NZ Strike! Logo\" src=\"/img/strike-logo.svg\" width=\"80px\"/></li>\n",
       "<li class=\"draw-result__ball draw-result__ball--blue-border\">3</li>\n",
       "<li class=\"draw-result__ball draw-result__ball--blue-border\">9</li>\n",
       "<li class=\"draw-result__ball draw-result__ball--red-border\">39</li>\n",
       "<li class=\"draw-result__ball draw-result__ball--gold-border\">13</li>\n",
       "</ol>\n",
       "</div>\n",
       "</div>\n",
       "</div>\n",
       "</div>\n",
       "<div class=\"result-card\">\n",
       "<div class=\"result-card__heading\">\n",
       "<h2 class=\"result-card__title result-card__title--medium\"><a href=\"/lotto/01-august-1987\">Lotto Result for Saturday, 01 August 1987 <span></span></a></h2>\n",
       "</div>\n",
       "<div class=\"result-card__details\">\n",
       "<ul class=\"result-meta\">\n",
       "<li class=\"result-meta__title\">Draw Number: <span class=\"result-meta__detail\">1</span></li>\n",
       "<li class=\"result-meta__title\">Jackpot:  <span class=\"result-meta__detail\">Rollover</span></li>\n",
       "</ul>\n",
       "</div>\n",
       "<div class=\"result-card__content\">\n",
       "<div class=\"row\">\n",
       "<div class=\"col-sm-4\">\n",
       "<div class=\"result-card__image-header\">\n",
       "<figure class=\"result-card__image result-card__image--long\">\n",
       "<img alt=\"Lotto Logo\" class=\"img-responsive game-logo\" src=\"/img/lotto-logo.svg\"/>\n",
       "</figure>\n",
       "</div>\n",
       "</div>\n",
       "<div class=\"col-sm-8\">\n",
       "<ol class=\"draw-result\">\n",
       "<li class=\"draw-result__ball draw-result__ball--blue-border\">4</li>\n",
       "<li class=\"draw-result__ball draw-result__ball--blue-border\">8</li>\n",
       "<li class=\"draw-result__ball draw-result__ball--gold-border\">16</li>\n",
       "<li class=\"draw-result__ball draw-result__ball--green-border\">29</li>\n",
       "<li class=\"draw-result__ball draw-result__ball--red-border\">32</li>\n",
       "<li class=\"draw-result__ball draw-result__ball--purple-border\">40</li>\n",
       "<li class=\"draw-result__sep\"></li><li class=\"draw-result__ball draw-result__ball--blue-border\">30</li>\n",
       "</ol>\n",
       "<ol class=\"draw-result draw-result--sub\">\n",
       "<li class=\"draw-result__logo\"><img alt=\"NZ Strike! Logo\" src=\"/img/strike-logo.svg\" width=\"80px\"/></li>\n",
       "<li class=\"draw-result__ball draw-result__ball--blue-border\">4</li>\n",
       "<li class=\"draw-result__ball draw-result__ball--green-border\">29</li>\n",
       "<li class=\"draw-result__ball draw-result__ball--gold-border\">16</li>\n",
       "<li class=\"draw-result__ball draw-result__ball--purple-border\">40</li>\n",
       "</ol>\n",
       "</div>\n",
       "</div>\n",
       "</div>\n",
       "</div>\n",
       "</main>\n",
       "<aside class=\"col-md-4 sidebar\">\n",
       "<div class=\"box blue-box\">\n",
       "<h2>Lotto Results <span>for Last Year</span></h2>\n",
       "<nav>\n",
       "<ul class=\"sidebar-nav\">\n",
       "<li><a href=\"/lotto/december-2016\">December 2016</a></li>\n",
       "<li><a href=\"/lotto/november-2016\">November 2016</a></li>\n",
       "<li><a href=\"/lotto/october-2016\">October 2016</a></li>\n",
       "<li><a href=\"/lotto/september-2016\">September 2016</a></li>\n",
       "<li><a href=\"/lotto/august-2016\">August 2016</a></li>\n",
       "<li><a href=\"/lotto/july-2016\">July 2016</a></li>\n",
       "<li><a href=\"/lotto/june-2016\">June 2016</a></li>\n",
       "<li><a href=\"/lotto/may-2016\">May 2016</a></li>\n",
       "<li><a href=\"/lotto/april-2016\">April 2016</a></li>\n",
       "<li><a href=\"/lotto/march-2016\">March 2016</a></li>\n",
       "<li><a href=\"/lotto/february-2016\">February 2016</a></li>\n",
       "<li><a href=\"/lotto/archive\">Archived Results</a></li>\n",
       "</ul>\n",
       "</nav>\n",
       "</div>\n",
       "</aside>\n",
       "</div>\n",
       "</div>\n",
       "<footer>\n",
       "<div class=\"container\">\n",
       "<h3>LottoResults.co.nz</h3>\n",
       "<p>LottoResults.co.nz, 2016© Lotto Logic LTD., All Rights Reserved.</p><p>LottoResults.co.nz is not associated, affiliated nor endorsed by New Zealand Lotteries Commission, Camelot Group PLC, The National Lottery Commission, Services Aux Loteries en Europe SCRL or the Multi-State Lottery Association. <a href=\"/terms-and-conditions/\" title=\"Terms and Condtions\">Read our terms and conditions here</a>.</p><p><a href=\"/about-us/\" title=\"About LottoResults.co.nz\">About Us</a> | <a href=\"http://lottoresults.co.nz/contact-us/\">Contact Us</a></p>\n",
       "</div>\n",
       "<div class=\"back-to-top is-hidden\" data-title=\"back-to-top\"></div>\n",
       "</footer>\n",
       "<script src=\"https://ajax.googleapis.com/ajax/libs/jquery/1.11.3/jquery.min.js\"></script>\n",
       "<script src=\"/js/main.js\"></script>\n",
       "</body>\n",
       "</html> "
      ]
     },
     "execution_count": 7,
     "metadata": {},
     "output_type": "execute_result"
    }
   ],
   "source": [
    "month_soup = read_url(month_link)\n",
    "month_soup"
   ]
  },
  {
   "cell_type": "markdown",
   "metadata": {},
   "source": [
    "The break down for each month includes the draw numbers, and jackpot results for every month. So we will attempt to fetch these details at this level before continuing on.\n",
    "\n",
    "We will use these to form a results dictionary for each of the draws, and build on this object as we scrape the extra details for each month. We will index each result by the number of the draw."
   ]
  },
  {
   "cell_type": "code",
   "execution_count": 8,
   "metadata": {
    "collapsed": false
   },
   "outputs": [
    {
     "data": {
      "text/plain": [
       "[<div class=\"result-card\">\n",
       " <div class=\"result-card__heading\">\n",
       " <h2 class=\"result-card__title result-card__title--medium\"><a href=\"/lotto/29-august-1987\">Lotto Result for Saturday, 29 August 1987 <span></span></a></h2>\n",
       " </div>\n",
       " <div class=\"result-card__details\">\n",
       " <ul class=\"result-meta\">\n",
       " <li class=\"result-meta__title\">Draw Number: <span class=\"result-meta__detail\">5</span></li>\n",
       " <li class=\"result-meta__title\">Jackpot:  <span class=\"result-meta__detail\">Rollover</span></li>\n",
       " </ul>\n",
       " </div>\n",
       " <div class=\"result-card__content\">\n",
       " <div class=\"row\">\n",
       " <div class=\"col-sm-4\">\n",
       " <div class=\"result-card__image-header\">\n",
       " <figure class=\"result-card__image result-card__image--long\">\n",
       " <img alt=\"Lotto Logo\" class=\"img-responsive game-logo\" src=\"/img/lotto-logo.svg\"/>\n",
       " </figure>\n",
       " </div>\n",
       " </div>\n",
       " <div class=\"col-sm-8\">\n",
       " <ol class=\"draw-result\">\n",
       " <li class=\"draw-result__ball draw-result__ball--blue-border\">3</li>\n",
       " <li class=\"draw-result__ball draw-result__ball--blue-border\">7</li>\n",
       " <li class=\"draw-result__ball draw-result__ball--blue-border\">8</li>\n",
       " <li class=\"draw-result__ball draw-result__ball--gold-border\">11</li>\n",
       " <li class=\"draw-result__ball draw-result__ball--gold-border\">12</li>\n",
       " <li class=\"draw-result__ball draw-result__ball--green-border\">23</li>\n",
       " <li class=\"draw-result__sep\"></li><li class=\"draw-result__ball draw-result__ball--blue-border\">15</li>\n",
       " </ol>\n",
       " <ol class=\"draw-result draw-result--sub\">\n",
       " <li class=\"draw-result__logo\"><img alt=\"NZ Strike! Logo\" src=\"/img/strike-logo.svg\" width=\"80px\"/></li>\n",
       " <li class=\"draw-result__ball draw-result__ball--green-border\">23</li>\n",
       " <li class=\"draw-result__ball draw-result__ball--blue-border\">7</li>\n",
       " <li class=\"draw-result__ball draw-result__ball--blue-border\">3</li>\n",
       " <li class=\"draw-result__ball draw-result__ball--blue-border\">8</li>\n",
       " </ol>\n",
       " </div>\n",
       " </div>\n",
       " </div>\n",
       " </div>, <div class=\"result-card\">\n",
       " <div class=\"result-card__heading\">\n",
       " <h2 class=\"result-card__title result-card__title--medium\"><a href=\"/lotto/22-august-1987\">Lotto Result for Saturday, 22 August 1987 <span></span></a></h2>\n",
       " </div>\n",
       " <div class=\"result-card__details\">\n",
       " <ul class=\"result-meta\">\n",
       " <li class=\"result-meta__title\">Draw Number: <span class=\"result-meta__detail\">4</span></li>\n",
       " <li class=\"result-meta__title\">Jackpot:  <span class=\"result-meta__detail\">Rollover</span></li>\n",
       " </ul>\n",
       " </div>\n",
       " <div class=\"result-card__content\">\n",
       " <div class=\"row\">\n",
       " <div class=\"col-sm-4\">\n",
       " <div class=\"result-card__image-header\">\n",
       " <figure class=\"result-card__image result-card__image--long\">\n",
       " <img alt=\"Lotto Logo\" class=\"img-responsive game-logo\" src=\"/img/lotto-logo.svg\"/>\n",
       " </figure>\n",
       " </div>\n",
       " </div>\n",
       " <div class=\"col-sm-8\">\n",
       " <ol class=\"draw-result\">\n",
       " <li class=\"draw-result__ball draw-result__ball--blue-border\">2</li>\n",
       " <li class=\"draw-result__ball draw-result__ball--blue-border\">4</li>\n",
       " <li class=\"draw-result__ball draw-result__ball--gold-border\">10</li>\n",
       " <li class=\"draw-result__ball draw-result__ball--gold-border\">11</li>\n",
       " <li class=\"draw-result__ball draw-result__ball--green-border\">29</li>\n",
       " <li class=\"draw-result__ball draw-result__ball--red-border\">35</li>\n",
       " <li class=\"draw-result__sep\"></li><li class=\"draw-result__ball draw-result__ball--blue-border\">14</li>\n",
       " </ol>\n",
       " <ol class=\"draw-result draw-result--sub\">\n",
       " <li class=\"draw-result__logo\"><img alt=\"NZ Strike! Logo\" src=\"/img/strike-logo.svg\" width=\"80px\"/></li>\n",
       " <li class=\"draw-result__ball draw-result__ball--red-border\">35</li>\n",
       " <li class=\"draw-result__ball draw-result__ball--blue-border\">2</li>\n",
       " <li class=\"draw-result__ball draw-result__ball--green-border\">29</li>\n",
       " <li class=\"draw-result__ball draw-result__ball--gold-border\">10</li>\n",
       " </ol>\n",
       " </div>\n",
       " </div>\n",
       " </div>\n",
       " </div>, <div class=\"result-card\">\n",
       " <div class=\"result-card__heading\">\n",
       " <h2 class=\"result-card__title result-card__title--medium\"><a href=\"/lotto/15-august-1987\">Lotto Result for Saturday, 15 August 1987 <span></span></a></h2>\n",
       " </div>\n",
       " <div class=\"result-card__details\">\n",
       " <ul class=\"result-meta\">\n",
       " <li class=\"result-meta__title\">Draw Number: <span class=\"result-meta__detail\">3</span></li>\n",
       " <li class=\"result-meta__title\">Jackpot:  <span class=\"result-meta__detail\">Rollover</span></li>\n",
       " </ul>\n",
       " </div>\n",
       " <div class=\"result-card__content\">\n",
       " <div class=\"row\">\n",
       " <div class=\"col-sm-4\">\n",
       " <div class=\"result-card__image-header\">\n",
       " <figure class=\"result-card__image result-card__image--long\">\n",
       " <img alt=\"Lotto Logo\" class=\"img-responsive game-logo\" src=\"/img/lotto-logo.svg\"/>\n",
       " </figure>\n",
       " </div>\n",
       " </div>\n",
       " <div class=\"col-sm-8\">\n",
       " <ol class=\"draw-result\">\n",
       " <li class=\"draw-result__ball draw-result__ball--blue-border\">5</li>\n",
       " <li class=\"draw-result__ball draw-result__ball--gold-border\">11</li>\n",
       " <li class=\"draw-result__ball draw-result__ball--gold-border\">18</li>\n",
       " <li class=\"draw-result__ball draw-result__ball--green-border\">22</li>\n",
       " <li class=\"draw-result__ball draw-result__ball--green-border\">26</li>\n",
       " <li class=\"draw-result__ball draw-result__ball--red-border\">39</li>\n",
       " <li class=\"draw-result__sep\"></li><li class=\"draw-result__ball draw-result__ball--blue-border\">38</li>\n",
       " </ol>\n",
       " <ol class=\"draw-result draw-result--sub\">\n",
       " <li class=\"draw-result__logo\"><img alt=\"NZ Strike! Logo\" src=\"/img/strike-logo.svg\" width=\"80px\"/></li>\n",
       " <li class=\"draw-result__ball draw-result__ball--gold-border\">11</li>\n",
       " <li class=\"draw-result__ball draw-result__ball--green-border\">26</li>\n",
       " <li class=\"draw-result__ball draw-result__ball--gold-border\">18</li>\n",
       " <li class=\"draw-result__ball draw-result__ball--red-border\">39</li>\n",
       " </ol>\n",
       " </div>\n",
       " </div>\n",
       " </div>\n",
       " </div>, <div class=\"result-card\">\n",
       " <div class=\"result-card__heading\">\n",
       " <h2 class=\"result-card__title result-card__title--medium\"><a href=\"/lotto/08-august-1987\">Lotto Result for Saturday, 08 August 1987 <span></span></a></h2>\n",
       " </div>\n",
       " <div class=\"result-card__details\">\n",
       " <ul class=\"result-meta\">\n",
       " <li class=\"result-meta__title\">Draw Number: <span class=\"result-meta__detail\">2</span></li>\n",
       " <li class=\"result-meta__title\">Jackpot:  <span class=\"result-meta__detail\">Rollover</span></li>\n",
       " </ul>\n",
       " </div>\n",
       " <div class=\"result-card__content\">\n",
       " <div class=\"row\">\n",
       " <div class=\"col-sm-4\">\n",
       " <div class=\"result-card__image-header\">\n",
       " <figure class=\"result-card__image result-card__image--long\">\n",
       " <img alt=\"Lotto Logo\" class=\"img-responsive game-logo\" src=\"/img/lotto-logo.svg\"/>\n",
       " </figure>\n",
       " </div>\n",
       " </div>\n",
       " <div class=\"col-sm-8\">\n",
       " <ol class=\"draw-result\">\n",
       " <li class=\"draw-result__ball draw-result__ball--blue-border\">3</li>\n",
       " <li class=\"draw-result__ball draw-result__ball--blue-border\">9</li>\n",
       " <li class=\"draw-result__ball draw-result__ball--gold-border\">13</li>\n",
       " <li class=\"draw-result__ball draw-result__ball--green-border\">20</li>\n",
       " <li class=\"draw-result__ball draw-result__ball--red-border\">36</li>\n",
       " <li class=\"draw-result__ball draw-result__ball--red-border\">39</li>\n",
       " <li class=\"draw-result__sep\"></li><li class=\"draw-result__ball draw-result__ball--blue-border\">38</li>\n",
       " </ol>\n",
       " <ol class=\"draw-result draw-result--sub\">\n",
       " <li class=\"draw-result__logo\"><img alt=\"NZ Strike! Logo\" src=\"/img/strike-logo.svg\" width=\"80px\"/></li>\n",
       " <li class=\"draw-result__ball draw-result__ball--blue-border\">3</li>\n",
       " <li class=\"draw-result__ball draw-result__ball--blue-border\">9</li>\n",
       " <li class=\"draw-result__ball draw-result__ball--red-border\">39</li>\n",
       " <li class=\"draw-result__ball draw-result__ball--gold-border\">13</li>\n",
       " </ol>\n",
       " </div>\n",
       " </div>\n",
       " </div>\n",
       " </div>, <div class=\"result-card\">\n",
       " <div class=\"result-card__heading\">\n",
       " <h2 class=\"result-card__title result-card__title--medium\"><a href=\"/lotto/01-august-1987\">Lotto Result for Saturday, 01 August 1987 <span></span></a></h2>\n",
       " </div>\n",
       " <div class=\"result-card__details\">\n",
       " <ul class=\"result-meta\">\n",
       " <li class=\"result-meta__title\">Draw Number: <span class=\"result-meta__detail\">1</span></li>\n",
       " <li class=\"result-meta__title\">Jackpot:  <span class=\"result-meta__detail\">Rollover</span></li>\n",
       " </ul>\n",
       " </div>\n",
       " <div class=\"result-card__content\">\n",
       " <div class=\"row\">\n",
       " <div class=\"col-sm-4\">\n",
       " <div class=\"result-card__image-header\">\n",
       " <figure class=\"result-card__image result-card__image--long\">\n",
       " <img alt=\"Lotto Logo\" class=\"img-responsive game-logo\" src=\"/img/lotto-logo.svg\"/>\n",
       " </figure>\n",
       " </div>\n",
       " </div>\n",
       " <div class=\"col-sm-8\">\n",
       " <ol class=\"draw-result\">\n",
       " <li class=\"draw-result__ball draw-result__ball--blue-border\">4</li>\n",
       " <li class=\"draw-result__ball draw-result__ball--blue-border\">8</li>\n",
       " <li class=\"draw-result__ball draw-result__ball--gold-border\">16</li>\n",
       " <li class=\"draw-result__ball draw-result__ball--green-border\">29</li>\n",
       " <li class=\"draw-result__ball draw-result__ball--red-border\">32</li>\n",
       " <li class=\"draw-result__ball draw-result__ball--purple-border\">40</li>\n",
       " <li class=\"draw-result__sep\"></li><li class=\"draw-result__ball draw-result__ball--blue-border\">30</li>\n",
       " </ol>\n",
       " <ol class=\"draw-result draw-result--sub\">\n",
       " <li class=\"draw-result__logo\"><img alt=\"NZ Strike! Logo\" src=\"/img/strike-logo.svg\" width=\"80px\"/></li>\n",
       " <li class=\"draw-result__ball draw-result__ball--blue-border\">4</li>\n",
       " <li class=\"draw-result__ball draw-result__ball--green-border\">29</li>\n",
       " <li class=\"draw-result__ball draw-result__ball--gold-border\">16</li>\n",
       " <li class=\"draw-result__ball draw-result__ball--purple-border\">40</li>\n",
       " </ol>\n",
       " </div>\n",
       " </div>\n",
       " </div>\n",
       " </div>]"
      ]
     },
     "execution_count": 8,
     "metadata": {},
     "output_type": "execute_result"
    }
   ],
   "source": [
    "result_card_tags = month_soup.findAll(\"div\", {\"class\":\"result-card\"})\n",
    "result_card_tags"
   ]
  },
  {
   "cell_type": "markdown",
   "metadata": {},
   "source": [
    "`result_card_tags` contains the results for each draw, as well as a link to a page with more detailed results. Since this neatly divides the results for each month, we will use it to grab the basic breakdown for the draw.\n",
    "\n",
    "We will write a function that can parse a card and return a dictionary."
   ]
  },
  {
   "cell_type": "code",
   "execution_count": 9,
   "metadata": {
    "collapsed": true
   },
   "outputs": [],
   "source": [
    "result_dict = {}"
   ]
  },
  {
   "cell_type": "code",
   "execution_count": 10,
   "metadata": {
    "collapsed": false
   },
   "outputs": [
    {
     "data": {
      "text/plain": [
       "{'link': 'http://lottoresults.co.nz/lotto/29-august-1987'}"
      ]
     },
     "execution_count": 10,
     "metadata": {},
     "output_type": "execute_result"
    }
   ],
   "source": [
    "result_dict['link'] = domain + result_card_tags[0].find(\"a\").get(\"href\")\n",
    "result_dict"
   ]
  },
  {
   "cell_type": "code",
   "execution_count": 11,
   "metadata": {
    "collapsed": false
   },
   "outputs": [
    {
     "data": {
      "text/plain": [
       "'Lotto Result for Saturday, 29 August 1987 '"
      ]
     },
     "execution_count": 11,
     "metadata": {},
     "output_type": "execute_result"
    }
   ],
   "source": [
    "result_dict['title'] = result_card_tags[0].h2.get_text()\n",
    "result_dict['title']"
   ]
  },
  {
   "cell_type": "code",
   "execution_count": 12,
   "metadata": {
    "collapsed": false
   },
   "outputs": [
    {
     "data": {
      "text/plain": [
       "['Draw Number: 5', 'Jackpot:  Rollover']"
      ]
     },
     "execution_count": 12,
     "metadata": {},
     "output_type": "execute_result"
    }
   ],
   "source": [
    "detail_tags = result_card_tags[0].findAll(\"li\", {\"class\":\"result-meta__title\"})\n",
    "[tag.get_text() for tag in detail_tags]"
   ]
  },
  {
   "cell_type": "code",
   "execution_count": 13,
   "metadata": {
    "collapsed": true
   },
   "outputs": [],
   "source": [
    "for tag in detail_tags:\n",
    "    if 'draw number' in tag.get_text().lower():\n",
    "        result_dict['draw number'] = tag.span.get_text()\n",
    "    elif 'jackpot' in tag.get_text().lower():\n",
    "        result_dict['jackpot'] = tag.span.get_text()"
   ]
  },
  {
   "cell_type": "code",
   "execution_count": 14,
   "metadata": {
    "collapsed": false
   },
   "outputs": [
    {
     "data": {
      "text/plain": [
       "{'draw number': '5',\n",
       " 'jackpot': 'Rollover',\n",
       " 'link': 'http://lottoresults.co.nz/lotto/29-august-1987',\n",
       " 'title': 'Lotto Result for Saturday, 29 August 1987 '}"
      ]
     },
     "execution_count": 14,
     "metadata": {},
     "output_type": "execute_result"
    }
   ],
   "source": [
    "result_dict"
   ]
  },
  {
   "cell_type": "code",
   "execution_count": 15,
   "metadata": {
    "collapsed": false,
    "scrolled": true
   },
   "outputs": [
    {
     "data": {
      "text/plain": [
       "[<ol class=\"draw-result\">\n",
       " <li class=\"draw-result__ball draw-result__ball--blue-border\">3</li>\n",
       " <li class=\"draw-result__ball draw-result__ball--blue-border\">7</li>\n",
       " <li class=\"draw-result__ball draw-result__ball--blue-border\">8</li>\n",
       " <li class=\"draw-result__ball draw-result__ball--gold-border\">11</li>\n",
       " <li class=\"draw-result__ball draw-result__ball--gold-border\">12</li>\n",
       " <li class=\"draw-result__ball draw-result__ball--green-border\">23</li>\n",
       " <li class=\"draw-result__sep\"></li><li class=\"draw-result__ball draw-result__ball--blue-border\">15</li>\n",
       " </ol>, <ol class=\"draw-result draw-result--sub\">\n",
       " <li class=\"draw-result__logo\"><img alt=\"NZ Strike! Logo\" src=\"/img/strike-logo.svg\" width=\"80px\"/></li>\n",
       " <li class=\"draw-result__ball draw-result__ball--green-border\">23</li>\n",
       " <li class=\"draw-result__ball draw-result__ball--blue-border\">7</li>\n",
       " <li class=\"draw-result__ball draw-result__ball--blue-border\">3</li>\n",
       " <li class=\"draw-result__ball draw-result__ball--blue-border\">8</li>\n",
       " </ol>]"
      ]
     },
     "execution_count": 15,
     "metadata": {},
     "output_type": "execute_result"
    }
   ],
   "source": [
    "draw_result_tags = result_card_tags[0].findAll(\"ol\", {\"class\":\"draw-result\"})\n",
    "draw_result_tags"
   ]
  },
  {
   "cell_type": "code",
   "execution_count": 16,
   "metadata": {
    "collapsed": false
   },
   "outputs": [
    {
     "data": {
      "text/plain": [
       "['3', '7', '8', '11', '12', '23', '15']"
      ]
     },
     "execution_count": 16,
     "metadata": {},
     "output_type": "execute_result"
    }
   ],
   "source": [
    "re.findall(r\"\\d+\", draw_result_tags[0].get_text())"
   ]
  },
  {
   "cell_type": "code",
   "execution_count": 17,
   "metadata": {
    "collapsed": false
   },
   "outputs": [
    {
     "data": {
      "text/plain": [
       "['23', '7', '3', '8']"
      ]
     },
     "execution_count": 17,
     "metadata": {},
     "output_type": "execute_result"
    }
   ],
   "source": [
    "re.findall(r\"\\d+\", draw_result_tags[1].get_text())"
   ]
  },
  {
   "cell_type": "code",
   "execution_count": 18,
   "metadata": {
    "collapsed": false
   },
   "outputs": [
    {
     "data": {
      "text/plain": [
       "{'bonus ball': '15',\n",
       " 'draw number': '5',\n",
       " 'jackpot': 'Rollover',\n",
       " 'link': 'http://lottoresults.co.nz/lotto/29-august-1987',\n",
       " 'lotto result': ['3', '7', '8', '11', '12', '23'],\n",
       " 'strike result': ['23', '7', '3', '8'],\n",
       " 'title': 'Lotto Result for Saturday, 29 August 1987 '}"
      ]
     },
     "execution_count": 18,
     "metadata": {},
     "output_type": "execute_result"
    }
   ],
   "source": [
    "for tag in draw_result_tags:\n",
    "    nums = re.findall(r\"\\d+\", tag.get_text())\n",
    "    \n",
    "    if len(nums) == 7:\n",
    "        result_dict[\"bonus ball\"]    = nums.pop()\n",
    "        result_dict[\"lotto result\"]  = nums\n",
    "    elif len(nums) == 4:\n",
    "        result_dict[\"strike result\"] = nums\n",
    "    elif len(nums) == 1:\n",
    "        result_dict[\"powerball\"]     = nums[0]\n",
    "    \n",
    "result_dict"
   ]
  },
  {
   "cell_type": "markdown",
   "metadata": {
    "collapsed": true
   },
   "source": [
    "Now we use the link to fetch the `soup` for the detailed results. Then we will append these to the dictionary as objects."
   ]
  },
  {
   "cell_type": "code",
   "execution_count": 19,
   "metadata": {
    "collapsed": false
   },
   "outputs": [],
   "source": [
    "result_soup = read_url('http://lottoresults.co.nz/lotto/21-april-2012')"
   ]
  },
  {
   "cell_type": "code",
   "execution_count": 20,
   "metadata": {
    "collapsed": false
   },
   "outputs": [
    {
     "data": {
      "text/plain": [
       "<!DOCTYPE html>\n",
       "<!--[if lt IE 7 ]> <html class=\"ie6\"> <![endif]--><!--[if IE 7 ]> <html class=\"ie7\"> <![endif]--><!--[if IE 8 ]> <html class=\"ie8\"> <![endif]--><!--[if IE 9 ]> <html class=\"ie9\"> <![endif]--><!--[if (gt IE 9)|!(IE)]><!--><html> <!--<![endif]-->\n",
       "<head>\n",
       "<meta charset=\"utf-8\"/>\n",
       "<meta content=\"#2D728F\" name=\"theme-color\"/>\n",
       "<meta content=\"IE=edge\" http-equiv=\"X-UA-Compatible\"/>\n",
       "<meta content=\"width=device-width, initial-scale=1,maximum-scale=1, user-scalable=no\" name=\"viewport\"/>\n",
       "<meta content=\"These are the Lotto results for draw number 1298 Saturday 21 April 2012.\" name=\"description\"/>\n",
       "<meta content=\"LottoResults.co.nz\" name=\"author\"/>\n",
       "<link href=\"/favicon.ico\" rel=\"icon\"/>\n",
       "<title>Lotto Results for Saturday, 21 April, 2012</title>\n",
       "<link href=\"/css/style.css\" rel=\"stylesheet\"/>\n",
       "<link href=\"https://fonts.googleapis.com/css?family=Montserrat:400,700\" rel=\"stylesheet\" type=\"text/css\"/>\n",
       "<link href=\"https://fonts.googleapis.com/css?family=Source+Sans+Pro:400,700,400italic\" rel=\"stylesheet\" type=\"text/css\"/>\n",
       "<!-- HTML5 shim and Respond.js for IE8 support of HTML5 elements and media queries -->\n",
       "<!--[if lt IE 9]>\n",
       "<script src=\"https://oss.maxcdn.com/html5shiv/3.7.2/html5shiv.min.js\"></script>\n",
       "<script src=\"https://oss.maxcdn.com/respond/1.4.2/respond.min.js\"></script>\n",
       "<![endif]-->\n",
       "<script>\n",
       "  (function(i,s,o,g,r,a,m){i['GoogleAnalyticsObject']=r;i[r]=i[r]||function(){\n",
       "    (i[r].q=i[r].q||[]).push(arguments)},i[r].l=1*new Date();a=s.createElement(o),\n",
       "    m=s.getElementsByTagName(o)[0];a.async=1;a.src=g;m.parentNode.insertBefore(a,m)\n",
       "  })(window,document,'script','//www.google-analytics.com/analytics.js','ga');\n",
       "\n",
       "  ga('create', 'UA-72968550-1', 'auto');\n",
       "  ga('send', 'pageview');\n",
       "\n",
       "</script>\n",
       "</head>\n",
       "<body>\n",
       "<nav class=\"navbar navbar-default navbar-fixed-top\">\n",
       "<div class=\"container\">\n",
       "<div class=\"navbar-header\">\n",
       "<button aria-expanded=\"false\" class=\"navbar-toggle collapsed\" data-target=\"#primary-nav\" data-toggle=\"collapse\" type=\"button\">\n",
       "<span class=\"sr-only\">Toggle navigation</span>\n",
       "<span class=\"icon-bar\"></span>\n",
       "<span class=\"icon-bar\"></span>\n",
       "<span class=\"icon-bar\"></span>\n",
       "</button>\n",
       "<a class=\"navbar-brand\" href=\"/\">LottoResults.co.nz</a>\n",
       "</div>\n",
       "<div class=\"collapse navbar-collapse\" id=\"primary-nav\">\n",
       "<ul class=\"nav navbar-nav\">\n",
       "<li><a class=\"game\" href=\"/lotto/\" title=\"Lotto\">Lotto</a></li>\n",
       "<li><a class=\"game\" href=\"/keno/\" title=\"Keno\">Keno</a></li>\n",
       "<li><a class=\"game\" href=\"/bullseye/\" title=\"Bullseye\">Bullseye</a></li>\n",
       "<li><a class=\"game\" href=\"/play3/\" title=\"Play 3\">Play 3</a></li>\n",
       "<li><a class=\"world\" href=\"/worldwide-lotteries/\" title=\"Worldwide Lotteries\">Worldwide Lotteries</a></li>\n",
       "<li><a class=\"faq\" href=\"/faq/\" title=\"FAQ\">FAQ</a></li>\n",
       "<li><a class=\"tools\" href=\"/tools/\" title=\"Tools\">Tools</a></li>\n",
       "</ul>\n",
       "</div>\n",
       "</div>\n",
       "</nav>\n",
       "<div class=\"section-menu\">\n",
       "<div class=\"section-menu-container\">\n",
       "<ul class=\"nav section-menu-nav\">\n",
       "<li><a href=\"/lotto/faq\">Lotto FAQ</a>\n",
       "</li></ul>\n",
       "</div>\n",
       "</div>\n",
       "<div class=\"container\">\n",
       "<ol class=\"breadcrumb\">\n",
       "<li><a href=\"/\" title=\"Home\">Home</a></li>\n",
       "<li><a href=\"/lotto/\" title=\"Lotto\">Lotto</a></li>\n",
       "<li><a href=\"/lotto/april-2012\" title=\"April 2012\">April 2012</a></li>\n",
       "<li>21 April 2012</li>\n",
       "</ol>\n",
       "<header class=\"result-header\">\n",
       "<h1>Lotto Results for 21 April 2012 <span>and Powerball and Strike!</span></h1>\n",
       "</header>\n",
       "<div class=\"row\">\n",
       "<main class=\"col-md-8\">\n",
       "<div class=\"box\">\n",
       "<div class=\"lotto-block\">\n",
       "<div class=\"row\">\n",
       "<div class=\"col-sm-4\">\n",
       "<div class=\"result-card__image-header\">\n",
       "<figure class=\"result-card__image result-card__image--long\">\n",
       "<img alt=\"Lotto Logo\" class=\"img-responsive game-logo\" src=\"/img/lotto-logo.svg\"/>\n",
       "</figure>\n",
       "</div>\n",
       "</div>\n",
       "<div class=\"col-md-8\">\n",
       "<ol class=\"draw-result\">\n",
       "<li class=\"draw-result__ball draw-result__ball--blue-border\">7</li>\n",
       "<li class=\"draw-result__ball draw-result__ball--gold-border\">11</li>\n",
       "<li class=\"draw-result__ball draw-result__ball--gold-border\">12</li>\n",
       "<li class=\"draw-result__ball draw-result__ball--gold-border\">13</li>\n",
       "<li class=\"draw-result__ball draw-result__ball--gold-border\">15</li>\n",
       "<li class=\"draw-result__ball draw-result__ball--gold-border\">16</li>\n",
       "<li class=\"draw-result__sep\"></li><li class=\"draw-result__ball draw-result__ball--red-border\">30</li>\n",
       "</ol>\n",
       "<ol class=\"draw-result draw-result--sub\">\n",
       "<li class=\"draw-result__logo\"><img alt=\"NZ Powerball Logo\" src=\"/img/powerball-logo.svg\" width=\"80px\"/></li>\n",
       "<li class=\"draw-result__ball draw-result__ball--blue-border\">3</li>\n",
       "</ol>\n",
       "<ol class=\"draw-result draw-result--sub\">\n",
       "<li class=\"draw-result__logo\"><img alt=\"NZ Strike! Logo\" src=\"/img/strike-logo.svg\" width=\"80px\"/></li>\n",
       "<li class=\"draw-result__ball draw-result__ball--gold-border\">11</li>\n",
       "<li class=\"draw-result__ball draw-result__ball--gold-border\">16</li>\n",
       "<li class=\"draw-result__ball draw-result__ball--gold-border\">13</li>\n",
       "<li class=\"draw-result__ball draw-result__ball--blue-border\">7</li>\n",
       "</ol>\n",
       "</div>\n",
       "</div>\n",
       "</div>\n",
       "</div>\n",
       "</main>\n",
       "<aside class=\"col-md-4 sidebar\">\n",
       "<div class=\"box blue-box\">\n",
       "<h2>Lotto Results <span>for April 2012</span></h2>\n",
       "<nav>\n",
       "<ul class=\"sidebar-nav\">\n",
       "<li><a href=\"/lotto/28-april-2012\">28 April 2012</a></li>\n",
       "<li class=\"active\"><a href=\"/lotto/21-april-2012\">21 April 2012</a></li>\n",
       "<li><a href=\"/lotto/14-april-2012\">14 April 2012</a></li>\n",
       "<li><a href=\"/lotto/07-april-2012\">07 April 2012</a></li>\n",
       "</ul>\n",
       "</nav>\n",
       "</div>\n",
       "<div class=\"box blue-box\">\n",
       "<h2>Lotto Results <span>for Last Year</span></h2>\n",
       "<nav>\n",
       "<ul class=\"sidebar-nav\">\n",
       "<li><a href=\"/lotto/december-2016\">December 2016</a></li>\n",
       "<li><a href=\"/lotto/november-2016\">November 2016</a></li>\n",
       "<li><a href=\"/lotto/october-2016\">October 2016</a></li>\n",
       "<li><a href=\"/lotto/september-2016\">September 2016</a></li>\n",
       "<li><a href=\"/lotto/august-2016\">August 2016</a></li>\n",
       "<li><a href=\"/lotto/july-2016\">July 2016</a></li>\n",
       "<li><a href=\"/lotto/june-2016\">June 2016</a></li>\n",
       "<li><a href=\"/lotto/may-2016\">May 2016</a></li>\n",
       "<li><a href=\"/lotto/april-2016\">April 2016</a></li>\n",
       "<li><a href=\"/lotto/march-2016\">March 2016</a></li>\n",
       "<li><a href=\"/lotto/february-2016\">February 2016</a></li>\n",
       "<li><a href=\"/lotto/archive\">Archived Results</a></li>\n",
       "</ul>\n",
       "</nav>\n",
       "</div>\n",
       "</aside>\n",
       "</div>\n",
       "</div>\n",
       "<footer>\n",
       "<div class=\"container\">\n",
       "<h3>LottoResults.co.nz</h3>\n",
       "<p>LottoResults.co.nz, 2016© Lotto Logic LTD., All Rights Reserved.</p><p>LottoResults.co.nz is not associated, affiliated nor endorsed by New Zealand Lotteries Commission, Camelot Group PLC, The National Lottery Commission, Services Aux Loteries en Europe SCRL or the Multi-State Lottery Association. <a href=\"/terms-and-conditions/\" title=\"Terms and Condtions\">Read our terms and conditions here</a>.</p><p><a href=\"/about-us/\" title=\"About LottoResults.co.nz\">About Us</a> | <a href=\"http://lottoresults.co.nz/contact-us/\">Contact Us</a></p>\n",
       "</div>\n",
       "<div class=\"back-to-top is-hidden\" data-title=\"back-to-top\"></div>\n",
       "</footer>\n",
       "<script src=\"https://ajax.googleapis.com/ajax/libs/jquery/1.11.3/jquery.min.js\"></script>\n",
       "<script src=\"/js/main.js\"></script>\n",
       "</body>\n",
       "</html> "
      ]
     },
     "execution_count": 20,
     "metadata": {},
     "output_type": "execute_result"
    }
   ],
   "source": [
    "result_soup"
   ]
  },
  {
   "cell_type": "code",
   "execution_count": 25,
   "metadata": {
    "collapsed": false
   },
   "outputs": [
    {
     "data": {
      "text/plain": [
       "[]"
      ]
     },
     "execution_count": 25,
     "metadata": {},
     "output_type": "execute_result"
    }
   ],
   "source": [
    "result_soup.findAll(\"ul\", {\"class\":\"draw-details-meta\"})"
   ]
  },
  {
   "cell_type": "code",
   "execution_count": 26,
   "metadata": {
    "collapsed": false
   },
   "outputs": [
    {
     "ename": "AttributeError",
     "evalue": "'ResultSet' object has no attribute 'get_text'",
     "output_type": "error",
     "traceback": [
      "\u001b[0;31m---------------------------------------------------------------------------\u001b[0m",
      "\u001b[0;31mAttributeError\u001b[0m                            Traceback (most recent call last)",
      "\u001b[0;32m<ipython-input-26-4c9266d89c30>\u001b[0m in \u001b[0;36m<module>\u001b[0;34m()\u001b[0m\n\u001b[0;32m----> 1\u001b[0;31m \u001b[0mprint\u001b[0m\u001b[1;33m(\u001b[0m\u001b[0mresult_soup\u001b[0m\u001b[1;33m.\u001b[0m\u001b[0mfindAll\u001b[0m\u001b[1;33m(\u001b[0m\u001b[1;34m\"ul\"\u001b[0m\u001b[1;33m,\u001b[0m \u001b[1;33m{\u001b[0m\u001b[1;34m\"class\"\u001b[0m\u001b[1;33m:\u001b[0m\u001b[1;34m\"draw-details-meta\"\u001b[0m\u001b[1;33m}\u001b[0m\u001b[1;33m)\u001b[0m\u001b[1;33m.\u001b[0m\u001b[0mget_text\u001b[0m\u001b[1;33m(\u001b[0m\u001b[1;33m)\u001b[0m\u001b[1;33m)\u001b[0m\u001b[1;33m\u001b[0m\u001b[0m\n\u001b[0m",
      "\u001b[0;31mAttributeError\u001b[0m: 'ResultSet' object has no attribute 'get_text'"
     ]
    }
   ],
   "source": [
    "print(result_soup.findAll(\"ul\", {\"class\":\"draw-details-meta\"}).get_text())"
   ]
  },
  {
   "cell_type": "code",
   "execution_count": 23,
   "metadata": {
    "collapsed": false
   },
   "outputs": [
    {
     "ename": "IndexError",
     "evalue": "list index out of range",
     "output_type": "error",
     "traceback": [
      "\u001b[0;31m---------------------------------------------------------------------------\u001b[0m",
      "\u001b[0;31mIndexError\u001b[0m                                Traceback (most recent call last)",
      "\u001b[0;32m<ipython-input-23-a7c5e34bcfcf>\u001b[0m in \u001b[0;36m<module>\u001b[0;34m()\u001b[0m\n\u001b[1;32m      1\u001b[0m \u001b[0mdraw_details\u001b[0m \u001b[1;33m=\u001b[0m \u001b[0mresult_soup\u001b[0m\u001b[1;33m.\u001b[0m\u001b[0mfindAll\u001b[0m\u001b[1;33m(\u001b[0m\u001b[1;34m\"ul\"\u001b[0m\u001b[1;33m,\u001b[0m \u001b[1;33m{\u001b[0m\u001b[1;34m\"class\"\u001b[0m\u001b[1;33m:\u001b[0m\u001b[1;34m\"draw-details-meta\"\u001b[0m\u001b[1;33m}\u001b[0m\u001b[1;33m)\u001b[0m\u001b[1;33m\u001b[0m\u001b[0m\n\u001b[0;32m----> 2\u001b[0;31m \u001b[0mdraw_details\u001b[0m\u001b[1;33m[\u001b[0m\u001b[1;36m0\u001b[0m\u001b[1;33m]\u001b[0m\u001b[1;33m\u001b[0m\u001b[0m\n\u001b[0m",
      "\u001b[0;31mIndexError\u001b[0m: list index out of range"
     ]
    }
   ],
   "source": [
    "draw_details = result_soup.findAll(\"ul\", {\"class\":\"draw-details-meta\"})\n",
    "draw_details[0]"
   ]
  },
  {
   "cell_type": "code",
   "execution_count": null,
   "metadata": {
    "collapsed": false
   },
   "outputs": [],
   "source": [
    "l = [1,2,3]\n",
    "l.reverse()\n",
    "l"
   ]
  },
  {
   "cell_type": "code",
   "execution_count": 22,
   "metadata": {
    "collapsed": false
   },
   "outputs": [
    {
     "ename": "NameError",
     "evalue": "name 'draw_details' is not defined",
     "output_type": "error",
     "traceback": [
      "\u001b[0;31m---------------------------------------------------------------------------\u001b[0m",
      "\u001b[0;31mNameError\u001b[0m                                 Traceback (most recent call last)",
      "\u001b[0;32m<ipython-input-22-bac32b4149d1>\u001b[0m in \u001b[0;36m<module>\u001b[0;34m()\u001b[0m\n\u001b[0;32m----> 1\u001b[0;31m \u001b[1;32mfor\u001b[0m \u001b[0mtag\u001b[0m \u001b[1;32min\u001b[0m \u001b[0mdraw_details\u001b[0m\u001b[1;33m.\u001b[0m\u001b[0mfindAll\u001b[0m\u001b[1;33m(\u001b[0m\u001b[1;34m\"li\"\u001b[0m\u001b[1;33m)\u001b[0m\u001b[1;33m:\u001b[0m\u001b[1;33m\u001b[0m\u001b[0m\n\u001b[0m\u001b[1;32m      2\u001b[0m     \u001b[0mtext\u001b[0m \u001b[1;33m=\u001b[0m \u001b[0mtag\u001b[0m\u001b[1;33m.\u001b[0m\u001b[0mget_text\u001b[0m\u001b[1;33m(\u001b[0m\u001b[1;33m)\u001b[0m\u001b[1;33m\u001b[0m\u001b[0m\n\u001b[1;32m      3\u001b[0m     \u001b[0mtext\u001b[0m \u001b[1;33m=\u001b[0m \u001b[0mtext\u001b[0m\u001b[1;33m.\u001b[0m\u001b[0mlower\u001b[0m\u001b[1;33m(\u001b[0m\u001b[1;33m)\u001b[0m\u001b[1;33m\u001b[0m\u001b[0m\n\u001b[1;32m      4\u001b[0m     \u001b[0mappend_text\u001b[0m \u001b[1;33m=\u001b[0m \u001b[0mtext\u001b[0m\u001b[1;33m.\u001b[0m\u001b[0mrsplit\u001b[0m\u001b[1;33m(\u001b[0m\u001b[1;34m\" \"\u001b[0m\u001b[1;33m,\u001b[0m \u001b[1;36m1\u001b[0m\u001b[1;33m)\u001b[0m\u001b[1;33m[\u001b[0m\u001b[1;33m-\u001b[0m\u001b[1;36m1\u001b[0m\u001b[1;33m]\u001b[0m\u001b[1;33m\u001b[0m\u001b[0m\n\u001b[1;32m      5\u001b[0m     \u001b[1;32mif\u001b[0m \u001b[1;34m'total prize pool'\u001b[0m \u001b[1;32min\u001b[0m \u001b[0mtext\u001b[0m\u001b[1;33m:\u001b[0m\u001b[1;33m\u001b[0m\u001b[0m\n",
      "\u001b[0;31mNameError\u001b[0m: name 'draw_details' is not defined"
     ]
    }
   ],
   "source": [
    "for tag in draw_details.findAll(\"li\"):\n",
    "    text = tag.get_text()\n",
    "    text = text.lower()\n",
    "    append_text = text.rsplit(\" \", 1)[-1]\n",
    "    if 'total prize pool' in text:\n",
    "        result_dict['prize pool'] = append_text\n",
    "    elif 'number of winners' in text:\n",
    "        result_dict['winner count'] = append_text\n",
    "    elif 'average prize per winner' in text:\n",
    "        result_dict['average prize'] = append_text\n",
    "\n",
    "result_dict"
   ]
  },
  {
   "cell_type": "code",
   "execution_count": null,
   "metadata": {
    "collapsed": false
   },
   "outputs": [],
   "source": [
    "table_soup = result_soup.findAll(\"table\")[0]\n",
    "table_soup"
   ]
  },
  {
   "cell_type": "code",
   "execution_count": null,
   "metadata": {
    "collapsed": false,
    "scrolled": true
   },
   "outputs": [],
   "source": [
    "table_soup.findAll(\"tr\", {\"data-row\":re.compile(\"\\d\")})"
   ]
  },
  {
   "cell_type": "code",
   "execution_count": null,
   "metadata": {
    "collapsed": false
   },
   "outputs": [],
   "source": [
    "result_dict"
   ]
  },
  {
   "cell_type": "code",
   "execution_count": null,
   "metadata": {
    "collapsed": true
   },
   "outputs": [],
   "source": [
    "import pandas as pd"
   ]
  },
  {
   "cell_type": "code",
   "execution_count": null,
   "metadata": {
    "collapsed": false
   },
   "outputs": [],
   "source": [
    "result_dict[\"lotto divisions\"]     = pd.DataFrame([], columns = [\"Division\", \"Matches\", \"Winners\", \"Prize\"])\n",
    "result_dict[\"powerball divisions\"] = pd.DataFrame([], columns = [\"Division\", \"Matches\", \"Winners\", \"Prize\"])\n",
    "result_dict[\"strike divisions\"]    = pd.DataFrame([], columns = [\"Division\", \"Matches\", \"Winners\", \"Prize\"])\n",
    "\n",
    "row_text = row_soup.get_text()\n",
    "\n",
    "row = [text for text in row_text.split(\"\\n\") if text != \"\"]\n",
    "\n",
    "if 'powerball' in row_text.lower():\n",
    "    label = 'powerball divisions'\n",
    "elif 'exact order' in row_text.lower():\n",
    "    label = 'strike divisions'\n",
    "else:\n",
    "    label = 'lotto divisions'\n",
    "\n",
    "length = len(result_dict[label])\n",
    "result_dict[label].loc[length] = row"
   ]
  },
  {
   "cell_type": "code",
   "execution_count": null,
   "metadata": {
    "collapsed": false
   },
   "outputs": [],
   "source": [
    "result_dict"
   ]
  },
  {
   "cell_type": "markdown",
   "metadata": {
    "collapsed": true
   },
   "source": [
    "There. I've basically scraped everything that I need to at this point. Now all that remains to do is package the code into functions and create the loops that will run this code over the entire site."
   ]
  },
  {
   "cell_type": "code",
   "execution_count": null,
   "metadata": {
    "collapsed": false
   },
   "outputs": [],
   "source": [
    "import time\n",
    "time.sleep(5)\n",
    "print(\"hello\")"
   ]
  },
  {
   "cell_type": "code",
   "execution_count": null,
   "metadata": {
    "collapsed": true
   },
   "outputs": [],
   "source": []
  },
  {
   "cell_type": "code",
   "execution_count": null,
   "metadata": {
    "collapsed": true
   },
   "outputs": [],
   "source": []
  },
  {
   "cell_type": "code",
   "execution_count": null,
   "metadata": {
    "collapsed": true
   },
   "outputs": [],
   "source": []
  },
  {
   "cell_type": "code",
   "execution_count": null,
   "metadata": {
    "collapsed": true
   },
   "outputs": [],
   "source": []
  },
  {
   "cell_type": "code",
   "execution_count": null,
   "metadata": {
    "collapsed": true
   },
   "outputs": [],
   "source": []
  },
  {
   "cell_type": "code",
   "execution_count": null,
   "metadata": {
    "collapsed": true
   },
   "outputs": [],
   "source": []
  },
  {
   "cell_type": "code",
   "execution_count": null,
   "metadata": {
    "collapsed": true
   },
   "outputs": [],
   "source": []
  },
  {
   "cell_type": "code",
   "execution_count": null,
   "metadata": {
    "collapsed": true
   },
   "outputs": [],
   "source": []
  },
  {
   "cell_type": "code",
   "execution_count": null,
   "metadata": {
    "collapsed": true
   },
   "outputs": [],
   "source": []
  },
  {
   "cell_type": "code",
   "execution_count": null,
   "metadata": {
    "collapsed": true
   },
   "outputs": [],
   "source": []
  },
  {
   "cell_type": "code",
   "execution_count": null,
   "metadata": {
    "collapsed": true
   },
   "outputs": [],
   "source": []
  },
  {
   "cell_type": "code",
   "execution_count": null,
   "metadata": {
    "collapsed": true
   },
   "outputs": [],
   "source": []
  },
  {
   "cell_type": "code",
   "execution_count": null,
   "metadata": {
    "collapsed": true
   },
   "outputs": [],
   "source": []
  },
  {
   "cell_type": "code",
   "execution_count": null,
   "metadata": {
    "collapsed": true
   },
   "outputs": [],
   "source": []
  },
  {
   "cell_type": "code",
   "execution_count": null,
   "metadata": {
    "collapsed": true
   },
   "outputs": [],
   "source": []
  },
  {
   "cell_type": "code",
   "execution_count": null,
   "metadata": {
    "collapsed": true
   },
   "outputs": [],
   "source": []
  },
  {
   "cell_type": "code",
   "execution_count": null,
   "metadata": {
    "collapsed": true
   },
   "outputs": [],
   "source": []
  },
  {
   "cell_type": "code",
   "execution_count": null,
   "metadata": {
    "collapsed": true
   },
   "outputs": [],
   "source": []
  },
  {
   "cell_type": "code",
   "execution_count": null,
   "metadata": {
    "collapsed": true
   },
   "outputs": [],
   "source": []
  },
  {
   "cell_type": "code",
   "execution_count": null,
   "metadata": {
    "collapsed": true
   },
   "outputs": [],
   "source": []
  },
  {
   "cell_type": "code",
   "execution_count": null,
   "metadata": {
    "collapsed": true
   },
   "outputs": [],
   "source": []
  },
  {
   "cell_type": "code",
   "execution_count": null,
   "metadata": {
    "collapsed": true
   },
   "outputs": [],
   "source": []
  },
  {
   "cell_type": "code",
   "execution_count": null,
   "metadata": {
    "collapsed": true
   },
   "outputs": [],
   "source": []
  },
  {
   "cell_type": "code",
   "execution_count": null,
   "metadata": {
    "collapsed": true
   },
   "outputs": [],
   "source": []
  },
  {
   "cell_type": "code",
   "execution_count": null,
   "metadata": {
    "collapsed": true
   },
   "outputs": [],
   "source": []
  },
  {
   "cell_type": "code",
   "execution_count": null,
   "metadata": {
    "collapsed": true
   },
   "outputs": [],
   "source": []
  },
  {
   "cell_type": "code",
   "execution_count": null,
   "metadata": {
    "collapsed": true
   },
   "outputs": [],
   "source": []
  },
  {
   "cell_type": "code",
   "execution_count": null,
   "metadata": {
    "collapsed": true
   },
   "outputs": [],
   "source": []
  },
  {
   "cell_type": "code",
   "execution_count": null,
   "metadata": {
    "collapsed": true
   },
   "outputs": [],
   "source": []
  },
  {
   "cell_type": "code",
   "execution_count": null,
   "metadata": {
    "collapsed": true
   },
   "outputs": [],
   "source": []
  },
  {
   "cell_type": "code",
   "execution_count": null,
   "metadata": {
    "collapsed": true
   },
   "outputs": [],
   "source": []
  },
  {
   "cell_type": "code",
   "execution_count": null,
   "metadata": {
    "collapsed": true
   },
   "outputs": [],
   "source": []
  },
  {
   "cell_type": "code",
   "execution_count": null,
   "metadata": {
    "collapsed": true
   },
   "outputs": [],
   "source": []
  },
  {
   "cell_type": "code",
   "execution_count": null,
   "metadata": {
    "collapsed": true
   },
   "outputs": [],
   "source": []
  },
  {
   "cell_type": "code",
   "execution_count": null,
   "metadata": {
    "collapsed": true
   },
   "outputs": [],
   "source": []
  },
  {
   "cell_type": "code",
   "execution_count": null,
   "metadata": {
    "collapsed": true
   },
   "outputs": [],
   "source": []
  },
  {
   "cell_type": "code",
   "execution_count": null,
   "metadata": {
    "collapsed": true
   },
   "outputs": [],
   "source": []
  },
  {
   "cell_type": "code",
   "execution_count": null,
   "metadata": {
    "collapsed": true
   },
   "outputs": [],
   "source": []
  },
  {
   "cell_type": "code",
   "execution_count": null,
   "metadata": {
    "collapsed": true
   },
   "outputs": [],
   "source": []
  }
 ],
 "metadata": {
  "anaconda-cloud": {},
  "kernelspec": {
   "display_name": "Python [conda root]",
   "language": "python",
   "name": "conda-root-py"
  },
  "language_info": {
   "codemirror_mode": {
    "name": "ipython",
    "version": 2
   },
   "file_extension": ".py",
   "mimetype": "text/x-python",
   "name": "python",
   "nbconvert_exporter": "python",
   "pygments_lexer": "ipython2",
   "version": "2.7.12"
  }
 },
 "nbformat": 4,
 "nbformat_minor": 1
}

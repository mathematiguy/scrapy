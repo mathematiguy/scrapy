{
 "cells": [
  {
   "cell_type": "code",
   "execution_count": null,
   "metadata": {
    "collapsed": false
   },
   "outputs": [],
   "source": [
    "from __future__ import print_function\n",
    "import os\n",
    "import numpy as np\n",
    "import matplotlib.pyplot as plt\n",
    "from geopandas import GeoDataFrame, read_file\n",
    "from pandas import notnull\n",
    "%matplotlib inline\n",
    "\n",
    "input_file = os.path.join(os.path.abspath('..'), 'data', 'idaho-lakes', 'majlakes.shp')\n",
    "if os.path.exists(input_file):\n",
    "    print('Input file:', input_file)\n",
    "else:\n",
    "    print('Please download the tutorial data or fix the path!')"
   ]
  },
  {
   "cell_type": "markdown",
   "metadata": {},
   "source": [
    "## Part 1\n",
    "\n",
    "Load the input file into a `GeoDataFrame`.\n",
    "\n",
    "How many lakes are there?\n",
    "\n",
    "What is the coordinate system (map projection)?\n",
    "\n",
    "Make a plot."
   ]
  },
  {
   "cell_type": "code",
   "execution_count": null,
   "metadata": {
    "collapsed": false
   },
   "outputs": [],
   "source": []
  },
  {
   "cell_type": "markdown",
   "metadata": {},
   "source": [
    "## Part 2\n",
    "\n",
    "Plot only the lakes that have the `NAME` column set."
   ]
  },
  {
   "cell_type": "code",
   "execution_count": null,
   "metadata": {
    "collapsed": false
   },
   "outputs": [],
   "source": []
  },
  {
   "cell_type": "markdown",
   "metadata": {},
   "source": [
    "## Part 3\n",
    "\n",
    "Calculate the area of all the lakes (use the `geometry` column as a `GeoSeries`).\n",
    "\n",
    "What are the units of area?\n",
    "\n",
    "Compare your calculated areas with those in the `AREA` column. Relative difference would be more useful here."
   ]
  },
  {
   "cell_type": "code",
   "execution_count": null,
   "metadata": {
    "collapsed": false
   },
   "outputs": [],
   "source": []
  },
  {
   "cell_type": "markdown",
   "metadata": {},
   "source": [
    "## BONUS\n",
    "\n",
    "Plot the bounding box of the data in the Landsat exercise on the same plot as the lakes."
   ]
  },
  {
   "cell_type": "code",
   "execution_count": null,
   "metadata": {
    "collapsed": true
   },
   "outputs": [],
   "source": []
  }
 ],
 "metadata": {
  "kernelspec": {
   "display_name": "Python 2",
   "language": "python",
   "name": "python2"
  },
  "language_info": {
   "codemirror_mode": {
    "name": "ipython",
    "version": 2
   },
   "file_extension": ".py",
   "mimetype": "text/x-python",
   "name": "python",
   "nbconvert_exporter": "python",
   "pygments_lexer": "ipython2",
   "version": "2.7.9"
  }
 },
 "nbformat": 4,
 "nbformat_minor": 0
}

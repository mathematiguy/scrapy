{
 "cells": [
  {
   "cell_type": "markdown",
   "metadata": {},
   "source": [
    "# Exercise: Reading raster layers with rasterio\n",
    "\n",
    "In this exercise, we'll use rasterio to load a Landsat file and display data from the color bands."
   ]
  },
  {
   "cell_type": "code",
   "execution_count": null,
   "metadata": {
    "collapsed": false
   },
   "outputs": [],
   "source": [
    "from __future__ import print_function\n",
    "import os\n",
    "import numpy as np\n",
    "import matplotlib.pyplot as plt\n",
    "import rasterio\n",
    "%matplotlib inline\n",
    "\n",
    "input_file = os.path.join(os.path.abspath('..'), 'data', 'landsat.tif')\n",
    "if not os.path.exists(input_file):\n",
    "    print('Please download the tutorial data or fix the path!')\n",
    "else:\n",
    "    print('Input file:', input_file)"
   ]
  },
  {
   "cell_type": "markdown",
   "metadata": {},
   "source": [
    "## Part 1\n",
    "\n",
    "Use the command line tool `rio` to explore this file. Although you can do this with `!rio` in this notebook, I recommend using a terminal window (command shell).\n",
    "\n",
    "- What is the size of the image?\n",
    "- How many bands does it contain?\n",
    "\n",
    "Try reading the data in an interactive shell with `rio insp`."
   ]
  },
  {
   "cell_type": "markdown",
   "metadata": {},
   "source": [
    "## Part 2\n",
    "\n",
    "Extract the bounding rectangle of the data within the file.\n",
    "\n",
    "Plot it with matplotlib."
   ]
  },
  {
   "cell_type": "code",
   "execution_count": null,
   "metadata": {
    "collapsed": false
   },
   "outputs": [],
   "source": []
  },
  {
   "cell_type": "markdown",
   "metadata": {},
   "source": [
    "It would be even better to pull out the coordinates of the oblique rectangle that actually contains data. This file doesn't have masks set, but we could generate mask values with some filtering. See [masks](https://github.com/mapbox/rasterio/blob/master/docs/masks.rst) in the Rasterio documents for examples."
   ]
  },
  {
   "cell_type": "markdown",
   "metadata": {},
   "source": [
    "## Part 3\n",
    "\n",
    "Read each band and combine them into a single NumPy array with the 3rd dimension as the number of bands.\n",
    "\n",
    "Plot a histogram of the data values for each band (be sure to ignore grid locations with no data)."
   ]
  },
  {
   "cell_type": "code",
   "execution_count": null,
   "metadata": {
    "collapsed": false
   },
   "outputs": [],
   "source": []
  },
  {
   "cell_type": "markdown",
   "metadata": {},
   "source": [
    "# Part 4\n",
    "\n",
    "Plot the data with `plt.imshow`, assuming the first 3 bands are red, green, and blue, respectively. Take a look at the help for `imshow`. For 3-color images, input values should be either integers between 0 and 255 or floats between 0.0 and 1.0, so normalization is sometimes necessary.\n",
    "\n",
    "Can you do a better job of normalizing the color values by looking at the histograms you made above?"
   ]
  },
  {
   "cell_type": "code",
   "execution_count": null,
   "metadata": {
    "collapsed": false
   },
   "outputs": [],
   "source": []
  }
 ],
 "metadata": {
  "kernelspec": {
   "display_name": "Python 2",
   "language": "python",
   "name": "python2"
  },
  "language_info": {
   "codemirror_mode": {
    "name": "ipython",
    "version": 2
   },
   "file_extension": ".py",
   "mimetype": "text/x-python",
   "name": "python",
   "nbconvert_exporter": "python",
   "pygments_lexer": "ipython2",
   "version": "2.7.9"
  }
 },
 "nbformat": 4,
 "nbformat_minor": 0
}

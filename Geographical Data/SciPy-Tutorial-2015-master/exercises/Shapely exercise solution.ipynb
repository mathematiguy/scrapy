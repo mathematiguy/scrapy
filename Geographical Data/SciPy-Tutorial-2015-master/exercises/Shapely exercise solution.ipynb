{
 "cells": [
  {
   "cell_type": "code",
   "execution_count": 1,
   "metadata": {
    "collapsed": true
   },
   "outputs": [],
   "source": [
    "from shapely.geometry import Point, LineString, Polygon, MultiPoint, GeometryCollection"
   ]
  },
  {
   "cell_type": "markdown",
   "metadata": {},
   "source": [
    "# Part 1\n",
    "\n",
    "Construct a list of 6 point objects with x-coordinates `[0, 1, 2, 0, 1, 2]` and y-coordinates `[0, 0, 0, 1, 1, 1]`."
   ]
  },
  {
   "cell_type": "code",
   "execution_count": 2,
   "metadata": {
    "collapsed": false
   },
   "outputs": [
    {
     "data": {
      "image/svg+xml": [
       "<svg\n",
       "            preserveAspectRatio=\"xMinYMin meet\"\n",
       "            viewBox=\"-1.0 -1.0 4.0 3.0\"\n",
       "            width=\"100.0\"\n",
       "            height=\"100.0\"\n",
       "            transform=\"translate(0, 100.0),scale(1, -1)\">\n",
       "            <circle\n",
       "            cx=\"0.0\"\n",
       "            cy=\"0.0\"\n",
       "            r=\"0.12\"\n",
       "            stroke=\"#555555\"\n",
       "            stroke-width=\"0.04\"\n",
       "            fill=\"#66cc99\"\n",
       "            opacity=\".6\"\n",
       "            />\n",
       "<circle\n",
       "            cx=\"1.0\"\n",
       "            cy=\"0.0\"\n",
       "            r=\"0.12\"\n",
       "            stroke=\"#555555\"\n",
       "            stroke-width=\"0.04\"\n",
       "            fill=\"#66cc99\"\n",
       "            opacity=\".6\"\n",
       "            />\n",
       "<circle\n",
       "            cx=\"2.0\"\n",
       "            cy=\"0.0\"\n",
       "            r=\"0.12\"\n",
       "            stroke=\"#555555\"\n",
       "            stroke-width=\"0.04\"\n",
       "            fill=\"#66cc99\"\n",
       "            opacity=\".6\"\n",
       "            />\n",
       "<circle\n",
       "            cx=\"0.0\"\n",
       "            cy=\"1.0\"\n",
       "            r=\"0.12\"\n",
       "            stroke=\"#555555\"\n",
       "            stroke-width=\"0.04\"\n",
       "            fill=\"#66cc99\"\n",
       "            opacity=\".6\"\n",
       "            />\n",
       "<circle\n",
       "            cx=\"1.0\"\n",
       "            cy=\"1.0\"\n",
       "            r=\"0.12\"\n",
       "            stroke=\"#555555\"\n",
       "            stroke-width=\"0.04\"\n",
       "            fill=\"#66cc99\"\n",
       "            opacity=\".6\"\n",
       "            />\n",
       "<circle\n",
       "            cx=\"2.0\"\n",
       "            cy=\"1.0\"\n",
       "            r=\"0.12\"\n",
       "            stroke=\"#555555\"\n",
       "            stroke-width=\"0.04\"\n",
       "            fill=\"#66cc99\"\n",
       "            opacity=\".6\"\n",
       "            />\n",
       "            </svg>"
      ],
      "text/plain": [
       "<shapely.geometry.multipoint.MultiPoint at 0x10a8bcb50>"
      ]
     },
     "execution_count": 2,
     "metadata": {},
     "output_type": "execute_result"
    }
   ],
   "source": [
    "x = [0, 1, 2, 0, 1, 2]\n",
    "y = [0, 0, 0, 1, 1, 1]\n",
    "pts = [Point(x, y) for x, y in zip(x, y)]\n",
    "MultiPoint(pts)"
   ]
  },
  {
   "cell_type": "markdown",
   "metadata": {},
   "source": [
    "## Part 2\n",
    "\n",
    "Construct a `LineString` from all the points.\n",
    "\n",
    "Calculate the buffer around the line of distance 0.5. What type of geometry is the result?"
   ]
  },
  {
   "cell_type": "code",
   "execution_count": 3,
   "metadata": {
    "collapsed": false
   },
   "outputs": [
    {
     "data": {
      "image/svg+xml": [
       "<svg\n",
       "            preserveAspectRatio=\"xMinYMin meet\"\n",
       "            viewBox=\"-1.49937527425 -1.5 4.9987505485 4.0\"\n",
       "            width=\"100.0\"\n",
       "            height=\"100.0\"\n",
       "            transform=\"translate(0, 100.0),scale(1, -1)\">\n",
       "            \n",
       "            <g fill-rule=\"evenodd\" fill=\"#66cc99\" stroke=\"#555555\"\n",
       "            stroke-width=\"0.09997501097\" opacity=\"0.6\">\n",
       "            <path d=\"M -0.0983940152938,0.490180013272 L -0.22360679775,0.5527864045 L -0.266791220666,0.577125970795 L -0.30735328985,0.605622065502 L -0.344894311172,0.637994593796 L -0.379045285094,0.673925358471 L -0.409470533651,0.713061187583 L -0.435870999911,0.75501740585 L -0.457987187474,0.799381615724 L -0.475601711124,0.845717750938 L -0.488541433561,0.893570362708 L -0.496679167206,0.942469096446 L -0.499934924358,0.991933314982 L -0.498276703414,1.04147682286 L -0.491720803418,1.09061264529 L -0.480331663854,1.13885781468 L -0.464221231258,1.18573811792 L -0.443547858866,1.23079275746 L -0.418514750121,1.27357888064 L -0.389367961346,1.31367593258 L -0.356393983191,1.35068978991 L -0.319916924651,1.38425663471 L -0.280295327324,1.41404653057 L -0.237918641221,1.43976666558 L -0.193203396769,1.46116423048 L -0.146589110634,1.47802890356 L -0.0985339656122,1.49019491799 L -0.0495103070394,1.49754269113 L 0.0,1.5 L 2.0,1.5 L 2.04900857016,1.49759236334 L 2.09754516101,1.4903926402 L 2.14514233863,1.47847016787 L 2.19134171618,1.46193976626 L 2.23569836841,1.44096063217 L 2.27778511651,1.41573480615 L 2.31719664208,1.38650522668 L 2.35355339059,1.35355339059 L 2.38650522668,1.31719664208 L 2.41573480615,1.27778511651 L 2.44096063217,1.23569836841 L 2.46193976626,1.19134171618 L 2.47847016787,1.14514233863 L 2.4903926402,1.09754516101 L 2.49759236334,1.04900857016 L 2.5,1.0 L 2.49759236334,0.950991429835 L 2.4903926402,0.902454838992 L 2.47847016787,0.854857661373 L 2.46193976626,0.808658283817 L 2.44096063217,0.764301631587 L 2.41573480615,0.72221488349 L 2.38650522668,0.682803357918 L 2.35355339059,0.646446609407 L 2.31719664208,0.613494773319 L 2.27778511651,0.584265193849 L 2.23569836841,0.559039367826 L 2.19134171618,0.538060233744 L 2.14514233863,0.521529832134 L 2.09839401529,0.509819986728 L 2.22360679775,0.4472135955 L 2.26679122067,0.422874029205 L 2.30735328985,0.394377934498 L 2.34489431117,0.362005406204 L 2.37904528509,0.326074641529 L 2.40947053365,0.286938812417 L 2.43587099991,0.24498259415 L 2.45798718747,0.200618384276 L 2.47560171112,0.154282249062 L 2.48854143356,0.106429637292 L 2.49667916721,0.057530903554 L 2.49993492436,0.00806668501793 L 2.49827670341,-0.0414768228647 L 2.49172080342,-0.0906126452884 L 2.48033166385,-0.138857814684 L 2.46422123126,-0.185738117921 L 2.44354785887,-0.230792757459 L 2.41851475012,-0.273578880638 L 2.38936796135,-0.313675932575 L 2.35639398319,-0.350689789908 L 2.31991692465,-0.384256634714 L 2.28029532732,-0.414046530574 L 2.23791864122,-0.439766665585 L 2.19320339677,-0.461164230483 L 2.14658911063,-0.478028903565 L 2.09853396561,-0.490194917987 L 2.04951030704,-0.49754269113 L 2.0,-0.5 L 0.0,-0.5 L -0.0490085701648,-0.497592363336 L -0.0975451610081,-0.490392640202 L -0.145142338627,-0.478470167866 L -0.191341716183,-0.461939766256 L -0.235698368413,-0.440960632174 L -0.27778511651,-0.415734806151 L -0.317196642082,-0.386505226681 L -0.353553390593,-0.353553390593 L -0.386505226681,-0.317196642082 L -0.415734806151,-0.27778511651 L -0.440960632174,-0.235698368413 L -0.461939766256,-0.191341716183 L -0.478470167866,-0.145142338627 L -0.490392640202,-0.0975451610081 L -0.497592363336,-0.0490085701648 L -0.5,6.12323399574e-17 L -0.497592363336,0.0490085701648 L -0.490392640202,0.0975451610081 L -0.478470167866,0.145142338627 L -0.461939766256,0.191341716183 L -0.440960632174,0.235698368413 L -0.415734806151,0.27778511651 L -0.386505226681,0.317196642082 L -0.353553390593,0.353553390593 L -0.317196642082,0.386505226681 L -0.27778511651,0.415734806151 L -0.235698368413,0.440960632174 L -0.191341716183,0.461939766256 L -0.145142338627,0.478470167866 L -0.0983940152938,0.490180013272 z\" />\n",
       "            </g>\n",
       "            </svg>"
      ],
      "text/plain": [
       "<shapely.geometry.polygon.Polygon at 0x10a8bc950>"
      ]
     },
     "execution_count": 3,
     "metadata": {},
     "output_type": "execute_result"
    }
   ],
   "source": [
    "line = LineString(pts)\n",
    "line.buffer(0.5)"
   ]
  },
  {
   "cell_type": "markdown",
   "metadata": {},
   "source": [
    "## Part 3\n",
    "\n",
    "Create a square and two triangles using the points in Part 1 as vertices.\n",
    "\n",
    "- What is the intersection of the two triangles?\n",
    "- Test whether the square intersects each of the triangles.\n",
    "- Calculate the union of all the shapes.\n",
    "\n",
    "(The answers will depend on how you arrange your polygons)."
   ]
  },
  {
   "cell_type": "code",
   "execution_count": 4,
   "metadata": {
    "collapsed": false
   },
   "outputs": [
    {
     "data": {
      "image/svg+xml": [
       "<svg\n",
       "            preserveAspectRatio=\"xMinYMin meet\"\n",
       "            viewBox=\"-1.0 -1.0 4.0 3.0\"\n",
       "            width=\"100.0\"\n",
       "            height=\"100.0\"\n",
       "            transform=\"translate(0, 100.0),scale(1, -1)\">\n",
       "            \n",
       "            <g fill-rule=\"evenodd\" fill=\"#66cc99\" stroke=\"#555555\"\n",
       "            stroke-width=\"0.08\" opacity=\"0.6\">\n",
       "            <path d=\"M 0.0,0.0 L 1.0,0.0 L 1.0,1.0 L 0.0,1.0 L 0.0,0.0 z\" />\n",
       "            </g>\n",
       "\n",
       "            <g fill-rule=\"evenodd\" fill=\"#66cc99\" stroke=\"#555555\"\n",
       "            stroke-width=\"0.08\" opacity=\"0.6\">\n",
       "            <path d=\"M 1.0,0.0 L 2.0,0.0 L 2.0,1.0 L 1.0,0.0 z\" />\n",
       "            </g>\n",
       "\n",
       "            <g fill-rule=\"evenodd\" fill=\"#66cc99\" stroke=\"#555555\"\n",
       "            stroke-width=\"0.08\" opacity=\"0.6\">\n",
       "            <path d=\"M 1.0,0.0 L 2.0,1.0 L 1.0,1.0 L 1.0,0.0 z\" />\n",
       "            </g>\n",
       "            </svg>"
      ],
      "text/plain": [
       "<shapely.geometry.collection.GeometryCollection at 0x10a8cea50>"
      ]
     },
     "execution_count": 4,
     "metadata": {},
     "output_type": "execute_result"
    }
   ],
   "source": [
    "square = Polygon(LineString([pts[0], pts[1], pts[4], pts[3]]))\n",
    "tri1 = Polygon(LineString([pts[1], pts[2], pts[5]]))\n",
    "tri2 = Polygon(LineString([pts[1], pts[5], pts[4]]))\n",
    "GeometryCollection([square, tri1, tri2])"
   ]
  },
  {
   "cell_type": "code",
   "execution_count": 5,
   "metadata": {
    "collapsed": false
   },
   "outputs": [
    {
     "data": {
      "image/svg+xml": [
       "<svg\n",
       "            preserveAspectRatio=\"xMinYMin meet\"\n",
       "            viewBox=\"0.0 -1.0 3.0 3.0\"\n",
       "            width=\"100.0\"\n",
       "            height=\"100.0\"\n",
       "            transform=\"translate(0, 100.0),scale(1, -1)\">\n",
       "            <polyline\n",
       "            fill=\"none\"\n",
       "            stroke=\"#66cc99\"\n",
       "            stroke-width=0.06\n",
       "            points=\"2.0,1.0 1.0,0.0\"\n",
       "            opacity=\".8\"\n",
       "            />\n",
       "            </svg>"
      ],
      "text/plain": [
       "<shapely.geometry.linestring.LineString at 0x10a8bc910>"
      ]
     },
     "execution_count": 5,
     "metadata": {},
     "output_type": "execute_result"
    }
   ],
   "source": [
    "tri1.intersection(tri2)"
   ]
  },
  {
   "cell_type": "code",
   "execution_count": 6,
   "metadata": {
    "collapsed": false
   },
   "outputs": [
    {
     "name": "stdout",
     "output_type": "stream",
     "text": [
      "True\n",
      "True\n"
     ]
    },
    {
     "data": {
      "image/svg+xml": [
       "<svg\n",
       "            preserveAspectRatio=\"xMinYMin meet\"\n",
       "            viewBox=\"-1.0 -1.0 4.0 3.0\"\n",
       "            width=\"100.0\"\n",
       "            height=\"100.0\"\n",
       "            transform=\"translate(0, 100.0),scale(1, -1)\">\n",
       "            \n",
       "            <g fill-rule=\"evenodd\" fill=\"#66cc99\" stroke=\"#555555\"\n",
       "            stroke-width=\"0.08\" opacity=\"0.6\">\n",
       "            <path d=\"M 1.0,0.0 L 0.0,0.0 L 0.0,1.0 L 1.0,1.0 L 2.0,1.0 L 2.0,0.0 L 1.0,0.0 z\" />\n",
       "            </g>\n",
       "            </svg>"
      ],
      "text/plain": [
       "<shapely.geometry.polygon.Polygon at 0x103c9b690>"
      ]
     },
     "execution_count": 6,
     "metadata": {},
     "output_type": "execute_result"
    }
   ],
   "source": [
    "print(square.intersects(tri1))\n",
    "print(square.intersects(tri2))\n",
    "square.union(tri1).union(tri2)"
   ]
  },
  {
   "cell_type": "markdown",
   "metadata": {},
   "source": [
    "## BONUS\n",
    "\n",
    "Take a look at the `__geo_interface__` property of some of your objects. What is it?"
   ]
  },
  {
   "cell_type": "code",
   "execution_count": 7,
   "metadata": {
    "collapsed": false
   },
   "outputs": [
    {
     "data": {
      "text/plain": [
       "{'coordinates': (((0.0, 0.0),\n",
       "   (1.0, 0.0),\n",
       "   (1.0, 1.0),\n",
       "   (0.0, 1.0),\n",
       "   (0.0, 0.0)),),\n",
       " 'type': 'Polygon'}"
      ]
     },
     "execution_count": 7,
     "metadata": {},
     "output_type": "execute_result"
    }
   ],
   "source": [
    "square.__geo_interface__"
   ]
  },
  {
   "cell_type": "markdown",
   "metadata": {},
   "source": [
    "## EXTRA BONUS\n",
    "\n",
    "Try plotting your geometries with `matplotlib` (and `descartes` to help with polygons)."
   ]
  },
  {
   "cell_type": "code",
   "execution_count": null,
   "metadata": {
    "collapsed": true
   },
   "outputs": [],
   "source": []
  }
 ],
 "metadata": {
  "kernelspec": {
   "display_name": "Python 2",
   "language": "python",
   "name": "python2"
  },
  "language_info": {
   "name": "python",
   "version": "2.7.9"
  }
 },
 "nbformat": 4,
 "nbformat_minor": 0
}

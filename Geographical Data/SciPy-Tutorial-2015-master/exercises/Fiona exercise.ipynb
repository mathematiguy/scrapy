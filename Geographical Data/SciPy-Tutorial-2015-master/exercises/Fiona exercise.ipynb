{
 "cells": [
  {
   "cell_type": "code",
   "execution_count": null,
   "metadata": {
    "collapsed": false
   },
   "outputs": [],
   "source": [
    "import os\n",
    "import fiona\n",
    "from matplotlib import pyplot as plt\n",
    "%matplotlib inline\n",
    "\n",
    "input_file = os.path.join(os.path.abspath('..'), 'examples', 'nybb_15b', 'nybb.shp')\n",
    "if os.path.exists(input_file):\n",
    "    print('Input file:', input_file)\n",
    "else:\n",
    "    print('Please download the tutorial data or fix the path!')"
   ]
  },
  {
   "cell_type": "markdown",
   "metadata": {},
   "source": [
    "## Part 1\n",
    "\n",
    "Use the command line tool `fio` to explore this file. Although it is possible do this with `!fio` in this notebook, I recommend using a terminal window (command shell).\n",
    "\n",
    "- How many features are there in the file?\n",
    "- What is the coordinate reference system?"
   ]
  },
  {
   "cell_type": "markdown",
   "metadata": {},
   "source": [
    "## Part 2\n",
    "\n",
    "Load the `input_file` with Fiona in python.\n",
    "\n",
    "- What type of geometries are in each feature?\n",
    "- What `properties` are on each feature?\n",
    "\n",
    "(Hint: each feature is a dictionary.)"
   ]
  },
  {
   "cell_type": "code",
   "execution_count": null,
   "metadata": {
    "collapsed": false,
    "scrolled": true
   },
   "outputs": [],
   "source": [
    "with fiona.open(input_file) as src:\n",
    "    f = src.next()\n",
    "    print(f['geometry']['type'])\n",
    "    print(f['properties'])"
   ]
  },
  {
   "cell_type": "markdown",
   "metadata": {},
   "source": [
    "## BONUS\n",
    "\n",
    "Look at the `coordinates` of the first geometry. The structures here are nested, but ultimately you can get down to the x, y pairs that make up each part of the geometry. Try separating out parts of the geometry to plot them."
   ]
  },
  {
   "cell_type": "code",
   "execution_count": null,
   "metadata": {
    "collapsed": true
   },
   "outputs": [],
   "source": []
  }
 ],
 "metadata": {
  "kernelspec": {
   "display_name": "Python 2",
   "language": "python",
   "name": "python2"
  },
  "language_info": {
   "codemirror_mode": {
    "name": "ipython",
    "version": 2
   },
   "file_extension": ".py",
   "mimetype": "text/x-python",
   "name": "python",
   "nbconvert_exporter": "python",
   "pygments_lexer": "ipython2",
   "version": "2.7.9"
  }
 },
 "nbformat": 4,
 "nbformat_minor": 0
}
